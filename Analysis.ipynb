{
 "cells": [
  {
   "cell_type": "code",
   "execution_count": 1,
   "metadata": {},
   "outputs": [],
   "source": [
    "import pandas as pd\n",
    "import numpy as np\n",
    "import plotly.express as px\n",
    "import plotly.graph_objects as go\n",
    "from plotly.subplots import make_subplots\n",
    "import warnings\n",
    "warnings.filterwarnings('ignore')"
   ]
  },
  {
   "cell_type": "code",
   "execution_count": 2,
   "metadata": {},
   "outputs": [
    {
     "name": "stdout",
     "output_type": "stream",
     "text": [
      "Dataset shape: (41188, 21)\n"
     ]
    },
    {
     "data": {
      "text/html": [
       "<div>\n",
       "<style scoped>\n",
       "    .dataframe tbody tr th:only-of-type {\n",
       "        vertical-align: middle;\n",
       "    }\n",
       "\n",
       "    .dataframe tbody tr th {\n",
       "        vertical-align: top;\n",
       "    }\n",
       "\n",
       "    .dataframe thead th {\n",
       "        text-align: right;\n",
       "    }\n",
       "</style>\n",
       "<table border=\"1\" class=\"dataframe\">\n",
       "  <thead>\n",
       "    <tr style=\"text-align: right;\">\n",
       "      <th></th>\n",
       "      <th>age</th>\n",
       "      <th>job</th>\n",
       "      <th>marital</th>\n",
       "      <th>education</th>\n",
       "      <th>default</th>\n",
       "      <th>housing</th>\n",
       "      <th>loan</th>\n",
       "      <th>contact</th>\n",
       "      <th>month</th>\n",
       "      <th>day_of_week</th>\n",
       "      <th>...</th>\n",
       "      <th>campaign</th>\n",
       "      <th>pdays</th>\n",
       "      <th>previous</th>\n",
       "      <th>poutcome</th>\n",
       "      <th>emp.var.rate</th>\n",
       "      <th>cons.price.idx</th>\n",
       "      <th>cons.conf.idx</th>\n",
       "      <th>euribor3m</th>\n",
       "      <th>nr.employed</th>\n",
       "      <th>y</th>\n",
       "    </tr>\n",
       "  </thead>\n",
       "  <tbody>\n",
       "    <tr>\n",
       "      <th>0</th>\n",
       "      <td>56</td>\n",
       "      <td>housemaid</td>\n",
       "      <td>married</td>\n",
       "      <td>basic.4y</td>\n",
       "      <td>no</td>\n",
       "      <td>no</td>\n",
       "      <td>no</td>\n",
       "      <td>telephone</td>\n",
       "      <td>may</td>\n",
       "      <td>mon</td>\n",
       "      <td>...</td>\n",
       "      <td>1</td>\n",
       "      <td>999</td>\n",
       "      <td>0</td>\n",
       "      <td>nonexistent</td>\n",
       "      <td>1.1</td>\n",
       "      <td>93.994</td>\n",
       "      <td>-36.4</td>\n",
       "      <td>4.857</td>\n",
       "      <td>5191.0</td>\n",
       "      <td>no</td>\n",
       "    </tr>\n",
       "    <tr>\n",
       "      <th>1</th>\n",
       "      <td>57</td>\n",
       "      <td>services</td>\n",
       "      <td>married</td>\n",
       "      <td>high.school</td>\n",
       "      <td>unknown</td>\n",
       "      <td>no</td>\n",
       "      <td>no</td>\n",
       "      <td>telephone</td>\n",
       "      <td>may</td>\n",
       "      <td>mon</td>\n",
       "      <td>...</td>\n",
       "      <td>1</td>\n",
       "      <td>999</td>\n",
       "      <td>0</td>\n",
       "      <td>nonexistent</td>\n",
       "      <td>1.1</td>\n",
       "      <td>93.994</td>\n",
       "      <td>-36.4</td>\n",
       "      <td>4.857</td>\n",
       "      <td>5191.0</td>\n",
       "      <td>no</td>\n",
       "    </tr>\n",
       "    <tr>\n",
       "      <th>2</th>\n",
       "      <td>37</td>\n",
       "      <td>services</td>\n",
       "      <td>married</td>\n",
       "      <td>high.school</td>\n",
       "      <td>no</td>\n",
       "      <td>yes</td>\n",
       "      <td>no</td>\n",
       "      <td>telephone</td>\n",
       "      <td>may</td>\n",
       "      <td>mon</td>\n",
       "      <td>...</td>\n",
       "      <td>1</td>\n",
       "      <td>999</td>\n",
       "      <td>0</td>\n",
       "      <td>nonexistent</td>\n",
       "      <td>1.1</td>\n",
       "      <td>93.994</td>\n",
       "      <td>-36.4</td>\n",
       "      <td>4.857</td>\n",
       "      <td>5191.0</td>\n",
       "      <td>no</td>\n",
       "    </tr>\n",
       "    <tr>\n",
       "      <th>3</th>\n",
       "      <td>40</td>\n",
       "      <td>admin.</td>\n",
       "      <td>married</td>\n",
       "      <td>basic.6y</td>\n",
       "      <td>no</td>\n",
       "      <td>no</td>\n",
       "      <td>no</td>\n",
       "      <td>telephone</td>\n",
       "      <td>may</td>\n",
       "      <td>mon</td>\n",
       "      <td>...</td>\n",
       "      <td>1</td>\n",
       "      <td>999</td>\n",
       "      <td>0</td>\n",
       "      <td>nonexistent</td>\n",
       "      <td>1.1</td>\n",
       "      <td>93.994</td>\n",
       "      <td>-36.4</td>\n",
       "      <td>4.857</td>\n",
       "      <td>5191.0</td>\n",
       "      <td>no</td>\n",
       "    </tr>\n",
       "    <tr>\n",
       "      <th>4</th>\n",
       "      <td>56</td>\n",
       "      <td>services</td>\n",
       "      <td>married</td>\n",
       "      <td>high.school</td>\n",
       "      <td>no</td>\n",
       "      <td>no</td>\n",
       "      <td>yes</td>\n",
       "      <td>telephone</td>\n",
       "      <td>may</td>\n",
       "      <td>mon</td>\n",
       "      <td>...</td>\n",
       "      <td>1</td>\n",
       "      <td>999</td>\n",
       "      <td>0</td>\n",
       "      <td>nonexistent</td>\n",
       "      <td>1.1</td>\n",
       "      <td>93.994</td>\n",
       "      <td>-36.4</td>\n",
       "      <td>4.857</td>\n",
       "      <td>5191.0</td>\n",
       "      <td>no</td>\n",
       "    </tr>\n",
       "  </tbody>\n",
       "</table>\n",
       "<p>5 rows × 21 columns</p>\n",
       "</div>"
      ],
      "text/plain": [
       "   age        job  marital    education  default housing loan    contact  \\\n",
       "0   56  housemaid  married     basic.4y       no      no   no  telephone   \n",
       "1   57   services  married  high.school  unknown      no   no  telephone   \n",
       "2   37   services  married  high.school       no     yes   no  telephone   \n",
       "3   40     admin.  married     basic.6y       no      no   no  telephone   \n",
       "4   56   services  married  high.school       no      no  yes  telephone   \n",
       "\n",
       "  month day_of_week  ...  campaign  pdays  previous     poutcome emp.var.rate  \\\n",
       "0   may         mon  ...         1    999         0  nonexistent          1.1   \n",
       "1   may         mon  ...         1    999         0  nonexistent          1.1   \n",
       "2   may         mon  ...         1    999         0  nonexistent          1.1   \n",
       "3   may         mon  ...         1    999         0  nonexistent          1.1   \n",
       "4   may         mon  ...         1    999         0  nonexistent          1.1   \n",
       "\n",
       "   cons.price.idx  cons.conf.idx  euribor3m  nr.employed   y  \n",
       "0          93.994          -36.4      4.857       5191.0  no  \n",
       "1          93.994          -36.4      4.857       5191.0  no  \n",
       "2          93.994          -36.4      4.857       5191.0  no  \n",
       "3          93.994          -36.4      4.857       5191.0  no  \n",
       "4          93.994          -36.4      4.857       5191.0  no  \n",
       "\n",
       "[5 rows x 21 columns]"
      ]
     },
     "execution_count": 2,
     "metadata": {},
     "output_type": "execute_result"
    }
   ],
   "source": [
    "df = pd.read_csv('bank-additional-full.csv', delimiter=';')\n",
    "print(f\"Dataset shape: {df.shape}\")\n",
    "df.head()"
   ]
  },
  {
   "cell_type": "code",
   "execution_count": 3,
   "metadata": {},
   "outputs": [],
   "source": [
    "# Convert target variable to binary\n",
    "df['converted'] = df['y'].apply(lambda x: 1 if x == 'yes' else 0)"
   ]
  },
  {
   "cell_type": "code",
   "execution_count": 4,
   "metadata": {},
   "outputs": [
    {
     "name": "stdout",
     "output_type": "stream",
     "text": [
      "Overall conversion rate: 11.27%\n"
     ]
    }
   ],
   "source": [
    "# Calculate overall conversion rate\n",
    "conversion_rate = df['converted'].mean()\n",
    "print(f\"Overall conversion rate: {conversion_rate:.2%}\")"
   ]
  },
  {
   "cell_type": "markdown",
   "metadata": {},
   "source": [
    "Key Drivers of Conversion"
   ]
  },
  {
   "cell_type": "code",
   "execution_count": 5,
   "metadata": {},
   "outputs": [
    {
     "data": {
      "text/html": [
       "<div>\n",
       "<style scoped>\n",
       "    .dataframe tbody tr th:only-of-type {\n",
       "        vertical-align: middle;\n",
       "    }\n",
       "\n",
       "    .dataframe tbody tr th {\n",
       "        vertical-align: top;\n",
       "    }\n",
       "\n",
       "    .dataframe thead th {\n",
       "        text-align: right;\n",
       "    }\n",
       "</style>\n",
       "<table border=\"1\" class=\"dataframe\">\n",
       "  <thead>\n",
       "    <tr style=\"text-align: right;\">\n",
       "      <th></th>\n",
       "      <th>Contact Method</th>\n",
       "      <th>Count</th>\n",
       "      <th>Conversion Rate</th>\n",
       "    </tr>\n",
       "  </thead>\n",
       "  <tbody>\n",
       "    <tr>\n",
       "      <th>0</th>\n",
       "      <td>cellular</td>\n",
       "      <td>26144</td>\n",
       "      <td>14.737607</td>\n",
       "    </tr>\n",
       "    <tr>\n",
       "      <th>1</th>\n",
       "      <td>telephone</td>\n",
       "      <td>15044</td>\n",
       "      <td>5.231321</td>\n",
       "    </tr>\n",
       "  </tbody>\n",
       "</table>\n",
       "</div>"
      ],
      "text/plain": [
       "  Contact Method  Count  Conversion Rate\n",
       "0       cellular  26144        14.737607\n",
       "1      telephone  15044         5.231321"
      ]
     },
     "execution_count": 5,
     "metadata": {},
     "output_type": "execute_result"
    }
   ],
   "source": [
    "#Calculate conversion rates by contact method\n",
    "contact_conversion = df.groupby('contact')['converted'].agg(['count', 'mean']).reset_index()\n",
    "contact_conversion.columns = ['Contact Method', 'Count', 'Conversion Rate']\n",
    "contact_conversion['Conversion Rate'] = contact_conversion['Conversion Rate'] * 100\n",
    "contact_conversion\n",
    "\n"
   ]
  },
  {
   "cell_type": "markdown",
   "metadata": {},
   "source": [
    "The table highlights shows that customers contacted via cellular phones have a significantly higher conversion rate compared to those contacted through traditional telephone lines. This substantial difference suggests that:\n",
    "\n",
    "1. Mobile users may be more receptive to marketing calls\n",
    "2. They tend to be more reachable and possibly more engaged during calls.\n",
    "3. The profile of mobile users may correspond more closely to individuals likely to sign a contract following initial contact.\n",
    "\n",
    "**Recommendation:** Prioritize contacting customers on their mobile/cellular phones when possible. Consider a sequential approach where customers are first attempted via mobile, and only contacted on landlines if mobile contact isn't successful.\n"
   ]
  },
  {
   "cell_type": "code",
   "execution_count": 6,
   "metadata": {},
   "outputs": [
    {
     "name": "stdout",
     "output_type": "stream",
     "text": [
      "\n",
      "## Previous Marketing Outcome Analysis\n"
     ]
    },
    {
     "data": {
      "text/html": [
       "<div>\n",
       "<style scoped>\n",
       "    .dataframe tbody tr th:only-of-type {\n",
       "        vertical-align: middle;\n",
       "    }\n",
       "\n",
       "    .dataframe tbody tr th {\n",
       "        vertical-align: top;\n",
       "    }\n",
       "\n",
       "    .dataframe thead th {\n",
       "        text-align: right;\n",
       "    }\n",
       "</style>\n",
       "<table border=\"1\" class=\"dataframe\">\n",
       "  <thead>\n",
       "    <tr style=\"text-align: right;\">\n",
       "      <th></th>\n",
       "      <th>Previous Outcome</th>\n",
       "      <th>Count</th>\n",
       "      <th>Conversion Rate</th>\n",
       "    </tr>\n",
       "  </thead>\n",
       "  <tbody>\n",
       "    <tr>\n",
       "      <th>0</th>\n",
       "      <td>failure</td>\n",
       "      <td>4252</td>\n",
       "      <td>14.228598</td>\n",
       "    </tr>\n",
       "    <tr>\n",
       "      <th>1</th>\n",
       "      <td>nonexistent</td>\n",
       "      <td>35563</td>\n",
       "      <td>8.832213</td>\n",
       "    </tr>\n",
       "    <tr>\n",
       "      <th>2</th>\n",
       "      <td>success</td>\n",
       "      <td>1373</td>\n",
       "      <td>65.112891</td>\n",
       "    </tr>\n",
       "  </tbody>\n",
       "</table>\n",
       "</div>"
      ],
      "text/plain": [
       "  Previous Outcome  Count  Conversion Rate\n",
       "0          failure   4252        14.228598\n",
       "1      nonexistent  35563         8.832213\n",
       "2          success   1373        65.112891"
      ]
     },
     "execution_count": 6,
     "metadata": {},
     "output_type": "execute_result"
    }
   ],
   "source": [
    "# Previous Marketing Outcome Analysis\n",
    "print(\"\\n## Previous Marketing Outcome Analysis\")\n",
    "\n",
    "# Calculate conversion rates by previous outcome\n",
    "poutcome_conversion = df.groupby('poutcome')['converted'].agg(['count', 'mean']).reset_index()\n",
    "poutcome_conversion.columns = ['Previous Outcome', 'Count', 'Conversion Rate']\n",
    "poutcome_conversion['Conversion Rate'] = poutcome_conversion['Conversion Rate'] * 100\n",
    "poutcome_conversion"
   ]
  },
  {
   "cell_type": "markdown",
   "metadata": {},
   "source": [
    "The table highlights reveals a dramatic pattern in conversion rates based on previous marketing campaign outcomes:\n",
    "\n",
    "1. **Previous Success (65%)**: Customers who previously subscribed to a term deposit have an extremely high conversion rate, about 6 times the overall average. These customers should be top priority targets.\n",
    "\n",
    "2. **Previous Failure (14%)**: Interestingly, customers who were previously contacted but didn't convert still have a higher conversion rate than the overall average. This suggests multiple contacts can eventually lead to conversion.\n",
    "\n",
    "3. **Nonexistent (9%)**: Customers with no previous contact history have the lowest conversion rate, though it's still significant.\n",
    "\n",
    "**Recommendation:** Implement a tiered targeting strategy that heavily prioritizes previous successful customers, followed by previous contacts who didn't convert, and finally new prospects. This should be a primary factor in the predictive model."
   ]
  },
  {
   "cell_type": "code",
   "execution_count": 7,
   "metadata": {},
   "outputs": [
    {
     "data": {
      "text/html": [
       "<div>\n",
       "<style scoped>\n",
       "    .dataframe tbody tr th:only-of-type {\n",
       "        vertical-align: middle;\n",
       "    }\n",
       "\n",
       "    .dataframe tbody tr th {\n",
       "        vertical-align: top;\n",
       "    }\n",
       "\n",
       "    .dataframe thead th {\n",
       "        text-align: right;\n",
       "    }\n",
       "</style>\n",
       "<table border=\"1\" class=\"dataframe\">\n",
       "  <thead>\n",
       "    <tr style=\"text-align: right;\">\n",
       "      <th></th>\n",
       "      <th>Job</th>\n",
       "      <th>Count</th>\n",
       "      <th>Conversion Rate</th>\n",
       "    </tr>\n",
       "  </thead>\n",
       "  <tbody>\n",
       "    <tr>\n",
       "      <th>8</th>\n",
       "      <td>student</td>\n",
       "      <td>875</td>\n",
       "      <td>31.428571</td>\n",
       "    </tr>\n",
       "    <tr>\n",
       "      <th>5</th>\n",
       "      <td>retired</td>\n",
       "      <td>1720</td>\n",
       "      <td>25.232558</td>\n",
       "    </tr>\n",
       "    <tr>\n",
       "      <th>10</th>\n",
       "      <td>unemployed</td>\n",
       "      <td>1014</td>\n",
       "      <td>14.201183</td>\n",
       "    </tr>\n",
       "    <tr>\n",
       "      <th>0</th>\n",
       "      <td>admin.</td>\n",
       "      <td>10422</td>\n",
       "      <td>12.972558</td>\n",
       "    </tr>\n",
       "    <tr>\n",
       "      <th>4</th>\n",
       "      <td>management</td>\n",
       "      <td>2924</td>\n",
       "      <td>11.217510</td>\n",
       "    </tr>\n",
       "    <tr>\n",
       "      <th>11</th>\n",
       "      <td>unknown</td>\n",
       "      <td>330</td>\n",
       "      <td>11.212121</td>\n",
       "    </tr>\n",
       "    <tr>\n",
       "      <th>9</th>\n",
       "      <td>technician</td>\n",
       "      <td>6743</td>\n",
       "      <td>10.826042</td>\n",
       "    </tr>\n",
       "    <tr>\n",
       "      <th>6</th>\n",
       "      <td>self-employed</td>\n",
       "      <td>1421</td>\n",
       "      <td>10.485574</td>\n",
       "    </tr>\n",
       "    <tr>\n",
       "      <th>3</th>\n",
       "      <td>housemaid</td>\n",
       "      <td>1060</td>\n",
       "      <td>10.000000</td>\n",
       "    </tr>\n",
       "    <tr>\n",
       "      <th>2</th>\n",
       "      <td>entrepreneur</td>\n",
       "      <td>1456</td>\n",
       "      <td>8.516484</td>\n",
       "    </tr>\n",
       "    <tr>\n",
       "      <th>7</th>\n",
       "      <td>services</td>\n",
       "      <td>3969</td>\n",
       "      <td>8.138070</td>\n",
       "    </tr>\n",
       "    <tr>\n",
       "      <th>1</th>\n",
       "      <td>blue-collar</td>\n",
       "      <td>9254</td>\n",
       "      <td>6.894316</td>\n",
       "    </tr>\n",
       "  </tbody>\n",
       "</table>\n",
       "</div>"
      ],
      "text/plain": [
       "              Job  Count  Conversion Rate\n",
       "8         student    875        31.428571\n",
       "5         retired   1720        25.232558\n",
       "10     unemployed   1014        14.201183\n",
       "0          admin.  10422        12.972558\n",
       "4      management   2924        11.217510\n",
       "11        unknown    330        11.212121\n",
       "9      technician   6743        10.826042\n",
       "6   self-employed   1421        10.485574\n",
       "3       housemaid   1060        10.000000\n",
       "2    entrepreneur   1456         8.516484\n",
       "7        services   3969         8.138070\n",
       "1     blue-collar   9254         6.894316"
      ]
     },
     "execution_count": 7,
     "metadata": {},
     "output_type": "execute_result"
    }
   ],
   "source": [
    "# Job Type Analysis\n",
    "# Calculate conversion rates by job type\n",
    "job_conversion = df.groupby('job')['converted'].agg(['count', 'mean']).reset_index()\n",
    "job_conversion.columns = ['Job', 'Count', 'Conversion Rate']\n",
    "job_conversion['Conversion Rate'] = job_conversion['Conversion Rate'] * 100\n",
    "job_conversion = job_conversion.sort_values('Conversion Rate', ascending=False)\n",
    "job_conversion"
   ]
  },
  {
   "cell_type": "code",
   "execution_count": 8,
   "metadata": {},
   "outputs": [
    {
     "data": {
      "application/vnd.plotly.v1+json": {
       "config": {
        "plotlyServerURL": "https://plot.ly"
       },
       "data": [
        {
         "hovertemplate": "Conversion Rate (%)=%{marker.color}<br>Job=%{y}<br>text=%{text}<extra></extra>",
         "legendgroup": "",
         "marker": {
          "color": {
           "bdata": "27Zt27ZtP0CPuCPuiDs5QKt3yYMBZyxAM9D2IPPxKUCryDmBXW8mQG2yySabbCZAquod9O6mJUCNJlIYnfgkQAAAAAAAACRAh3AIh3AIIUCECt0dsUYgQB0M55DHkxtA",
           "dtype": "f8"
          },
          "coloraxis": "coloraxis",
          "pattern": {
           "shape": ""
          }
         },
         "name": "",
         "orientation": "h",
         "showlegend": false,
         "text": [
          "31.4%",
          "25.2%",
          "14.2%",
          "13.0%",
          "11.2%",
          "11.2%",
          "10.8%",
          "10.5%",
          "10.0%",
          "8.5%",
          "8.1%",
          "6.9%"
         ],
         "textposition": "auto",
         "type": "bar",
         "x": {
          "bdata": "27Zt27ZtP0CPuCPuiDs5QKt3yYMBZyxAM9D2IPPxKUCryDmBXW8mQG2yySabbCZAquod9O6mJUCNJlIYnfgkQAAAAAAAACRAh3AIh3AIIUCECt0dsUYgQB0M55DHkxtA",
          "dtype": "f8"
         },
         "xaxis": "x",
         "y": [
          "student",
          "retired",
          "unemployed",
          "admin.",
          "management",
          "unknown",
          "technician",
          "self-employed",
          "housemaid",
          "entrepreneur",
          "services",
          "blue-collar"
         ],
         "yaxis": "y"
        }
       ],
       "layout": {
        "barmode": "relative",
        "coloraxis": {
         "colorbar": {
          "title": {
           "text": "Conversion Rate (%)"
          }
         },
         "colorscale": [
          [
           0,
           "#440154"
          ],
          [
           0.1111111111111111,
           "#482878"
          ],
          [
           0.2222222222222222,
           "#3e4989"
          ],
          [
           0.3333333333333333,
           "#31688e"
          ],
          [
           0.4444444444444444,
           "#26828e"
          ],
          [
           0.5555555555555556,
           "#1f9e89"
          ],
          [
           0.6666666666666666,
           "#35b779"
          ],
          [
           0.7777777777777778,
           "#6ece58"
          ],
          [
           0.8888888888888888,
           "#b5de2b"
          ],
          [
           1,
           "#fde725"
          ]
         ],
         "showscale": false
        },
        "height": 600,
        "legend": {
         "tracegroupgap": 0
        },
        "template": {
         "data": {
          "bar": [
           {
            "error_x": {
             "color": "#2a3f5f"
            },
            "error_y": {
             "color": "#2a3f5f"
            },
            "marker": {
             "line": {
              "color": "#E5ECF6",
              "width": 0.5
             },
             "pattern": {
              "fillmode": "overlay",
              "size": 10,
              "solidity": 0.2
             }
            },
            "type": "bar"
           }
          ],
          "barpolar": [
           {
            "marker": {
             "line": {
              "color": "#E5ECF6",
              "width": 0.5
             },
             "pattern": {
              "fillmode": "overlay",
              "size": 10,
              "solidity": 0.2
             }
            },
            "type": "barpolar"
           }
          ],
          "carpet": [
           {
            "aaxis": {
             "endlinecolor": "#2a3f5f",
             "gridcolor": "white",
             "linecolor": "white",
             "minorgridcolor": "white",
             "startlinecolor": "#2a3f5f"
            },
            "baxis": {
             "endlinecolor": "#2a3f5f",
             "gridcolor": "white",
             "linecolor": "white",
             "minorgridcolor": "white",
             "startlinecolor": "#2a3f5f"
            },
            "type": "carpet"
           }
          ],
          "choropleth": [
           {
            "colorbar": {
             "outlinewidth": 0,
             "ticks": ""
            },
            "type": "choropleth"
           }
          ],
          "contour": [
           {
            "colorbar": {
             "outlinewidth": 0,
             "ticks": ""
            },
            "colorscale": [
             [
              0,
              "#0d0887"
             ],
             [
              0.1111111111111111,
              "#46039f"
             ],
             [
              0.2222222222222222,
              "#7201a8"
             ],
             [
              0.3333333333333333,
              "#9c179e"
             ],
             [
              0.4444444444444444,
              "#bd3786"
             ],
             [
              0.5555555555555556,
              "#d8576b"
             ],
             [
              0.6666666666666666,
              "#ed7953"
             ],
             [
              0.7777777777777778,
              "#fb9f3a"
             ],
             [
              0.8888888888888888,
              "#fdca26"
             ],
             [
              1,
              "#f0f921"
             ]
            ],
            "type": "contour"
           }
          ],
          "contourcarpet": [
           {
            "colorbar": {
             "outlinewidth": 0,
             "ticks": ""
            },
            "type": "contourcarpet"
           }
          ],
          "heatmap": [
           {
            "colorbar": {
             "outlinewidth": 0,
             "ticks": ""
            },
            "colorscale": [
             [
              0,
              "#0d0887"
             ],
             [
              0.1111111111111111,
              "#46039f"
             ],
             [
              0.2222222222222222,
              "#7201a8"
             ],
             [
              0.3333333333333333,
              "#9c179e"
             ],
             [
              0.4444444444444444,
              "#bd3786"
             ],
             [
              0.5555555555555556,
              "#d8576b"
             ],
             [
              0.6666666666666666,
              "#ed7953"
             ],
             [
              0.7777777777777778,
              "#fb9f3a"
             ],
             [
              0.8888888888888888,
              "#fdca26"
             ],
             [
              1,
              "#f0f921"
             ]
            ],
            "type": "heatmap"
           }
          ],
          "histogram": [
           {
            "marker": {
             "pattern": {
              "fillmode": "overlay",
              "size": 10,
              "solidity": 0.2
             }
            },
            "type": "histogram"
           }
          ],
          "histogram2d": [
           {
            "colorbar": {
             "outlinewidth": 0,
             "ticks": ""
            },
            "colorscale": [
             [
              0,
              "#0d0887"
             ],
             [
              0.1111111111111111,
              "#46039f"
             ],
             [
              0.2222222222222222,
              "#7201a8"
             ],
             [
              0.3333333333333333,
              "#9c179e"
             ],
             [
              0.4444444444444444,
              "#bd3786"
             ],
             [
              0.5555555555555556,
              "#d8576b"
             ],
             [
              0.6666666666666666,
              "#ed7953"
             ],
             [
              0.7777777777777778,
              "#fb9f3a"
             ],
             [
              0.8888888888888888,
              "#fdca26"
             ],
             [
              1,
              "#f0f921"
             ]
            ],
            "type": "histogram2d"
           }
          ],
          "histogram2dcontour": [
           {
            "colorbar": {
             "outlinewidth": 0,
             "ticks": ""
            },
            "colorscale": [
             [
              0,
              "#0d0887"
             ],
             [
              0.1111111111111111,
              "#46039f"
             ],
             [
              0.2222222222222222,
              "#7201a8"
             ],
             [
              0.3333333333333333,
              "#9c179e"
             ],
             [
              0.4444444444444444,
              "#bd3786"
             ],
             [
              0.5555555555555556,
              "#d8576b"
             ],
             [
              0.6666666666666666,
              "#ed7953"
             ],
             [
              0.7777777777777778,
              "#fb9f3a"
             ],
             [
              0.8888888888888888,
              "#fdca26"
             ],
             [
              1,
              "#f0f921"
             ]
            ],
            "type": "histogram2dcontour"
           }
          ],
          "mesh3d": [
           {
            "colorbar": {
             "outlinewidth": 0,
             "ticks": ""
            },
            "type": "mesh3d"
           }
          ],
          "parcoords": [
           {
            "line": {
             "colorbar": {
              "outlinewidth": 0,
              "ticks": ""
             }
            },
            "type": "parcoords"
           }
          ],
          "pie": [
           {
            "automargin": true,
            "type": "pie"
           }
          ],
          "scatter": [
           {
            "fillpattern": {
             "fillmode": "overlay",
             "size": 10,
             "solidity": 0.2
            },
            "type": "scatter"
           }
          ],
          "scatter3d": [
           {
            "line": {
             "colorbar": {
              "outlinewidth": 0,
              "ticks": ""
             }
            },
            "marker": {
             "colorbar": {
              "outlinewidth": 0,
              "ticks": ""
             }
            },
            "type": "scatter3d"
           }
          ],
          "scattercarpet": [
           {
            "marker": {
             "colorbar": {
              "outlinewidth": 0,
              "ticks": ""
             }
            },
            "type": "scattercarpet"
           }
          ],
          "scattergeo": [
           {
            "marker": {
             "colorbar": {
              "outlinewidth": 0,
              "ticks": ""
             }
            },
            "type": "scattergeo"
           }
          ],
          "scattergl": [
           {
            "marker": {
             "colorbar": {
              "outlinewidth": 0,
              "ticks": ""
             }
            },
            "type": "scattergl"
           }
          ],
          "scattermap": [
           {
            "marker": {
             "colorbar": {
              "outlinewidth": 0,
              "ticks": ""
             }
            },
            "type": "scattermap"
           }
          ],
          "scattermapbox": [
           {
            "marker": {
             "colorbar": {
              "outlinewidth": 0,
              "ticks": ""
             }
            },
            "type": "scattermapbox"
           }
          ],
          "scatterpolar": [
           {
            "marker": {
             "colorbar": {
              "outlinewidth": 0,
              "ticks": ""
             }
            },
            "type": "scatterpolar"
           }
          ],
          "scatterpolargl": [
           {
            "marker": {
             "colorbar": {
              "outlinewidth": 0,
              "ticks": ""
             }
            },
            "type": "scatterpolargl"
           }
          ],
          "scatterternary": [
           {
            "marker": {
             "colorbar": {
              "outlinewidth": 0,
              "ticks": ""
             }
            },
            "type": "scatterternary"
           }
          ],
          "surface": [
           {
            "colorbar": {
             "outlinewidth": 0,
             "ticks": ""
            },
            "colorscale": [
             [
              0,
              "#0d0887"
             ],
             [
              0.1111111111111111,
              "#46039f"
             ],
             [
              0.2222222222222222,
              "#7201a8"
             ],
             [
              0.3333333333333333,
              "#9c179e"
             ],
             [
              0.4444444444444444,
              "#bd3786"
             ],
             [
              0.5555555555555556,
              "#d8576b"
             ],
             [
              0.6666666666666666,
              "#ed7953"
             ],
             [
              0.7777777777777778,
              "#fb9f3a"
             ],
             [
              0.8888888888888888,
              "#fdca26"
             ],
             [
              1,
              "#f0f921"
             ]
            ],
            "type": "surface"
           }
          ],
          "table": [
           {
            "cells": {
             "fill": {
              "color": "#EBF0F8"
             },
             "line": {
              "color": "white"
             }
            },
            "header": {
             "fill": {
              "color": "#C8D4E3"
             },
             "line": {
              "color": "white"
             }
            },
            "type": "table"
           }
          ]
         },
         "layout": {
          "annotationdefaults": {
           "arrowcolor": "#2a3f5f",
           "arrowhead": 0,
           "arrowwidth": 1
          },
          "autotypenumbers": "strict",
          "coloraxis": {
           "colorbar": {
            "outlinewidth": 0,
            "ticks": ""
           }
          },
          "colorscale": {
           "diverging": [
            [
             0,
             "#8e0152"
            ],
            [
             0.1,
             "#c51b7d"
            ],
            [
             0.2,
             "#de77ae"
            ],
            [
             0.3,
             "#f1b6da"
            ],
            [
             0.4,
             "#fde0ef"
            ],
            [
             0.5,
             "#f7f7f7"
            ],
            [
             0.6,
             "#e6f5d0"
            ],
            [
             0.7,
             "#b8e186"
            ],
            [
             0.8,
             "#7fbc41"
            ],
            [
             0.9,
             "#4d9221"
            ],
            [
             1,
             "#276419"
            ]
           ],
           "sequential": [
            [
             0,
             "#0d0887"
            ],
            [
             0.1111111111111111,
             "#46039f"
            ],
            [
             0.2222222222222222,
             "#7201a8"
            ],
            [
             0.3333333333333333,
             "#9c179e"
            ],
            [
             0.4444444444444444,
             "#bd3786"
            ],
            [
             0.5555555555555556,
             "#d8576b"
            ],
            [
             0.6666666666666666,
             "#ed7953"
            ],
            [
             0.7777777777777778,
             "#fb9f3a"
            ],
            [
             0.8888888888888888,
             "#fdca26"
            ],
            [
             1,
             "#f0f921"
            ]
           ],
           "sequentialminus": [
            [
             0,
             "#0d0887"
            ],
            [
             0.1111111111111111,
             "#46039f"
            ],
            [
             0.2222222222222222,
             "#7201a8"
            ],
            [
             0.3333333333333333,
             "#9c179e"
            ],
            [
             0.4444444444444444,
             "#bd3786"
            ],
            [
             0.5555555555555556,
             "#d8576b"
            ],
            [
             0.6666666666666666,
             "#ed7953"
            ],
            [
             0.7777777777777778,
             "#fb9f3a"
            ],
            [
             0.8888888888888888,
             "#fdca26"
            ],
            [
             1,
             "#f0f921"
            ]
           ]
          },
          "colorway": [
           "#636efa",
           "#EF553B",
           "#00cc96",
           "#ab63fa",
           "#FFA15A",
           "#19d3f3",
           "#FF6692",
           "#B6E880",
           "#FF97FF",
           "#FECB52"
          ],
          "font": {
           "color": "#2a3f5f"
          },
          "geo": {
           "bgcolor": "white",
           "lakecolor": "white",
           "landcolor": "#E5ECF6",
           "showlakes": true,
           "showland": true,
           "subunitcolor": "white"
          },
          "hoverlabel": {
           "align": "left"
          },
          "hovermode": "closest",
          "mapbox": {
           "style": "light"
          },
          "paper_bgcolor": "white",
          "plot_bgcolor": "#E5ECF6",
          "polar": {
           "angularaxis": {
            "gridcolor": "white",
            "linecolor": "white",
            "ticks": ""
           },
           "bgcolor": "#E5ECF6",
           "radialaxis": {
            "gridcolor": "white",
            "linecolor": "white",
            "ticks": ""
           }
          },
          "scene": {
           "xaxis": {
            "backgroundcolor": "#E5ECF6",
            "gridcolor": "white",
            "gridwidth": 2,
            "linecolor": "white",
            "showbackground": true,
            "ticks": "",
            "zerolinecolor": "white"
           },
           "yaxis": {
            "backgroundcolor": "#E5ECF6",
            "gridcolor": "white",
            "gridwidth": 2,
            "linecolor": "white",
            "showbackground": true,
            "ticks": "",
            "zerolinecolor": "white"
           },
           "zaxis": {
            "backgroundcolor": "#E5ECF6",
            "gridcolor": "white",
            "gridwidth": 2,
            "linecolor": "white",
            "showbackground": true,
            "ticks": "",
            "zerolinecolor": "white"
           }
          },
          "shapedefaults": {
           "line": {
            "color": "#2a3f5f"
           }
          },
          "ternary": {
           "aaxis": {
            "gridcolor": "white",
            "linecolor": "white",
            "ticks": ""
           },
           "baxis": {
            "gridcolor": "white",
            "linecolor": "white",
            "ticks": ""
           },
           "bgcolor": "#E5ECF6",
           "caxis": {
            "gridcolor": "white",
            "linecolor": "white",
            "ticks": ""
           }
          },
          "title": {
           "x": 0.05
          },
          "xaxis": {
           "automargin": true,
           "gridcolor": "white",
           "linecolor": "white",
           "ticks": "",
           "title": {
            "standoff": 15
           },
           "zerolinecolor": "white",
           "zerolinewidth": 2
          },
          "yaxis": {
           "automargin": true,
           "gridcolor": "white",
           "linecolor": "white",
           "ticks": "",
           "title": {
            "standoff": 15
           },
           "zerolinecolor": "white",
           "zerolinewidth": 2
          }
         }
        },
        "title": {
         "text": "Conversion Rate by Job Type"
        },
        "xaxis": {
         "anchor": "y",
         "domain": [
          0,
          1
         ],
         "title": {
          "text": "Conversion Rate (%)"
         }
        },
        "yaxis": {
         "anchor": "x",
         "domain": [
          0,
          1
         ],
         "title": {}
        }
       }
      }
     },
     "metadata": {},
     "output_type": "display_data"
    }
   ],
   "source": [
    "fig_job = px.bar(\n",
    "    job_conversion, \n",
    "    y='Job', \n",
    "    x='Conversion Rate',\n",
    "    color='Conversion Rate',\n",
    "    color_continuous_scale='Viridis',\n",
    "    text=job_conversion['Conversion Rate'].apply(lambda x: f\"{x:.1f}%\"),\n",
    "    title='Conversion Rate by Job Type',\n",
    "    labels={'Conversion Rate': 'Conversion Rate (%)'},\n",
    "    height=600\n",
    ")\n",
    "\n",
    "fig_job.update_layout(\n",
    "    yaxis_title=None,\n",
    "    xaxis_title='Conversion Rate (%)',\n",
    "    coloraxis_showscale=False\n",
    ")\n",
    "\n",
    "fig_job.show()"
   ]
  },
  {
   "cell_type": "markdown",
   "metadata": {},
   "source": [
    "The job type visualization reveal several interesting patterns:\n",
    "\n",
    "1. **Students and Retired Individuals**: These groups have the highest conversion rates at approximately 31% and 25% respectively. This suggests that people who potentially have more:\n",
    "   - Free time to consider financial decisions\n",
    "   - Interest in saving money for the future (students) or maximizing returns on existing assets (retired)\n",
    "   \n",
    "2. **Middle-Tier Conversion Groups**: Unemployed, admin, and management roles show moderate conversion rates between 11-14%.\n",
    "\n",
    "3. **Lower Conversion Groups**: Blue-collar workers, entrepreneurs, and housemaids have the lowest conversion rates, possibly due to:\n",
    "   - Lower disposable income\n",
    "   - Less financial flexibility\n",
    "   - Different financial priorities\n",
    "\n",
    "The sample size chart helps us assess the reliability of these findings. For example, while students have high conversion rates, they represent a smaller portion of the customer base compared to admin or blue-collar workers.\n",
    "\n",
    "**Recommendation:** Consider occupation as a strong predictor in the model, with special attention to student and retired segments for targeted campaigns.\n"
   ]
  },
  {
   "cell_type": "code",
   "execution_count": 9,
   "metadata": {},
   "outputs": [
    {
     "data": {
      "text/html": [
       "<div>\n",
       "<style scoped>\n",
       "    .dataframe tbody tr th:only-of-type {\n",
       "        vertical-align: middle;\n",
       "    }\n",
       "\n",
       "    .dataframe tbody tr th {\n",
       "        vertical-align: top;\n",
       "    }\n",
       "\n",
       "    .dataframe thead th {\n",
       "        text-align: right;\n",
       "    }\n",
       "</style>\n",
       "<table border=\"1\" class=\"dataframe\">\n",
       "  <thead>\n",
       "    <tr style=\"text-align: right;\">\n",
       "      <th></th>\n",
       "      <th>Month</th>\n",
       "      <th>Count</th>\n",
       "      <th>Conversion Rate</th>\n",
       "      <th>Month_order</th>\n",
       "    </tr>\n",
       "  </thead>\n",
       "  <tbody>\n",
       "    <tr>\n",
       "      <th>5</th>\n",
       "      <td>mar</td>\n",
       "      <td>546</td>\n",
       "      <td>50.549451</td>\n",
       "      <td>3</td>\n",
       "    </tr>\n",
       "    <tr>\n",
       "      <th>0</th>\n",
       "      <td>apr</td>\n",
       "      <td>2632</td>\n",
       "      <td>20.478723</td>\n",
       "      <td>4</td>\n",
       "    </tr>\n",
       "    <tr>\n",
       "      <th>6</th>\n",
       "      <td>may</td>\n",
       "      <td>13769</td>\n",
       "      <td>6.434745</td>\n",
       "      <td>5</td>\n",
       "    </tr>\n",
       "    <tr>\n",
       "      <th>4</th>\n",
       "      <td>jun</td>\n",
       "      <td>5318</td>\n",
       "      <td>10.511470</td>\n",
       "      <td>6</td>\n",
       "    </tr>\n",
       "    <tr>\n",
       "      <th>3</th>\n",
       "      <td>jul</td>\n",
       "      <td>7174</td>\n",
       "      <td>9.046557</td>\n",
       "      <td>7</td>\n",
       "    </tr>\n",
       "    <tr>\n",
       "      <th>1</th>\n",
       "      <td>aug</td>\n",
       "      <td>6178</td>\n",
       "      <td>10.602137</td>\n",
       "      <td>8</td>\n",
       "    </tr>\n",
       "    <tr>\n",
       "      <th>9</th>\n",
       "      <td>sep</td>\n",
       "      <td>570</td>\n",
       "      <td>44.912281</td>\n",
       "      <td>9</td>\n",
       "    </tr>\n",
       "    <tr>\n",
       "      <th>8</th>\n",
       "      <td>oct</td>\n",
       "      <td>718</td>\n",
       "      <td>43.871866</td>\n",
       "      <td>10</td>\n",
       "    </tr>\n",
       "    <tr>\n",
       "      <th>7</th>\n",
       "      <td>nov</td>\n",
       "      <td>4101</td>\n",
       "      <td>10.143867</td>\n",
       "      <td>11</td>\n",
       "    </tr>\n",
       "    <tr>\n",
       "      <th>2</th>\n",
       "      <td>dec</td>\n",
       "      <td>182</td>\n",
       "      <td>48.901099</td>\n",
       "      <td>12</td>\n",
       "    </tr>\n",
       "  </tbody>\n",
       "</table>\n",
       "</div>"
      ],
      "text/plain": [
       "  Month  Count  Conversion Rate  Month_order\n",
       "5   mar    546        50.549451            3\n",
       "0   apr   2632        20.478723            4\n",
       "6   may  13769         6.434745            5\n",
       "4   jun   5318        10.511470            6\n",
       "3   jul   7174         9.046557            7\n",
       "1   aug   6178        10.602137            8\n",
       "9   sep    570        44.912281            9\n",
       "8   oct    718        43.871866           10\n",
       "7   nov   4101        10.143867           11\n",
       "2   dec    182        48.901099           12"
      ]
     },
     "execution_count": 9,
     "metadata": {},
     "output_type": "execute_result"
    }
   ],
   "source": [
    "# Monthly Patterns Analysis\n",
    "# Order months correctly\n",
    "month_order = ['jan', 'feb', 'mar', 'apr', 'may', 'jun', 'jul', 'aug', 'sep', 'oct', 'nov', 'dec']\n",
    "month_map = {month: i+1  for i, month in enumerate(month_order)}\n",
    "\n",
    "# Calculate conversion rates by month\n",
    "month_conversion = df.groupby('month')['converted'].agg(['count', 'mean']).reset_index()\n",
    "month_conversion.columns = ['Month', 'Count', 'Conversion Rate']\n",
    "month_conversion['Conversion Rate'] = month_conversion['Conversion Rate'] * 100\n",
    "month_conversion['Month_order'] = month_conversion['Month'].map(month_map)\n",
    "month_conversion = month_conversion.sort_values('Month_order')\n",
    "month_conversion"
   ]
  },
  {
   "cell_type": "code",
   "execution_count": 10,
   "metadata": {},
   "outputs": [
    {
     "data": {
      "application/vnd.plotly.v1+json": {
       "config": {
        "plotlyServerURL": "https://plot.ly"
       },
       "data": [
        {
         "hovertemplate": "Month=%{x}<br>Conversion Rate (%)=%{y}<extra></extra>",
         "legendgroup": "",
         "line": {
          "color": "#636efa",
          "dash": "solid"
         },
         "marker": {
          "symbol": "circle"
         },
         "mode": "lines+markers",
         "name": "",
         "orientation": "v",
         "showlegend": false,
         "type": "scatter",
         "x": [
          "mar",
          "apr",
          "may",
          "jun",
          "jul",
          "aug",
          "sep",
          "oct",
          "nov",
          "dec"
         ],
         "xaxis": "x",
         "y": {
          "bdata": "ZVRGZVRGSUA8G/WdjXo0QEYMDLgtvRlAooVcdd8FJUDv+xJS1hciQHXpD0BLNCVATGcxncV0RkC4UpRQme9FQIiAMfuoSSRANVdzNVdzSEA=",
          "dtype": "f8"
         },
         "yaxis": "y"
        },
        {
         "name": "Count",
         "opacity": 0.3,
         "type": "bar",
         "x": [
          "mar",
          "apr",
          "may",
          "jun",
          "jul",
          "aug",
          "sep",
          "oct",
          "nov",
          "dec"
         ],
         "y": {
          "bdata": "IgJICsk1xhQGHCIYOgLOAgUQtgA=",
          "dtype": "i2"
         },
         "yaxis": "y2"
        }
       ],
       "layout": {
        "height": 500,
        "legend": {
         "orientation": "h",
         "tracegroupgap": 0,
         "x": 1,
         "xanchor": "right",
         "y": 1.02,
         "yanchor": "bottom"
        },
        "template": {
         "data": {
          "bar": [
           {
            "error_x": {
             "color": "#2a3f5f"
            },
            "error_y": {
             "color": "#2a3f5f"
            },
            "marker": {
             "line": {
              "color": "#E5ECF6",
              "width": 0.5
             },
             "pattern": {
              "fillmode": "overlay",
              "size": 10,
              "solidity": 0.2
             }
            },
            "type": "bar"
           }
          ],
          "barpolar": [
           {
            "marker": {
             "line": {
              "color": "#E5ECF6",
              "width": 0.5
             },
             "pattern": {
              "fillmode": "overlay",
              "size": 10,
              "solidity": 0.2
             }
            },
            "type": "barpolar"
           }
          ],
          "carpet": [
           {
            "aaxis": {
             "endlinecolor": "#2a3f5f",
             "gridcolor": "white",
             "linecolor": "white",
             "minorgridcolor": "white",
             "startlinecolor": "#2a3f5f"
            },
            "baxis": {
             "endlinecolor": "#2a3f5f",
             "gridcolor": "white",
             "linecolor": "white",
             "minorgridcolor": "white",
             "startlinecolor": "#2a3f5f"
            },
            "type": "carpet"
           }
          ],
          "choropleth": [
           {
            "colorbar": {
             "outlinewidth": 0,
             "ticks": ""
            },
            "type": "choropleth"
           }
          ],
          "contour": [
           {
            "colorbar": {
             "outlinewidth": 0,
             "ticks": ""
            },
            "colorscale": [
             [
              0,
              "#0d0887"
             ],
             [
              0.1111111111111111,
              "#46039f"
             ],
             [
              0.2222222222222222,
              "#7201a8"
             ],
             [
              0.3333333333333333,
              "#9c179e"
             ],
             [
              0.4444444444444444,
              "#bd3786"
             ],
             [
              0.5555555555555556,
              "#d8576b"
             ],
             [
              0.6666666666666666,
              "#ed7953"
             ],
             [
              0.7777777777777778,
              "#fb9f3a"
             ],
             [
              0.8888888888888888,
              "#fdca26"
             ],
             [
              1,
              "#f0f921"
             ]
            ],
            "type": "contour"
           }
          ],
          "contourcarpet": [
           {
            "colorbar": {
             "outlinewidth": 0,
             "ticks": ""
            },
            "type": "contourcarpet"
           }
          ],
          "heatmap": [
           {
            "colorbar": {
             "outlinewidth": 0,
             "ticks": ""
            },
            "colorscale": [
             [
              0,
              "#0d0887"
             ],
             [
              0.1111111111111111,
              "#46039f"
             ],
             [
              0.2222222222222222,
              "#7201a8"
             ],
             [
              0.3333333333333333,
              "#9c179e"
             ],
             [
              0.4444444444444444,
              "#bd3786"
             ],
             [
              0.5555555555555556,
              "#d8576b"
             ],
             [
              0.6666666666666666,
              "#ed7953"
             ],
             [
              0.7777777777777778,
              "#fb9f3a"
             ],
             [
              0.8888888888888888,
              "#fdca26"
             ],
             [
              1,
              "#f0f921"
             ]
            ],
            "type": "heatmap"
           }
          ],
          "histogram": [
           {
            "marker": {
             "pattern": {
              "fillmode": "overlay",
              "size": 10,
              "solidity": 0.2
             }
            },
            "type": "histogram"
           }
          ],
          "histogram2d": [
           {
            "colorbar": {
             "outlinewidth": 0,
             "ticks": ""
            },
            "colorscale": [
             [
              0,
              "#0d0887"
             ],
             [
              0.1111111111111111,
              "#46039f"
             ],
             [
              0.2222222222222222,
              "#7201a8"
             ],
             [
              0.3333333333333333,
              "#9c179e"
             ],
             [
              0.4444444444444444,
              "#bd3786"
             ],
             [
              0.5555555555555556,
              "#d8576b"
             ],
             [
              0.6666666666666666,
              "#ed7953"
             ],
             [
              0.7777777777777778,
              "#fb9f3a"
             ],
             [
              0.8888888888888888,
              "#fdca26"
             ],
             [
              1,
              "#f0f921"
             ]
            ],
            "type": "histogram2d"
           }
          ],
          "histogram2dcontour": [
           {
            "colorbar": {
             "outlinewidth": 0,
             "ticks": ""
            },
            "colorscale": [
             [
              0,
              "#0d0887"
             ],
             [
              0.1111111111111111,
              "#46039f"
             ],
             [
              0.2222222222222222,
              "#7201a8"
             ],
             [
              0.3333333333333333,
              "#9c179e"
             ],
             [
              0.4444444444444444,
              "#bd3786"
             ],
             [
              0.5555555555555556,
              "#d8576b"
             ],
             [
              0.6666666666666666,
              "#ed7953"
             ],
             [
              0.7777777777777778,
              "#fb9f3a"
             ],
             [
              0.8888888888888888,
              "#fdca26"
             ],
             [
              1,
              "#f0f921"
             ]
            ],
            "type": "histogram2dcontour"
           }
          ],
          "mesh3d": [
           {
            "colorbar": {
             "outlinewidth": 0,
             "ticks": ""
            },
            "type": "mesh3d"
           }
          ],
          "parcoords": [
           {
            "line": {
             "colorbar": {
              "outlinewidth": 0,
              "ticks": ""
             }
            },
            "type": "parcoords"
           }
          ],
          "pie": [
           {
            "automargin": true,
            "type": "pie"
           }
          ],
          "scatter": [
           {
            "fillpattern": {
             "fillmode": "overlay",
             "size": 10,
             "solidity": 0.2
            },
            "type": "scatter"
           }
          ],
          "scatter3d": [
           {
            "line": {
             "colorbar": {
              "outlinewidth": 0,
              "ticks": ""
             }
            },
            "marker": {
             "colorbar": {
              "outlinewidth": 0,
              "ticks": ""
             }
            },
            "type": "scatter3d"
           }
          ],
          "scattercarpet": [
           {
            "marker": {
             "colorbar": {
              "outlinewidth": 0,
              "ticks": ""
             }
            },
            "type": "scattercarpet"
           }
          ],
          "scattergeo": [
           {
            "marker": {
             "colorbar": {
              "outlinewidth": 0,
              "ticks": ""
             }
            },
            "type": "scattergeo"
           }
          ],
          "scattergl": [
           {
            "marker": {
             "colorbar": {
              "outlinewidth": 0,
              "ticks": ""
             }
            },
            "type": "scattergl"
           }
          ],
          "scattermap": [
           {
            "marker": {
             "colorbar": {
              "outlinewidth": 0,
              "ticks": ""
             }
            },
            "type": "scattermap"
           }
          ],
          "scattermapbox": [
           {
            "marker": {
             "colorbar": {
              "outlinewidth": 0,
              "ticks": ""
             }
            },
            "type": "scattermapbox"
           }
          ],
          "scatterpolar": [
           {
            "marker": {
             "colorbar": {
              "outlinewidth": 0,
              "ticks": ""
             }
            },
            "type": "scatterpolar"
           }
          ],
          "scatterpolargl": [
           {
            "marker": {
             "colorbar": {
              "outlinewidth": 0,
              "ticks": ""
             }
            },
            "type": "scatterpolargl"
           }
          ],
          "scatterternary": [
           {
            "marker": {
             "colorbar": {
              "outlinewidth": 0,
              "ticks": ""
             }
            },
            "type": "scatterternary"
           }
          ],
          "surface": [
           {
            "colorbar": {
             "outlinewidth": 0,
             "ticks": ""
            },
            "colorscale": [
             [
              0,
              "#0d0887"
             ],
             [
              0.1111111111111111,
              "#46039f"
             ],
             [
              0.2222222222222222,
              "#7201a8"
             ],
             [
              0.3333333333333333,
              "#9c179e"
             ],
             [
              0.4444444444444444,
              "#bd3786"
             ],
             [
              0.5555555555555556,
              "#d8576b"
             ],
             [
              0.6666666666666666,
              "#ed7953"
             ],
             [
              0.7777777777777778,
              "#fb9f3a"
             ],
             [
              0.8888888888888888,
              "#fdca26"
             ],
             [
              1,
              "#f0f921"
             ]
            ],
            "type": "surface"
           }
          ],
          "table": [
           {
            "cells": {
             "fill": {
              "color": "#EBF0F8"
             },
             "line": {
              "color": "white"
             }
            },
            "header": {
             "fill": {
              "color": "#C8D4E3"
             },
             "line": {
              "color": "white"
             }
            },
            "type": "table"
           }
          ]
         },
         "layout": {
          "annotationdefaults": {
           "arrowcolor": "#2a3f5f",
           "arrowhead": 0,
           "arrowwidth": 1
          },
          "autotypenumbers": "strict",
          "coloraxis": {
           "colorbar": {
            "outlinewidth": 0,
            "ticks": ""
           }
          },
          "colorscale": {
           "diverging": [
            [
             0,
             "#8e0152"
            ],
            [
             0.1,
             "#c51b7d"
            ],
            [
             0.2,
             "#de77ae"
            ],
            [
             0.3,
             "#f1b6da"
            ],
            [
             0.4,
             "#fde0ef"
            ],
            [
             0.5,
             "#f7f7f7"
            ],
            [
             0.6,
             "#e6f5d0"
            ],
            [
             0.7,
             "#b8e186"
            ],
            [
             0.8,
             "#7fbc41"
            ],
            [
             0.9,
             "#4d9221"
            ],
            [
             1,
             "#276419"
            ]
           ],
           "sequential": [
            [
             0,
             "#0d0887"
            ],
            [
             0.1111111111111111,
             "#46039f"
            ],
            [
             0.2222222222222222,
             "#7201a8"
            ],
            [
             0.3333333333333333,
             "#9c179e"
            ],
            [
             0.4444444444444444,
             "#bd3786"
            ],
            [
             0.5555555555555556,
             "#d8576b"
            ],
            [
             0.6666666666666666,
             "#ed7953"
            ],
            [
             0.7777777777777778,
             "#fb9f3a"
            ],
            [
             0.8888888888888888,
             "#fdca26"
            ],
            [
             1,
             "#f0f921"
            ]
           ],
           "sequentialminus": [
            [
             0,
             "#0d0887"
            ],
            [
             0.1111111111111111,
             "#46039f"
            ],
            [
             0.2222222222222222,
             "#7201a8"
            ],
            [
             0.3333333333333333,
             "#9c179e"
            ],
            [
             0.4444444444444444,
             "#bd3786"
            ],
            [
             0.5555555555555556,
             "#d8576b"
            ],
            [
             0.6666666666666666,
             "#ed7953"
            ],
            [
             0.7777777777777778,
             "#fb9f3a"
            ],
            [
             0.8888888888888888,
             "#fdca26"
            ],
            [
             1,
             "#f0f921"
            ]
           ]
          },
          "colorway": [
           "#636efa",
           "#EF553B",
           "#00cc96",
           "#ab63fa",
           "#FFA15A",
           "#19d3f3",
           "#FF6692",
           "#B6E880",
           "#FF97FF",
           "#FECB52"
          ],
          "font": {
           "color": "#2a3f5f"
          },
          "geo": {
           "bgcolor": "white",
           "lakecolor": "white",
           "landcolor": "#E5ECF6",
           "showlakes": true,
           "showland": true,
           "subunitcolor": "white"
          },
          "hoverlabel": {
           "align": "left"
          },
          "hovermode": "closest",
          "mapbox": {
           "style": "light"
          },
          "paper_bgcolor": "white",
          "plot_bgcolor": "#E5ECF6",
          "polar": {
           "angularaxis": {
            "gridcolor": "white",
            "linecolor": "white",
            "ticks": ""
           },
           "bgcolor": "#E5ECF6",
           "radialaxis": {
            "gridcolor": "white",
            "linecolor": "white",
            "ticks": ""
           }
          },
          "scene": {
           "xaxis": {
            "backgroundcolor": "#E5ECF6",
            "gridcolor": "white",
            "gridwidth": 2,
            "linecolor": "white",
            "showbackground": true,
            "ticks": "",
            "zerolinecolor": "white"
           },
           "yaxis": {
            "backgroundcolor": "#E5ECF6",
            "gridcolor": "white",
            "gridwidth": 2,
            "linecolor": "white",
            "showbackground": true,
            "ticks": "",
            "zerolinecolor": "white"
           },
           "zaxis": {
            "backgroundcolor": "#E5ECF6",
            "gridcolor": "white",
            "gridwidth": 2,
            "linecolor": "white",
            "showbackground": true,
            "ticks": "",
            "zerolinecolor": "white"
           }
          },
          "shapedefaults": {
           "line": {
            "color": "#2a3f5f"
           }
          },
          "ternary": {
           "aaxis": {
            "gridcolor": "white",
            "linecolor": "white",
            "ticks": ""
           },
           "baxis": {
            "gridcolor": "white",
            "linecolor": "white",
            "ticks": ""
           },
           "bgcolor": "#E5ECF6",
           "caxis": {
            "gridcolor": "white",
            "linecolor": "white",
            "ticks": ""
           }
          },
          "title": {
           "x": 0.05
          },
          "xaxis": {
           "automargin": true,
           "gridcolor": "white",
           "linecolor": "white",
           "ticks": "",
           "title": {
            "standoff": 15
           },
           "zerolinecolor": "white",
           "zerolinewidth": 2
          },
          "yaxis": {
           "automargin": true,
           "gridcolor": "white",
           "linecolor": "white",
           "ticks": "",
           "title": {
            "standoff": 15
           },
           "zerolinecolor": "white",
           "zerolinewidth": 2
          }
         }
        },
        "title": {
         "text": "Conversion Rate by Month"
        },
        "xaxis": {
         "anchor": "y",
         "categoryarray": [
          "jan",
          "feb",
          "mar",
          "apr",
          "may",
          "jun",
          "jul",
          "aug",
          "sep",
          "oct",
          "nov",
          "dec"
         ],
         "categoryorder": "array",
         "domain": [
          0,
          1
         ],
         "title": {
          "text": "Month"
         }
        },
        "yaxis": {
         "anchor": "x",
         "domain": [
          0,
          1
         ],
         "title": {
          "text": "Conversion Rate (%)"
         }
        },
        "yaxis2": {
         "overlaying": "y",
         "side": "right",
         "title": {
          "text": "Count"
         }
        }
       }
      }
     },
     "metadata": {},
     "output_type": "display_data"
    }
   ],
   "source": [
    "fig_month = px.line(\n",
    "    month_conversion, \n",
    "    x='Month', \n",
    "    y='Conversion Rate',\n",
    "    markers=True,\n",
    "    title='Conversion Rate by Month',\n",
    "    labels={'Conversion Rate': 'Conversion Rate (%)'},\n",
    "    category_orders={'Month': month_order},\n",
    "    height=500\n",
    ")\n",
    "\n",
    "fig_month.update_layout(\n",
    "    xaxis_title='Month',\n",
    "    yaxis_title='Conversion Rate (%)'\n",
    ")\n",
    "\n",
    "\n",
    "fig_month.add_trace(\n",
    "    go.Bar(\n",
    "        x=month_conversion['Month'],\n",
    "        y=month_conversion['Count'],\n",
    "        name='Count',\n",
    "        yaxis='y2',\n",
    "        opacity=0.3\n",
    "    )\n",
    ")\n",
    "\n",
    "fig_month.update_layout(\n",
    "    yaxis2=dict(\n",
    "        title='Count',\n",
    "        overlaying='y',\n",
    "        side='right'\n",
    "    ),\n",
    "    legend=dict(\n",
    "        orientation='h',\n",
    "        yanchor='bottom',\n",
    "        y=1.02,\n",
    "        xanchor='right',\n",
    "        x=1\n",
    "    )\n",
    ")\n",
    "\n",
    "fig_month.show()\n"
   ]
  },
  {
   "cell_type": "markdown",
   "metadata": {},
   "source": [
    "The monthly conversion rate visualization reveals dramatic seasonal patterns:\n",
    "\n",
    "1. **Highest Conversion Periods**: March, September, October and December show extraordinarily high conversion rates (40-50%), which is 4-5 times the overall average.\n",
    "\n",
    "2. **Moderate Conversion Periods**: May and July have the lowest conversion rate but also the most attempts to convert.\n",
    "\n",
    "3. **Lower Conversion Periods**: The summer months (May-August) and November show the lowest conversion rates.\n",
    "\n",
    "This pattern suggests:\n",
    "- March, September, October, and December show consistently high conversion rates and should be analyzed separately from other months\n",
    "- Summer months may be less effective due to vacations and different financial priorities\n",
    "- The start of fall (September-October) might represent a financial reset or planning period\n",
    "\n",
    "The overlaid bar chart shows sample sizes, indicating that May has the highest number of contacts despite having a lower conversion rate. This suggests campaign timing could be optimized.\n",
    "\n"
   ]
  },
  {
   "cell_type": "code",
   "execution_count": 11,
   "metadata": {},
   "outputs": [
    {
     "data": {
      "text/html": [
       "<div>\n",
       "<style scoped>\n",
       "    .dataframe tbody tr th:only-of-type {\n",
       "        vertical-align: middle;\n",
       "    }\n",
       "\n",
       "    .dataframe tbody tr th {\n",
       "        vertical-align: top;\n",
       "    }\n",
       "\n",
       "    .dataframe thead th {\n",
       "        text-align: right;\n",
       "    }\n",
       "</style>\n",
       "<table border=\"1\" class=\"dataframe\">\n",
       "  <thead>\n",
       "    <tr style=\"text-align: right;\">\n",
       "      <th></th>\n",
       "      <th>day_of_week</th>\n",
       "      <th>Count</th>\n",
       "      <th>Conversion Rate</th>\n",
       "      <th>day_of_week_order</th>\n",
       "    </tr>\n",
       "  </thead>\n",
       "  <tbody>\n",
       "    <tr>\n",
       "      <th>1</th>\n",
       "      <td>mon</td>\n",
       "      <td>8514</td>\n",
       "      <td>9.948320</td>\n",
       "      <td>1.0</td>\n",
       "    </tr>\n",
       "    <tr>\n",
       "      <th>3</th>\n",
       "      <td>tue</td>\n",
       "      <td>8090</td>\n",
       "      <td>11.779975</td>\n",
       "      <td>2.0</td>\n",
       "    </tr>\n",
       "    <tr>\n",
       "      <th>4</th>\n",
       "      <td>wed</td>\n",
       "      <td>8134</td>\n",
       "      <td>11.667076</td>\n",
       "      <td>3.0</td>\n",
       "    </tr>\n",
       "    <tr>\n",
       "      <th>2</th>\n",
       "      <td>thu</td>\n",
       "      <td>8623</td>\n",
       "      <td>12.118752</td>\n",
       "      <td>4.0</td>\n",
       "    </tr>\n",
       "    <tr>\n",
       "      <th>0</th>\n",
       "      <td>fri</td>\n",
       "      <td>7827</td>\n",
       "      <td>10.808739</td>\n",
       "      <td>NaN</td>\n",
       "    </tr>\n",
       "  </tbody>\n",
       "</table>\n",
       "</div>"
      ],
      "text/plain": [
       "  day_of_week  Count  Conversion Rate  day_of_week_order\n",
       "1         mon   8514         9.948320                1.0\n",
       "3         tue   8090        11.779975                2.0\n",
       "4         wed   8134        11.667076                3.0\n",
       "2         thu   8623        12.118752                4.0\n",
       "0         fri   7827        10.808739                NaN"
      ]
     },
     "execution_count": 11,
     "metadata": {},
     "output_type": "execute_result"
    }
   ],
   "source": [
    "day_of_week_order = ['mon', 'tue', 'wed', 'thu', 'fry']\n",
    "day_of_week_map = {day_of_week: i+1  for i, day_of_week in enumerate(day_of_week_order)}\n",
    "\n",
    "day_of_week_conversion = df.groupby('day_of_week')['converted'].agg(['count', 'mean']).reset_index()\n",
    "day_of_week_conversion.columns = ['day_of_week', 'Count', 'Conversion Rate']\n",
    "day_of_week_conversion['Conversion Rate'] = day_of_week_conversion['Conversion Rate'] * 100\n",
    "day_of_week_conversion['day_of_week_order'] = day_of_week_conversion['day_of_week'].map(day_of_week_map)\n",
    "day_of_week_conversion =day_of_week_conversion.sort_values('day_of_week_order')\n",
    "day_of_week_conversion"
   ]
  },
  {
   "cell_type": "markdown",
   "metadata": {},
   "source": [
    "**We can notice some quite relevant differences between Monday and Thursday, but considering that we are talking about a call-center team that has a fixed schedule, I don't think we can discuss working more on Thursdays.**"
   ]
  },
  {
   "cell_type": "code",
   "execution_count": 12,
   "metadata": {},
   "outputs": [
    {
     "data": {
      "text/html": [
       "<div>\n",
       "<style scoped>\n",
       "    .dataframe tbody tr th:only-of-type {\n",
       "        vertical-align: middle;\n",
       "    }\n",
       "\n",
       "    .dataframe tbody tr th {\n",
       "        vertical-align: top;\n",
       "    }\n",
       "\n",
       "    .dataframe thead th {\n",
       "        text-align: right;\n",
       "    }\n",
       "</style>\n",
       "<table border=\"1\" class=\"dataframe\">\n",
       "  <thead>\n",
       "    <tr style=\"text-align: right;\">\n",
       "      <th></th>\n",
       "      <th>Education</th>\n",
       "      <th>Count</th>\n",
       "      <th>Conversion Rate</th>\n",
       "    </tr>\n",
       "  </thead>\n",
       "  <tbody>\n",
       "    <tr>\n",
       "      <th>4</th>\n",
       "      <td>illiterate</td>\n",
       "      <td>18</td>\n",
       "      <td>22.222222</td>\n",
       "    </tr>\n",
       "    <tr>\n",
       "      <th>7</th>\n",
       "      <td>unknown</td>\n",
       "      <td>1731</td>\n",
       "      <td>14.500289</td>\n",
       "    </tr>\n",
       "    <tr>\n",
       "      <th>6</th>\n",
       "      <td>university.degree</td>\n",
       "      <td>12168</td>\n",
       "      <td>13.724523</td>\n",
       "    </tr>\n",
       "    <tr>\n",
       "      <th>5</th>\n",
       "      <td>professional.course</td>\n",
       "      <td>5243</td>\n",
       "      <td>11.348465</td>\n",
       "    </tr>\n",
       "    <tr>\n",
       "      <th>3</th>\n",
       "      <td>high.school</td>\n",
       "      <td>9515</td>\n",
       "      <td>10.835523</td>\n",
       "    </tr>\n",
       "    <tr>\n",
       "      <th>0</th>\n",
       "      <td>basic.4y</td>\n",
       "      <td>4176</td>\n",
       "      <td>10.249042</td>\n",
       "    </tr>\n",
       "    <tr>\n",
       "      <th>1</th>\n",
       "      <td>basic.6y</td>\n",
       "      <td>2292</td>\n",
       "      <td>8.202443</td>\n",
       "    </tr>\n",
       "    <tr>\n",
       "      <th>2</th>\n",
       "      <td>basic.9y</td>\n",
       "      <td>6045</td>\n",
       "      <td>7.824648</td>\n",
       "    </tr>\n",
       "  </tbody>\n",
       "</table>\n",
       "</div>"
      ],
      "text/plain": [
       "             Education  Count  Conversion Rate\n",
       "4           illiterate     18        22.222222\n",
       "7              unknown   1731        14.500289\n",
       "6    university.degree  12168        13.724523\n",
       "5  professional.course   5243        11.348465\n",
       "3          high.school   9515        10.835523\n",
       "0             basic.4y   4176        10.249042\n",
       "1             basic.6y   2292         8.202443\n",
       "2             basic.9y   6045         7.824648"
      ]
     },
     "execution_count": 12,
     "metadata": {},
     "output_type": "execute_result"
    }
   ],
   "source": [
    "# Education Level Analysis\n",
    "# Calculate conversion rates by education level\n",
    "education_conversion = df.groupby('education')['converted'].agg(['count', 'mean']).reset_index()\n",
    "education_conversion.columns = ['Education', 'Count', 'Conversion Rate']\n",
    "education_conversion['Conversion Rate'] = education_conversion['Conversion Rate'] * 100\n",
    "education_conversion = education_conversion.sort_values('Conversion Rate', ascending=False)\n",
    "education_conversion"
   ]
  },
  {
   "cell_type": "markdown",
   "metadata": {},
   "source": [
    "The education level tabel reveals:\n",
    "\n",
    "1. **Highest Conversion**: The 'illiterate' category shows the highest conversion rate at 22%, though this is likely based on a very small sample and should be interpreted with caution, it also represents a very small number.\n",
    "\n",
    "2. **Education Correlation**: Generally, there's a positive correlation between education level and conversion rate:\n",
    "   - University degree holders (13.7%) and those with unknown education (14.5%) convert at higher rates\n",
    "   - Professional course graduates and high school graduates show moderate conversion rates\n",
    "   - Basic education levels tend to have lower conversion rates\n",
    "\n",
    "This pattern suggests that higher education levels may correlate with:\n",
    "- Greater financial literacy\n",
    "- Higher income potential\n",
    "- More awareness of investment options\n",
    "- Longer-term financial planning horizons\n",
    "\n",
    "**Recommendation:** Consider education level as an important factor in the predictive model, with special attention to higher education segments. The model should weight university education positively.\n"
   ]
  },
  {
   "cell_type": "code",
   "execution_count": 13,
   "metadata": {},
   "outputs": [
    {
     "data": {
      "text/html": [
       "<div>\n",
       "<style scoped>\n",
       "    .dataframe tbody tr th:only-of-type {\n",
       "        vertical-align: middle;\n",
       "    }\n",
       "\n",
       "    .dataframe tbody tr th {\n",
       "        vertical-align: top;\n",
       "    }\n",
       "\n",
       "    .dataframe thead th {\n",
       "        text-align: right;\n",
       "    }\n",
       "</style>\n",
       "<table border=\"1\" class=\"dataframe\">\n",
       "  <thead>\n",
       "    <tr style=\"text-align: right;\">\n",
       "      <th></th>\n",
       "      <th>Age Group</th>\n",
       "      <th>Count</th>\n",
       "      <th>Conversion Rate</th>\n",
       "    </tr>\n",
       "  </thead>\n",
       "  <tbody>\n",
       "    <tr>\n",
       "      <th>0</th>\n",
       "      <td>18-25</td>\n",
       "      <td>1661</td>\n",
       "      <td>20.891030</td>\n",
       "    </tr>\n",
       "    <tr>\n",
       "      <th>1</th>\n",
       "      <td>26-35</td>\n",
       "      <td>14847</td>\n",
       "      <td>11.719539</td>\n",
       "    </tr>\n",
       "    <tr>\n",
       "      <th>2</th>\n",
       "      <td>36-45</td>\n",
       "      <td>12844</td>\n",
       "      <td>8.509810</td>\n",
       "    </tr>\n",
       "    <tr>\n",
       "      <th>3</th>\n",
       "      <td>46-55</td>\n",
       "      <td>8249</td>\n",
       "      <td>8.691963</td>\n",
       "    </tr>\n",
       "    <tr>\n",
       "      <th>4</th>\n",
       "      <td>56-65</td>\n",
       "      <td>2963</td>\n",
       "      <td>15.221060</td>\n",
       "    </tr>\n",
       "    <tr>\n",
       "      <th>5</th>\n",
       "      <td>65+</td>\n",
       "      <td>619</td>\n",
       "      <td>46.849758</td>\n",
       "    </tr>\n",
       "  </tbody>\n",
       "</table>\n",
       "</div>"
      ],
      "text/plain": [
       "  Age Group  Count  Conversion Rate\n",
       "0     18-25   1661        20.891030\n",
       "1     26-35  14847        11.719539\n",
       "2     36-45  12844         8.509810\n",
       "3     46-55   8249         8.691963\n",
       "4     56-65   2963        15.221060\n",
       "5       65+    619        46.849758"
      ]
     },
     "execution_count": 13,
     "metadata": {},
     "output_type": "execute_result"
    }
   ],
   "source": [
    "# Age Distribution Analysis\n",
    "df['age_group'] = pd.cut(df['age'], bins=[17, 25, 35, 45, 55, 65, 100], \n",
    "                        labels=['18-25', '26-35', '36-45', '46-55', '56-65', '65+'])\n",
    "\n",
    "age_conversion = df.groupby('age_group')['converted'].agg(['count', 'mean']).reset_index()\n",
    "age_conversion.columns = ['Age Group', 'Count', 'Conversion Rate']\n",
    "age_conversion['Conversion Rate'] = age_conversion['Conversion Rate'] * 100\n",
    "age_conversion"
   ]
  },
  {
   "cell_type": "code",
   "execution_count": 14,
   "metadata": {},
   "outputs": [
    {
     "data": {
      "application/vnd.plotly.v1+json": {
       "config": {
        "plotlyServerURL": "https://plot.ly"
       },
       "data": [
        {
         "hovertemplate": "Age Group=%{x}<br>Conversion Rate (%)=%{marker.color}<br>text=%{text}<extra></extra>",
         "legendgroup": "",
         "marker": {
          "color": {
           "bdata": "apBjghrkNEBC1op0Z3AnQJ8c69EFBSFAcOUX7khiIUCwoue9LnEuQH32BNzEbEdA",
           "dtype": "f8"
          },
          "coloraxis": "coloraxis",
          "pattern": {
           "shape": ""
          }
         },
         "name": "",
         "orientation": "v",
         "showlegend": false,
         "text": [
          "20.9%",
          "11.7%",
          "8.5%",
          "8.7%",
          "15.2%",
          "46.8%"
         ],
         "textposition": "auto",
         "type": "bar",
         "x": [
          "18-25",
          "26-35",
          "36-45",
          "46-55",
          "56-65",
          "65+"
         ],
         "xaxis": "x",
         "y": {
          "bdata": "apBjghrkNEBC1op0Z3AnQJ8c69EFBSFAcOUX7khiIUCwoue9LnEuQH32BNzEbEdA",
          "dtype": "f8"
         },
         "yaxis": "y"
        }
       ],
       "layout": {
        "barmode": "relative",
        "coloraxis": {
         "colorbar": {
          "title": {
           "text": "Conversion Rate (%)"
          }
         },
         "colorscale": [
          [
           0,
           "#440154"
          ],
          [
           0.1111111111111111,
           "#482878"
          ],
          [
           0.2222222222222222,
           "#3e4989"
          ],
          [
           0.3333333333333333,
           "#31688e"
          ],
          [
           0.4444444444444444,
           "#26828e"
          ],
          [
           0.5555555555555556,
           "#1f9e89"
          ],
          [
           0.6666666666666666,
           "#35b779"
          ],
          [
           0.7777777777777778,
           "#6ece58"
          ],
          [
           0.8888888888888888,
           "#b5de2b"
          ],
          [
           1,
           "#fde725"
          ]
         ]
        },
        "height": 500,
        "legend": {
         "tracegroupgap": 0
        },
        "template": {
         "data": {
          "bar": [
           {
            "error_x": {
             "color": "#2a3f5f"
            },
            "error_y": {
             "color": "#2a3f5f"
            },
            "marker": {
             "line": {
              "color": "#E5ECF6",
              "width": 0.5
             },
             "pattern": {
              "fillmode": "overlay",
              "size": 10,
              "solidity": 0.2
             }
            },
            "type": "bar"
           }
          ],
          "barpolar": [
           {
            "marker": {
             "line": {
              "color": "#E5ECF6",
              "width": 0.5
             },
             "pattern": {
              "fillmode": "overlay",
              "size": 10,
              "solidity": 0.2
             }
            },
            "type": "barpolar"
           }
          ],
          "carpet": [
           {
            "aaxis": {
             "endlinecolor": "#2a3f5f",
             "gridcolor": "white",
             "linecolor": "white",
             "minorgridcolor": "white",
             "startlinecolor": "#2a3f5f"
            },
            "baxis": {
             "endlinecolor": "#2a3f5f",
             "gridcolor": "white",
             "linecolor": "white",
             "minorgridcolor": "white",
             "startlinecolor": "#2a3f5f"
            },
            "type": "carpet"
           }
          ],
          "choropleth": [
           {
            "colorbar": {
             "outlinewidth": 0,
             "ticks": ""
            },
            "type": "choropleth"
           }
          ],
          "contour": [
           {
            "colorbar": {
             "outlinewidth": 0,
             "ticks": ""
            },
            "colorscale": [
             [
              0,
              "#0d0887"
             ],
             [
              0.1111111111111111,
              "#46039f"
             ],
             [
              0.2222222222222222,
              "#7201a8"
             ],
             [
              0.3333333333333333,
              "#9c179e"
             ],
             [
              0.4444444444444444,
              "#bd3786"
             ],
             [
              0.5555555555555556,
              "#d8576b"
             ],
             [
              0.6666666666666666,
              "#ed7953"
             ],
             [
              0.7777777777777778,
              "#fb9f3a"
             ],
             [
              0.8888888888888888,
              "#fdca26"
             ],
             [
              1,
              "#f0f921"
             ]
            ],
            "type": "contour"
           }
          ],
          "contourcarpet": [
           {
            "colorbar": {
             "outlinewidth": 0,
             "ticks": ""
            },
            "type": "contourcarpet"
           }
          ],
          "heatmap": [
           {
            "colorbar": {
             "outlinewidth": 0,
             "ticks": ""
            },
            "colorscale": [
             [
              0,
              "#0d0887"
             ],
             [
              0.1111111111111111,
              "#46039f"
             ],
             [
              0.2222222222222222,
              "#7201a8"
             ],
             [
              0.3333333333333333,
              "#9c179e"
             ],
             [
              0.4444444444444444,
              "#bd3786"
             ],
             [
              0.5555555555555556,
              "#d8576b"
             ],
             [
              0.6666666666666666,
              "#ed7953"
             ],
             [
              0.7777777777777778,
              "#fb9f3a"
             ],
             [
              0.8888888888888888,
              "#fdca26"
             ],
             [
              1,
              "#f0f921"
             ]
            ],
            "type": "heatmap"
           }
          ],
          "histogram": [
           {
            "marker": {
             "pattern": {
              "fillmode": "overlay",
              "size": 10,
              "solidity": 0.2
             }
            },
            "type": "histogram"
           }
          ],
          "histogram2d": [
           {
            "colorbar": {
             "outlinewidth": 0,
             "ticks": ""
            },
            "colorscale": [
             [
              0,
              "#0d0887"
             ],
             [
              0.1111111111111111,
              "#46039f"
             ],
             [
              0.2222222222222222,
              "#7201a8"
             ],
             [
              0.3333333333333333,
              "#9c179e"
             ],
             [
              0.4444444444444444,
              "#bd3786"
             ],
             [
              0.5555555555555556,
              "#d8576b"
             ],
             [
              0.6666666666666666,
              "#ed7953"
             ],
             [
              0.7777777777777778,
              "#fb9f3a"
             ],
             [
              0.8888888888888888,
              "#fdca26"
             ],
             [
              1,
              "#f0f921"
             ]
            ],
            "type": "histogram2d"
           }
          ],
          "histogram2dcontour": [
           {
            "colorbar": {
             "outlinewidth": 0,
             "ticks": ""
            },
            "colorscale": [
             [
              0,
              "#0d0887"
             ],
             [
              0.1111111111111111,
              "#46039f"
             ],
             [
              0.2222222222222222,
              "#7201a8"
             ],
             [
              0.3333333333333333,
              "#9c179e"
             ],
             [
              0.4444444444444444,
              "#bd3786"
             ],
             [
              0.5555555555555556,
              "#d8576b"
             ],
             [
              0.6666666666666666,
              "#ed7953"
             ],
             [
              0.7777777777777778,
              "#fb9f3a"
             ],
             [
              0.8888888888888888,
              "#fdca26"
             ],
             [
              1,
              "#f0f921"
             ]
            ],
            "type": "histogram2dcontour"
           }
          ],
          "mesh3d": [
           {
            "colorbar": {
             "outlinewidth": 0,
             "ticks": ""
            },
            "type": "mesh3d"
           }
          ],
          "parcoords": [
           {
            "line": {
             "colorbar": {
              "outlinewidth": 0,
              "ticks": ""
             }
            },
            "type": "parcoords"
           }
          ],
          "pie": [
           {
            "automargin": true,
            "type": "pie"
           }
          ],
          "scatter": [
           {
            "fillpattern": {
             "fillmode": "overlay",
             "size": 10,
             "solidity": 0.2
            },
            "type": "scatter"
           }
          ],
          "scatter3d": [
           {
            "line": {
             "colorbar": {
              "outlinewidth": 0,
              "ticks": ""
             }
            },
            "marker": {
             "colorbar": {
              "outlinewidth": 0,
              "ticks": ""
             }
            },
            "type": "scatter3d"
           }
          ],
          "scattercarpet": [
           {
            "marker": {
             "colorbar": {
              "outlinewidth": 0,
              "ticks": ""
             }
            },
            "type": "scattercarpet"
           }
          ],
          "scattergeo": [
           {
            "marker": {
             "colorbar": {
              "outlinewidth": 0,
              "ticks": ""
             }
            },
            "type": "scattergeo"
           }
          ],
          "scattergl": [
           {
            "marker": {
             "colorbar": {
              "outlinewidth": 0,
              "ticks": ""
             }
            },
            "type": "scattergl"
           }
          ],
          "scattermap": [
           {
            "marker": {
             "colorbar": {
              "outlinewidth": 0,
              "ticks": ""
             }
            },
            "type": "scattermap"
           }
          ],
          "scattermapbox": [
           {
            "marker": {
             "colorbar": {
              "outlinewidth": 0,
              "ticks": ""
             }
            },
            "type": "scattermapbox"
           }
          ],
          "scatterpolar": [
           {
            "marker": {
             "colorbar": {
              "outlinewidth": 0,
              "ticks": ""
             }
            },
            "type": "scatterpolar"
           }
          ],
          "scatterpolargl": [
           {
            "marker": {
             "colorbar": {
              "outlinewidth": 0,
              "ticks": ""
             }
            },
            "type": "scatterpolargl"
           }
          ],
          "scatterternary": [
           {
            "marker": {
             "colorbar": {
              "outlinewidth": 0,
              "ticks": ""
             }
            },
            "type": "scatterternary"
           }
          ],
          "surface": [
           {
            "colorbar": {
             "outlinewidth": 0,
             "ticks": ""
            },
            "colorscale": [
             [
              0,
              "#0d0887"
             ],
             [
              0.1111111111111111,
              "#46039f"
             ],
             [
              0.2222222222222222,
              "#7201a8"
             ],
             [
              0.3333333333333333,
              "#9c179e"
             ],
             [
              0.4444444444444444,
              "#bd3786"
             ],
             [
              0.5555555555555556,
              "#d8576b"
             ],
             [
              0.6666666666666666,
              "#ed7953"
             ],
             [
              0.7777777777777778,
              "#fb9f3a"
             ],
             [
              0.8888888888888888,
              "#fdca26"
             ],
             [
              1,
              "#f0f921"
             ]
            ],
            "type": "surface"
           }
          ],
          "table": [
           {
            "cells": {
             "fill": {
              "color": "#EBF0F8"
             },
             "line": {
              "color": "white"
             }
            },
            "header": {
             "fill": {
              "color": "#C8D4E3"
             },
             "line": {
              "color": "white"
             }
            },
            "type": "table"
           }
          ]
         },
         "layout": {
          "annotationdefaults": {
           "arrowcolor": "#2a3f5f",
           "arrowhead": 0,
           "arrowwidth": 1
          },
          "autotypenumbers": "strict",
          "coloraxis": {
           "colorbar": {
            "outlinewidth": 0,
            "ticks": ""
           }
          },
          "colorscale": {
           "diverging": [
            [
             0,
             "#8e0152"
            ],
            [
             0.1,
             "#c51b7d"
            ],
            [
             0.2,
             "#de77ae"
            ],
            [
             0.3,
             "#f1b6da"
            ],
            [
             0.4,
             "#fde0ef"
            ],
            [
             0.5,
             "#f7f7f7"
            ],
            [
             0.6,
             "#e6f5d0"
            ],
            [
             0.7,
             "#b8e186"
            ],
            [
             0.8,
             "#7fbc41"
            ],
            [
             0.9,
             "#4d9221"
            ],
            [
             1,
             "#276419"
            ]
           ],
           "sequential": [
            [
             0,
             "#0d0887"
            ],
            [
             0.1111111111111111,
             "#46039f"
            ],
            [
             0.2222222222222222,
             "#7201a8"
            ],
            [
             0.3333333333333333,
             "#9c179e"
            ],
            [
             0.4444444444444444,
             "#bd3786"
            ],
            [
             0.5555555555555556,
             "#d8576b"
            ],
            [
             0.6666666666666666,
             "#ed7953"
            ],
            [
             0.7777777777777778,
             "#fb9f3a"
            ],
            [
             0.8888888888888888,
             "#fdca26"
            ],
            [
             1,
             "#f0f921"
            ]
           ],
           "sequentialminus": [
            [
             0,
             "#0d0887"
            ],
            [
             0.1111111111111111,
             "#46039f"
            ],
            [
             0.2222222222222222,
             "#7201a8"
            ],
            [
             0.3333333333333333,
             "#9c179e"
            ],
            [
             0.4444444444444444,
             "#bd3786"
            ],
            [
             0.5555555555555556,
             "#d8576b"
            ],
            [
             0.6666666666666666,
             "#ed7953"
            ],
            [
             0.7777777777777778,
             "#fb9f3a"
            ],
            [
             0.8888888888888888,
             "#fdca26"
            ],
            [
             1,
             "#f0f921"
            ]
           ]
          },
          "colorway": [
           "#636efa",
           "#EF553B",
           "#00cc96",
           "#ab63fa",
           "#FFA15A",
           "#19d3f3",
           "#FF6692",
           "#B6E880",
           "#FF97FF",
           "#FECB52"
          ],
          "font": {
           "color": "#2a3f5f"
          },
          "geo": {
           "bgcolor": "white",
           "lakecolor": "white",
           "landcolor": "#E5ECF6",
           "showlakes": true,
           "showland": true,
           "subunitcolor": "white"
          },
          "hoverlabel": {
           "align": "left"
          },
          "hovermode": "closest",
          "mapbox": {
           "style": "light"
          },
          "paper_bgcolor": "white",
          "plot_bgcolor": "#E5ECF6",
          "polar": {
           "angularaxis": {
            "gridcolor": "white",
            "linecolor": "white",
            "ticks": ""
           },
           "bgcolor": "#E5ECF6",
           "radialaxis": {
            "gridcolor": "white",
            "linecolor": "white",
            "ticks": ""
           }
          },
          "scene": {
           "xaxis": {
            "backgroundcolor": "#E5ECF6",
            "gridcolor": "white",
            "gridwidth": 2,
            "linecolor": "white",
            "showbackground": true,
            "ticks": "",
            "zerolinecolor": "white"
           },
           "yaxis": {
            "backgroundcolor": "#E5ECF6",
            "gridcolor": "white",
            "gridwidth": 2,
            "linecolor": "white",
            "showbackground": true,
            "ticks": "",
            "zerolinecolor": "white"
           },
           "zaxis": {
            "backgroundcolor": "#E5ECF6",
            "gridcolor": "white",
            "gridwidth": 2,
            "linecolor": "white",
            "showbackground": true,
            "ticks": "",
            "zerolinecolor": "white"
           }
          },
          "shapedefaults": {
           "line": {
            "color": "#2a3f5f"
           }
          },
          "ternary": {
           "aaxis": {
            "gridcolor": "white",
            "linecolor": "white",
            "ticks": ""
           },
           "baxis": {
            "gridcolor": "white",
            "linecolor": "white",
            "ticks": ""
           },
           "bgcolor": "#E5ECF6",
           "caxis": {
            "gridcolor": "white",
            "linecolor": "white",
            "ticks": ""
           }
          },
          "title": {
           "x": 0.05
          },
          "xaxis": {
           "automargin": true,
           "gridcolor": "white",
           "linecolor": "white",
           "ticks": "",
           "title": {
            "standoff": 15
           },
           "zerolinecolor": "white",
           "zerolinewidth": 2
          },
          "yaxis": {
           "automargin": true,
           "gridcolor": "white",
           "linecolor": "white",
           "ticks": "",
           "title": {
            "standoff": 15
           },
           "zerolinecolor": "white",
           "zerolinewidth": 2
          }
         }
        },
        "title": {
         "text": "Conversion Rate by Age Group"
        },
        "xaxis": {
         "anchor": "y",
         "domain": [
          0,
          1
         ],
         "title": {
          "text": "Age Group"
         }
        },
        "yaxis": {
         "anchor": "x",
         "domain": [
          0,
          1
         ],
         "title": {
          "text": "Conversion Rate (%)"
         }
        }
       }
      }
     },
     "metadata": {},
     "output_type": "display_data"
    },
    {
     "data": {
      "application/vnd.plotly.v1+json": {
       "config": {
        "plotlyServerURL": "https://plot.ly"
       },
       "data": [
        {
         "bingroup": "x",
         "hovertemplate": "Converted=no<br>Age=%{x}<br>count=%{y}<extra></extra>",
         "legendgroup": "no",
         "marker": {
          "color": "#636efa",
          "pattern": {
           "shape": ""
          }
         },
         "name": "no",
         "orientation": "v",
         "showlegend": true,
         "type": "histogram",
         "x": {
          "bdata": "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",
          "dtype": "i1"
         },
         "xaxis": "x",
         "yaxis": "y"
        },
        {
         "hovertemplate": "Converted=no<br>Age=%{x}<extra></extra>",
         "legendgroup": "no",
         "marker": {
          "color": "#636efa"
         },
         "name": "no",
         "notched": true,
         "showlegend": false,
         "type": "box",
         "x": {
          "bdata": "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",
          "dtype": "i1"
         },
         "xaxis": "x2",
         "yaxis": "y2"
        },
        {
         "bingroup": "x",
         "hovertemplate": "Converted=yes<br>Age=%{x}<br>count=%{y}<extra></extra>",
         "legendgroup": "yes",
         "marker": {
          "color": "#EF553B",
          "pattern": {
           "shape": ""
          }
         },
         "name": "yes",
         "orientation": "v",
         "showlegend": true,
         "type": "histogram",
         "x": {
          "bdata": "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",
          "dtype": "i1"
         },
         "xaxis": "x",
         "yaxis": "y"
        },
        {
         "hovertemplate": "Converted=yes<br>Age=%{x}<extra></extra>",
         "legendgroup": "yes",
         "marker": {
          "color": "#EF553B"
         },
         "name": "yes",
         "notched": true,
         "showlegend": false,
         "type": "box",
         "x": {
          "bdata": "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",
          "dtype": "i1"
         },
         "xaxis": "x2",
         "yaxis": "y2"
        }
       ],
       "layout": {
        "barmode": "relative",
        "height": 500,
        "legend": {
         "title": {
          "text": "Converted"
         },
         "tracegroupgap": 0
        },
        "template": {
         "data": {
          "bar": [
           {
            "error_x": {
             "color": "#2a3f5f"
            },
            "error_y": {
             "color": "#2a3f5f"
            },
            "marker": {
             "line": {
              "color": "#E5ECF6",
              "width": 0.5
             },
             "pattern": {
              "fillmode": "overlay",
              "size": 10,
              "solidity": 0.2
             }
            },
            "type": "bar"
           }
          ],
          "barpolar": [
           {
            "marker": {
             "line": {
              "color": "#E5ECF6",
              "width": 0.5
             },
             "pattern": {
              "fillmode": "overlay",
              "size": 10,
              "solidity": 0.2
             }
            },
            "type": "barpolar"
           }
          ],
          "carpet": [
           {
            "aaxis": {
             "endlinecolor": "#2a3f5f",
             "gridcolor": "white",
             "linecolor": "white",
             "minorgridcolor": "white",
             "startlinecolor": "#2a3f5f"
            },
            "baxis": {
             "endlinecolor": "#2a3f5f",
             "gridcolor": "white",
             "linecolor": "white",
             "minorgridcolor": "white",
             "startlinecolor": "#2a3f5f"
            },
            "type": "carpet"
           }
          ],
          "choropleth": [
           {
            "colorbar": {
             "outlinewidth": 0,
             "ticks": ""
            },
            "type": "choropleth"
           }
          ],
          "contour": [
           {
            "colorbar": {
             "outlinewidth": 0,
             "ticks": ""
            },
            "colorscale": [
             [
              0,
              "#0d0887"
             ],
             [
              0.1111111111111111,
              "#46039f"
             ],
             [
              0.2222222222222222,
              "#7201a8"
             ],
             [
              0.3333333333333333,
              "#9c179e"
             ],
             [
              0.4444444444444444,
              "#bd3786"
             ],
             [
              0.5555555555555556,
              "#d8576b"
             ],
             [
              0.6666666666666666,
              "#ed7953"
             ],
             [
              0.7777777777777778,
              "#fb9f3a"
             ],
             [
              0.8888888888888888,
              "#fdca26"
             ],
             [
              1,
              "#f0f921"
             ]
            ],
            "type": "contour"
           }
          ],
          "contourcarpet": [
           {
            "colorbar": {
             "outlinewidth": 0,
             "ticks": ""
            },
            "type": "contourcarpet"
           }
          ],
          "heatmap": [
           {
            "colorbar": {
             "outlinewidth": 0,
             "ticks": ""
            },
            "colorscale": [
             [
              0,
              "#0d0887"
             ],
             [
              0.1111111111111111,
              "#46039f"
             ],
             [
              0.2222222222222222,
              "#7201a8"
             ],
             [
              0.3333333333333333,
              "#9c179e"
             ],
             [
              0.4444444444444444,
              "#bd3786"
             ],
             [
              0.5555555555555556,
              "#d8576b"
             ],
             [
              0.6666666666666666,
              "#ed7953"
             ],
             [
              0.7777777777777778,
              "#fb9f3a"
             ],
             [
              0.8888888888888888,
              "#fdca26"
             ],
             [
              1,
              "#f0f921"
             ]
            ],
            "type": "heatmap"
           }
          ],
          "histogram": [
           {
            "marker": {
             "pattern": {
              "fillmode": "overlay",
              "size": 10,
              "solidity": 0.2
             }
            },
            "type": "histogram"
           }
          ],
          "histogram2d": [
           {
            "colorbar": {
             "outlinewidth": 0,
             "ticks": ""
            },
            "colorscale": [
             [
              0,
              "#0d0887"
             ],
             [
              0.1111111111111111,
              "#46039f"
             ],
             [
              0.2222222222222222,
              "#7201a8"
             ],
             [
              0.3333333333333333,
              "#9c179e"
             ],
             [
              0.4444444444444444,
              "#bd3786"
             ],
             [
              0.5555555555555556,
              "#d8576b"
             ],
             [
              0.6666666666666666,
              "#ed7953"
             ],
             [
              0.7777777777777778,
              "#fb9f3a"
             ],
             [
              0.8888888888888888,
              "#fdca26"
             ],
             [
              1,
              "#f0f921"
             ]
            ],
            "type": "histogram2d"
           }
          ],
          "histogram2dcontour": [
           {
            "colorbar": {
             "outlinewidth": 0,
             "ticks": ""
            },
            "colorscale": [
             [
              0,
              "#0d0887"
             ],
             [
              0.1111111111111111,
              "#46039f"
             ],
             [
              0.2222222222222222,
              "#7201a8"
             ],
             [
              0.3333333333333333,
              "#9c179e"
             ],
             [
              0.4444444444444444,
              "#bd3786"
             ],
             [
              0.5555555555555556,
              "#d8576b"
             ],
             [
              0.6666666666666666,
              "#ed7953"
             ],
             [
              0.7777777777777778,
              "#fb9f3a"
             ],
             [
              0.8888888888888888,
              "#fdca26"
             ],
             [
              1,
              "#f0f921"
             ]
            ],
            "type": "histogram2dcontour"
           }
          ],
          "mesh3d": [
           {
            "colorbar": {
             "outlinewidth": 0,
             "ticks": ""
            },
            "type": "mesh3d"
           }
          ],
          "parcoords": [
           {
            "line": {
             "colorbar": {
              "outlinewidth": 0,
              "ticks": ""
             }
            },
            "type": "parcoords"
           }
          ],
          "pie": [
           {
            "automargin": true,
            "type": "pie"
           }
          ],
          "scatter": [
           {
            "fillpattern": {
             "fillmode": "overlay",
             "size": 10,
             "solidity": 0.2
            },
            "type": "scatter"
           }
          ],
          "scatter3d": [
           {
            "line": {
             "colorbar": {
              "outlinewidth": 0,
              "ticks": ""
             }
            },
            "marker": {
             "colorbar": {
              "outlinewidth": 0,
              "ticks": ""
             }
            },
            "type": "scatter3d"
           }
          ],
          "scattercarpet": [
           {
            "marker": {
             "colorbar": {
              "outlinewidth": 0,
              "ticks": ""
             }
            },
            "type": "scattercarpet"
           }
          ],
          "scattergeo": [
           {
            "marker": {
             "colorbar": {
              "outlinewidth": 0,
              "ticks": ""
             }
            },
            "type": "scattergeo"
           }
          ],
          "scattergl": [
           {
            "marker": {
             "colorbar": {
              "outlinewidth": 0,
              "ticks": ""
             }
            },
            "type": "scattergl"
           }
          ],
          "scattermap": [
           {
            "marker": {
             "colorbar": {
              "outlinewidth": 0,
              "ticks": ""
             }
            },
            "type": "scattermap"
           }
          ],
          "scattermapbox": [
           {
            "marker": {
             "colorbar": {
              "outlinewidth": 0,
              "ticks": ""
             }
            },
            "type": "scattermapbox"
           }
          ],
          "scatterpolar": [
           {
            "marker": {
             "colorbar": {
              "outlinewidth": 0,
              "ticks": ""
             }
            },
            "type": "scatterpolar"
           }
          ],
          "scatterpolargl": [
           {
            "marker": {
             "colorbar": {
              "outlinewidth": 0,
              "ticks": ""
             }
            },
            "type": "scatterpolargl"
           }
          ],
          "scatterternary": [
           {
            "marker": {
             "colorbar": {
              "outlinewidth": 0,
              "ticks": ""
             }
            },
            "type": "scatterternary"
           }
          ],
          "surface": [
           {
            "colorbar": {
             "outlinewidth": 0,
             "ticks": ""
            },
            "colorscale": [
             [
              0,
              "#0d0887"
             ],
             [
              0.1111111111111111,
              "#46039f"
             ],
             [
              0.2222222222222222,
              "#7201a8"
             ],
             [
              0.3333333333333333,
              "#9c179e"
             ],
             [
              0.4444444444444444,
              "#bd3786"
             ],
             [
              0.5555555555555556,
              "#d8576b"
             ],
             [
              0.6666666666666666,
              "#ed7953"
             ],
             [
              0.7777777777777778,
              "#fb9f3a"
             ],
             [
              0.8888888888888888,
              "#fdca26"
             ],
             [
              1,
              "#f0f921"
             ]
            ],
            "type": "surface"
           }
          ],
          "table": [
           {
            "cells": {
             "fill": {
              "color": "#EBF0F8"
             },
             "line": {
              "color": "white"
             }
            },
            "header": {
             "fill": {
              "color": "#C8D4E3"
             },
             "line": {
              "color": "white"
             }
            },
            "type": "table"
           }
          ]
         },
         "layout": {
          "annotationdefaults": {
           "arrowcolor": "#2a3f5f",
           "arrowhead": 0,
           "arrowwidth": 1
          },
          "autotypenumbers": "strict",
          "coloraxis": {
           "colorbar": {
            "outlinewidth": 0,
            "ticks": ""
           }
          },
          "colorscale": {
           "diverging": [
            [
             0,
             "#8e0152"
            ],
            [
             0.1,
             "#c51b7d"
            ],
            [
             0.2,
             "#de77ae"
            ],
            [
             0.3,
             "#f1b6da"
            ],
            [
             0.4,
             "#fde0ef"
            ],
            [
             0.5,
             "#f7f7f7"
            ],
            [
             0.6,
             "#e6f5d0"
            ],
            [
             0.7,
             "#b8e186"
            ],
            [
             0.8,
             "#7fbc41"
            ],
            [
             0.9,
             "#4d9221"
            ],
            [
             1,
             "#276419"
            ]
           ],
           "sequential": [
            [
             0,
             "#0d0887"
            ],
            [
             0.1111111111111111,
             "#46039f"
            ],
            [
             0.2222222222222222,
             "#7201a8"
            ],
            [
             0.3333333333333333,
             "#9c179e"
            ],
            [
             0.4444444444444444,
             "#bd3786"
            ],
            [
             0.5555555555555556,
             "#d8576b"
            ],
            [
             0.6666666666666666,
             "#ed7953"
            ],
            [
             0.7777777777777778,
             "#fb9f3a"
            ],
            [
             0.8888888888888888,
             "#fdca26"
            ],
            [
             1,
             "#f0f921"
            ]
           ],
           "sequentialminus": [
            [
             0,
             "#0d0887"
            ],
            [
             0.1111111111111111,
             "#46039f"
            ],
            [
             0.2222222222222222,
             "#7201a8"
            ],
            [
             0.3333333333333333,
             "#9c179e"
            ],
            [
             0.4444444444444444,
             "#bd3786"
            ],
            [
             0.5555555555555556,
             "#d8576b"
            ],
            [
             0.6666666666666666,
             "#ed7953"
            ],
            [
             0.7777777777777778,
             "#fb9f3a"
            ],
            [
             0.8888888888888888,
             "#fdca26"
            ],
            [
             1,
             "#f0f921"
            ]
           ]
          },
          "colorway": [
           "#636efa",
           "#EF553B",
           "#00cc96",
           "#ab63fa",
           "#FFA15A",
           "#19d3f3",
           "#FF6692",
           "#B6E880",
           "#FF97FF",
           "#FECB52"
          ],
          "font": {
           "color": "#2a3f5f"
          },
          "geo": {
           "bgcolor": "white",
           "lakecolor": "white",
           "landcolor": "#E5ECF6",
           "showlakes": true,
           "showland": true,
           "subunitcolor": "white"
          },
          "hoverlabel": {
           "align": "left"
          },
          "hovermode": "closest",
          "mapbox": {
           "style": "light"
          },
          "paper_bgcolor": "white",
          "plot_bgcolor": "#E5ECF6",
          "polar": {
           "angularaxis": {
            "gridcolor": "white",
            "linecolor": "white",
            "ticks": ""
           },
           "bgcolor": "#E5ECF6",
           "radialaxis": {
            "gridcolor": "white",
            "linecolor": "white",
            "ticks": ""
           }
          },
          "scene": {
           "xaxis": {
            "backgroundcolor": "#E5ECF6",
            "gridcolor": "white",
            "gridwidth": 2,
            "linecolor": "white",
            "showbackground": true,
            "ticks": "",
            "zerolinecolor": "white"
           },
           "yaxis": {
            "backgroundcolor": "#E5ECF6",
            "gridcolor": "white",
            "gridwidth": 2,
            "linecolor": "white",
            "showbackground": true,
            "ticks": "",
            "zerolinecolor": "white"
           },
           "zaxis": {
            "backgroundcolor": "#E5ECF6",
            "gridcolor": "white",
            "gridwidth": 2,
            "linecolor": "white",
            "showbackground": true,
            "ticks": "",
            "zerolinecolor": "white"
           }
          },
          "shapedefaults": {
           "line": {
            "color": "#2a3f5f"
           }
          },
          "ternary": {
           "aaxis": {
            "gridcolor": "white",
            "linecolor": "white",
            "ticks": ""
           },
           "baxis": {
            "gridcolor": "white",
            "linecolor": "white",
            "ticks": ""
           },
           "bgcolor": "#E5ECF6",
           "caxis": {
            "gridcolor": "white",
            "linecolor": "white",
            "ticks": ""
           }
          },
          "title": {
           "x": 0.05
          },
          "xaxis": {
           "automargin": true,
           "gridcolor": "white",
           "linecolor": "white",
           "ticks": "",
           "title": {
            "standoff": 15
           },
           "zerolinecolor": "white",
           "zerolinewidth": 2
          },
          "yaxis": {
           "automargin": true,
           "gridcolor": "white",
           "linecolor": "white",
           "ticks": "",
           "title": {
            "standoff": 15
           },
           "zerolinecolor": "white",
           "zerolinewidth": 2
          }
         }
        },
        "title": {
         "text": "Age Distribution by Conversion Status"
        },
        "xaxis": {
         "anchor": "y",
         "domain": [
          0,
          1
         ],
         "title": {
          "text": "Age"
         }
        },
        "xaxis2": {
         "anchor": "y2",
         "domain": [
          0,
          1
         ],
         "matches": "x",
         "showgrid": true,
         "showticklabels": false
        },
        "yaxis": {
         "anchor": "x",
         "domain": [
          0,
          0.7326
         ],
         "title": {
          "text": "Count"
         }
        },
        "yaxis2": {
         "anchor": "x2",
         "domain": [
          0.7426,
          1
         ],
         "matches": "y2",
         "showgrid": false,
         "showline": false,
         "showticklabels": false,
         "ticks": ""
        }
       }
      }
     },
     "metadata": {},
     "output_type": "display_data"
    }
   ],
   "source": [
    "fig_age = px.bar(\n",
    "    age_conversion, \n",
    "    x='Age Group', \n",
    "    y='Conversion Rate',\n",
    "    color='Conversion Rate',\n",
    "    color_continuous_scale='Viridis',\n",
    "    text=age_conversion['Conversion Rate'].apply(lambda x: f\"{x:.1f}%\"),\n",
    "    title='Conversion Rate by Age Group',\n",
    "    labels={'Conversion Rate': 'Conversion Rate (%)'},\n",
    "    height=500\n",
    ")\n",
    "\n",
    "\n",
    "fig_age.show()\n",
    "\n",
    "\n",
    "fig_age_dist = px.histogram(\n",
    "    df, \n",
    "    x='age',\n",
    "    color='y',\n",
    "    marginal='box',\n",
    "    title='Age Distribution by Conversion Status',\n",
    "    labels={'age': 'Age', 'y': 'Converted'},\n",
    "    height=500,\n",
    "    category_orders={'y': ['no', 'yes']}\n",
    ")\n",
    "\n",
    "fig_age_dist.update_layout(\n",
    "    xaxis_title='Age',\n",
    "    yaxis_title='Count'\n",
    ")\n",
    "\n",
    "fig_age_dist.show()"
   ]
  },
  {
   "cell_type": "markdown",
   "metadata": {},
   "source": [
    "The age analysis reveals a U-shaped relationship between age and conversion rate:\n",
    "\n",
    "1. **Young Adults (18-25)**: Have a relatively high conversion rate (13.8%), which aligns with the high conversion rate we saw for students. This group may be interested in saving for future education, housing, or investment opportunities.\n",
    "\n",
    "2. **Middle Ages (26-45)**: Show the lowest conversion rates, possibly due to:\n",
    "   - Higher expenses related to family formation and housing\n",
    "   - Different financial priorities like mortgages or children's education\n",
    "   - Less disposable income for term deposits\n",
    "\n",
    "3. **Older Adults (56+)**: Show increasing conversion rates, with the 65+ group having the highest conversion rate. This corresponds with the high conversion rate for retired individuals, who may:\n",
    "   - Have accumulated savings they want to protect\n",
    "   - Need fixed-income products for retirement\n",
    "   - Have more financial stability\n",
    "\n",
    "\n",
    "**Recommendation:** To balance both conversion rate and customer volume, i recommend prioritizing outreach to the 18–36 and 56+ age groups, as they offer the most strategic potential."
   ]
  },
  {
   "cell_type": "code",
   "execution_count": 15,
   "metadata": {},
   "outputs": [
    {
     "name": "stdout",
     "output_type": "stream",
     "text": [
      "### Employment Variation Rate vs. Conversion Rate\n"
     ]
    },
    {
     "data": {
      "application/vnd.plotly.v1+json": {
       "config": {
        "plotlyServerURL": "https://plot.ly"
       },
       "data": [
        {
         "marker": {
          "size": 8
         },
         "mode": "lines+markers",
         "name": "Conversion Rate",
         "type": "scatter",
         "x": [
          "-3.4 to -1.8",
          "-1.8 to -1.7",
          "-1.7 to -0.1",
          "-0.1 to 1.1",
          "1.1 to 1.4"
         ],
         "xaxis": "x",
         "y": {
          "bdata": "LCf/IwZ7NUAmT52hOBFKQO9zR70wrShAVoQBppK7CEC+yHfCglYVQA==",
          "dtype": "f8"
         },
         "yaxis": "y"
        },
        {
         "name": "Count",
         "opacity": 0.3,
         "type": "bar",
         "x": [
          "-3.4 to -1.8",
          "-1.8 to -1.7",
          "-1.7 to -0.1",
          "-0.1 to 1.1",
          "1.1 to 1.4"
         ],
         "xaxis": "x",
         "y": {
          "bdata": "Oi8FA+gQUx5qPw==",
          "dtype": "i2"
         },
         "yaxis": "y2"
        }
       ],
       "layout": {
        "height": 500,
        "legend": {
         "orientation": "h",
         "x": 1,
         "xanchor": "right",
         "y": 1.02,
         "yanchor": "bottom"
        },
        "template": {
         "data": {
          "bar": [
           {
            "error_x": {
             "color": "#2a3f5f"
            },
            "error_y": {
             "color": "#2a3f5f"
            },
            "marker": {
             "line": {
              "color": "#E5ECF6",
              "width": 0.5
             },
             "pattern": {
              "fillmode": "overlay",
              "size": 10,
              "solidity": 0.2
             }
            },
            "type": "bar"
           }
          ],
          "barpolar": [
           {
            "marker": {
             "line": {
              "color": "#E5ECF6",
              "width": 0.5
             },
             "pattern": {
              "fillmode": "overlay",
              "size": 10,
              "solidity": 0.2
             }
            },
            "type": "barpolar"
           }
          ],
          "carpet": [
           {
            "aaxis": {
             "endlinecolor": "#2a3f5f",
             "gridcolor": "white",
             "linecolor": "white",
             "minorgridcolor": "white",
             "startlinecolor": "#2a3f5f"
            },
            "baxis": {
             "endlinecolor": "#2a3f5f",
             "gridcolor": "white",
             "linecolor": "white",
             "minorgridcolor": "white",
             "startlinecolor": "#2a3f5f"
            },
            "type": "carpet"
           }
          ],
          "choropleth": [
           {
            "colorbar": {
             "outlinewidth": 0,
             "ticks": ""
            },
            "type": "choropleth"
           }
          ],
          "contour": [
           {
            "colorbar": {
             "outlinewidth": 0,
             "ticks": ""
            },
            "colorscale": [
             [
              0,
              "#0d0887"
             ],
             [
              0.1111111111111111,
              "#46039f"
             ],
             [
              0.2222222222222222,
              "#7201a8"
             ],
             [
              0.3333333333333333,
              "#9c179e"
             ],
             [
              0.4444444444444444,
              "#bd3786"
             ],
             [
              0.5555555555555556,
              "#d8576b"
             ],
             [
              0.6666666666666666,
              "#ed7953"
             ],
             [
              0.7777777777777778,
              "#fb9f3a"
             ],
             [
              0.8888888888888888,
              "#fdca26"
             ],
             [
              1,
              "#f0f921"
             ]
            ],
            "type": "contour"
           }
          ],
          "contourcarpet": [
           {
            "colorbar": {
             "outlinewidth": 0,
             "ticks": ""
            },
            "type": "contourcarpet"
           }
          ],
          "heatmap": [
           {
            "colorbar": {
             "outlinewidth": 0,
             "ticks": ""
            },
            "colorscale": [
             [
              0,
              "#0d0887"
             ],
             [
              0.1111111111111111,
              "#46039f"
             ],
             [
              0.2222222222222222,
              "#7201a8"
             ],
             [
              0.3333333333333333,
              "#9c179e"
             ],
             [
              0.4444444444444444,
              "#bd3786"
             ],
             [
              0.5555555555555556,
              "#d8576b"
             ],
             [
              0.6666666666666666,
              "#ed7953"
             ],
             [
              0.7777777777777778,
              "#fb9f3a"
             ],
             [
              0.8888888888888888,
              "#fdca26"
             ],
             [
              1,
              "#f0f921"
             ]
            ],
            "type": "heatmap"
           }
          ],
          "histogram": [
           {
            "marker": {
             "pattern": {
              "fillmode": "overlay",
              "size": 10,
              "solidity": 0.2
             }
            },
            "type": "histogram"
           }
          ],
          "histogram2d": [
           {
            "colorbar": {
             "outlinewidth": 0,
             "ticks": ""
            },
            "colorscale": [
             [
              0,
              "#0d0887"
             ],
             [
              0.1111111111111111,
              "#46039f"
             ],
             [
              0.2222222222222222,
              "#7201a8"
             ],
             [
              0.3333333333333333,
              "#9c179e"
             ],
             [
              0.4444444444444444,
              "#bd3786"
             ],
             [
              0.5555555555555556,
              "#d8576b"
             ],
             [
              0.6666666666666666,
              "#ed7953"
             ],
             [
              0.7777777777777778,
              "#fb9f3a"
             ],
             [
              0.8888888888888888,
              "#fdca26"
             ],
             [
              1,
              "#f0f921"
             ]
            ],
            "type": "histogram2d"
           }
          ],
          "histogram2dcontour": [
           {
            "colorbar": {
             "outlinewidth": 0,
             "ticks": ""
            },
            "colorscale": [
             [
              0,
              "#0d0887"
             ],
             [
              0.1111111111111111,
              "#46039f"
             ],
             [
              0.2222222222222222,
              "#7201a8"
             ],
             [
              0.3333333333333333,
              "#9c179e"
             ],
             [
              0.4444444444444444,
              "#bd3786"
             ],
             [
              0.5555555555555556,
              "#d8576b"
             ],
             [
              0.6666666666666666,
              "#ed7953"
             ],
             [
              0.7777777777777778,
              "#fb9f3a"
             ],
             [
              0.8888888888888888,
              "#fdca26"
             ],
             [
              1,
              "#f0f921"
             ]
            ],
            "type": "histogram2dcontour"
           }
          ],
          "mesh3d": [
           {
            "colorbar": {
             "outlinewidth": 0,
             "ticks": ""
            },
            "type": "mesh3d"
           }
          ],
          "parcoords": [
           {
            "line": {
             "colorbar": {
              "outlinewidth": 0,
              "ticks": ""
             }
            },
            "type": "parcoords"
           }
          ],
          "pie": [
           {
            "automargin": true,
            "type": "pie"
           }
          ],
          "scatter": [
           {
            "fillpattern": {
             "fillmode": "overlay",
             "size": 10,
             "solidity": 0.2
            },
            "type": "scatter"
           }
          ],
          "scatter3d": [
           {
            "line": {
             "colorbar": {
              "outlinewidth": 0,
              "ticks": ""
             }
            },
            "marker": {
             "colorbar": {
              "outlinewidth": 0,
              "ticks": ""
             }
            },
            "type": "scatter3d"
           }
          ],
          "scattercarpet": [
           {
            "marker": {
             "colorbar": {
              "outlinewidth": 0,
              "ticks": ""
             }
            },
            "type": "scattercarpet"
           }
          ],
          "scattergeo": [
           {
            "marker": {
             "colorbar": {
              "outlinewidth": 0,
              "ticks": ""
             }
            },
            "type": "scattergeo"
           }
          ],
          "scattergl": [
           {
            "marker": {
             "colorbar": {
              "outlinewidth": 0,
              "ticks": ""
             }
            },
            "type": "scattergl"
           }
          ],
          "scattermap": [
           {
            "marker": {
             "colorbar": {
              "outlinewidth": 0,
              "ticks": ""
             }
            },
            "type": "scattermap"
           }
          ],
          "scattermapbox": [
           {
            "marker": {
             "colorbar": {
              "outlinewidth": 0,
              "ticks": ""
             }
            },
            "type": "scattermapbox"
           }
          ],
          "scatterpolar": [
           {
            "marker": {
             "colorbar": {
              "outlinewidth": 0,
              "ticks": ""
             }
            },
            "type": "scatterpolar"
           }
          ],
          "scatterpolargl": [
           {
            "marker": {
             "colorbar": {
              "outlinewidth": 0,
              "ticks": ""
             }
            },
            "type": "scatterpolargl"
           }
          ],
          "scatterternary": [
           {
            "marker": {
             "colorbar": {
              "outlinewidth": 0,
              "ticks": ""
             }
            },
            "type": "scatterternary"
           }
          ],
          "surface": [
           {
            "colorbar": {
             "outlinewidth": 0,
             "ticks": ""
            },
            "colorscale": [
             [
              0,
              "#0d0887"
             ],
             [
              0.1111111111111111,
              "#46039f"
             ],
             [
              0.2222222222222222,
              "#7201a8"
             ],
             [
              0.3333333333333333,
              "#9c179e"
             ],
             [
              0.4444444444444444,
              "#bd3786"
             ],
             [
              0.5555555555555556,
              "#d8576b"
             ],
             [
              0.6666666666666666,
              "#ed7953"
             ],
             [
              0.7777777777777778,
              "#fb9f3a"
             ],
             [
              0.8888888888888888,
              "#fdca26"
             ],
             [
              1,
              "#f0f921"
             ]
            ],
            "type": "surface"
           }
          ],
          "table": [
           {
            "cells": {
             "fill": {
              "color": "#EBF0F8"
             },
             "line": {
              "color": "white"
             }
            },
            "header": {
             "fill": {
              "color": "#C8D4E3"
             },
             "line": {
              "color": "white"
             }
            },
            "type": "table"
           }
          ]
         },
         "layout": {
          "annotationdefaults": {
           "arrowcolor": "#2a3f5f",
           "arrowhead": 0,
           "arrowwidth": 1
          },
          "autotypenumbers": "strict",
          "coloraxis": {
           "colorbar": {
            "outlinewidth": 0,
            "ticks": ""
           }
          },
          "colorscale": {
           "diverging": [
            [
             0,
             "#8e0152"
            ],
            [
             0.1,
             "#c51b7d"
            ],
            [
             0.2,
             "#de77ae"
            ],
            [
             0.3,
             "#f1b6da"
            ],
            [
             0.4,
             "#fde0ef"
            ],
            [
             0.5,
             "#f7f7f7"
            ],
            [
             0.6,
             "#e6f5d0"
            ],
            [
             0.7,
             "#b8e186"
            ],
            [
             0.8,
             "#7fbc41"
            ],
            [
             0.9,
             "#4d9221"
            ],
            [
             1,
             "#276419"
            ]
           ],
           "sequential": [
            [
             0,
             "#0d0887"
            ],
            [
             0.1111111111111111,
             "#46039f"
            ],
            [
             0.2222222222222222,
             "#7201a8"
            ],
            [
             0.3333333333333333,
             "#9c179e"
            ],
            [
             0.4444444444444444,
             "#bd3786"
            ],
            [
             0.5555555555555556,
             "#d8576b"
            ],
            [
             0.6666666666666666,
             "#ed7953"
            ],
            [
             0.7777777777777778,
             "#fb9f3a"
            ],
            [
             0.8888888888888888,
             "#fdca26"
            ],
            [
             1,
             "#f0f921"
            ]
           ],
           "sequentialminus": [
            [
             0,
             "#0d0887"
            ],
            [
             0.1111111111111111,
             "#46039f"
            ],
            [
             0.2222222222222222,
             "#7201a8"
            ],
            [
             0.3333333333333333,
             "#9c179e"
            ],
            [
             0.4444444444444444,
             "#bd3786"
            ],
            [
             0.5555555555555556,
             "#d8576b"
            ],
            [
             0.6666666666666666,
             "#ed7953"
            ],
            [
             0.7777777777777778,
             "#fb9f3a"
            ],
            [
             0.8888888888888888,
             "#fdca26"
            ],
            [
             1,
             "#f0f921"
            ]
           ]
          },
          "colorway": [
           "#636efa",
           "#EF553B",
           "#00cc96",
           "#ab63fa",
           "#FFA15A",
           "#19d3f3",
           "#FF6692",
           "#B6E880",
           "#FF97FF",
           "#FECB52"
          ],
          "font": {
           "color": "#2a3f5f"
          },
          "geo": {
           "bgcolor": "white",
           "lakecolor": "white",
           "landcolor": "#E5ECF6",
           "showlakes": true,
           "showland": true,
           "subunitcolor": "white"
          },
          "hoverlabel": {
           "align": "left"
          },
          "hovermode": "closest",
          "mapbox": {
           "style": "light"
          },
          "paper_bgcolor": "white",
          "plot_bgcolor": "#E5ECF6",
          "polar": {
           "angularaxis": {
            "gridcolor": "white",
            "linecolor": "white",
            "ticks": ""
           },
           "bgcolor": "#E5ECF6",
           "radialaxis": {
            "gridcolor": "white",
            "linecolor": "white",
            "ticks": ""
           }
          },
          "scene": {
           "xaxis": {
            "backgroundcolor": "#E5ECF6",
            "gridcolor": "white",
            "gridwidth": 2,
            "linecolor": "white",
            "showbackground": true,
            "ticks": "",
            "zerolinecolor": "white"
           },
           "yaxis": {
            "backgroundcolor": "#E5ECF6",
            "gridcolor": "white",
            "gridwidth": 2,
            "linecolor": "white",
            "showbackground": true,
            "ticks": "",
            "zerolinecolor": "white"
           },
           "zaxis": {
            "backgroundcolor": "#E5ECF6",
            "gridcolor": "white",
            "gridwidth": 2,
            "linecolor": "white",
            "showbackground": true,
            "ticks": "",
            "zerolinecolor": "white"
           }
          },
          "shapedefaults": {
           "line": {
            "color": "#2a3f5f"
           }
          },
          "ternary": {
           "aaxis": {
            "gridcolor": "white",
            "linecolor": "white",
            "ticks": ""
           },
           "baxis": {
            "gridcolor": "white",
            "linecolor": "white",
            "ticks": ""
           },
           "bgcolor": "#E5ECF6",
           "caxis": {
            "gridcolor": "white",
            "linecolor": "white",
            "ticks": ""
           }
          },
          "title": {
           "x": 0.05
          },
          "xaxis": {
           "automargin": true,
           "gridcolor": "white",
           "linecolor": "white",
           "ticks": "",
           "title": {
            "standoff": 15
           },
           "zerolinecolor": "white",
           "zerolinewidth": 2
          },
          "yaxis": {
           "automargin": true,
           "gridcolor": "white",
           "linecolor": "white",
           "ticks": "",
           "title": {
            "standoff": 15
           },
           "zerolinecolor": "white",
           "zerolinewidth": 2
          }
         }
        },
        "title": {
         "text": "Conversion Rate by Employment Variation Rate"
        },
        "xaxis": {
         "anchor": "y",
         "domain": [
          0,
          0.94
         ],
         "tickangle": 45,
         "title": {
          "text": "Employment Variation Rate"
         }
        },
        "yaxis": {
         "anchor": "x",
         "domain": [
          0,
          1
         ],
         "title": {
          "text": "Conversion Rate (%)"
         }
        },
        "yaxis2": {
         "anchor": "x",
         "overlaying": "y",
         "side": "right",
         "title": {
          "text": "Count"
         }
        }
       }
      }
     },
     "metadata": {},
     "output_type": "display_data"
    },
    {
     "name": "stdout",
     "output_type": "stream",
     "text": [
      "### Euribor 3-Month Rate vs. Conversion Rate\n"
     ]
    },
    {
     "data": {
      "application/vnd.plotly.v1+json": {
       "config": {
        "plotlyServerURL": "https://plot.ly"
       },
       "data": [
        {
         "marker": {
          "size": 8
         },
         "mode": "lines+markers",
         "name": "Conversion Rate",
         "type": "scatter",
         "x": [
          "0.63 to 1.05",
          "1.05 to 1.3",
          "1.3 to 1.41",
          "1.41 to 4.19",
          "4.19 to 4.86",
          "4.86 to 4.86",
          "4.86 to 4.96",
          "4.96 to 4.96",
          "4.96 to 4.96",
          "4.96 to 5.04"
         ],
         "xaxis": "x",
         "y": {
          "bdata": "gT/gD/jzRkCn6vERJ4wtQIqpxFRiKilA3Xk8mZVtIkDn3Bs12QMJQLC6p6coWxFAqz4/WK2ZF0AvjQIRHLsUQMgdXSpHxRNAa/8dd4lYGEA=",
          "dtype": "f8"
         },
         "yaxis": "y"
        },
        {
         "name": "Count",
         "opacity": 0.3,
         "type": "bar",
         "x": [
          "0.63 to 1.05",
          "1.05 to 1.3",
          "1.3 to 1.41",
          "1.41 to 4.19",
          "4.19 to 4.86",
          "4.86 to 4.86",
          "4.86 to 4.96",
          "4.96 to 4.96",
          "4.96 to 4.96",
          "4.96 to 5.04"
         ],
         "xaxis": "x",
         "y": {
          "bdata": "IBCcEVYPmBF9E4ENjw+jEU4OvA0=",
          "dtype": "i2"
         },
         "yaxis": "y2"
        }
       ],
       "layout": {
        "height": 500,
        "legend": {
         "orientation": "h",
         "x": 1,
         "xanchor": "right",
         "y": 1.02,
         "yanchor": "bottom"
        },
        "template": {
         "data": {
          "bar": [
           {
            "error_x": {
             "color": "#2a3f5f"
            },
            "error_y": {
             "color": "#2a3f5f"
            },
            "marker": {
             "line": {
              "color": "#E5ECF6",
              "width": 0.5
             },
             "pattern": {
              "fillmode": "overlay",
              "size": 10,
              "solidity": 0.2
             }
            },
            "type": "bar"
           }
          ],
          "barpolar": [
           {
            "marker": {
             "line": {
              "color": "#E5ECF6",
              "width": 0.5
             },
             "pattern": {
              "fillmode": "overlay",
              "size": 10,
              "solidity": 0.2
             }
            },
            "type": "barpolar"
           }
          ],
          "carpet": [
           {
            "aaxis": {
             "endlinecolor": "#2a3f5f",
             "gridcolor": "white",
             "linecolor": "white",
             "minorgridcolor": "white",
             "startlinecolor": "#2a3f5f"
            },
            "baxis": {
             "endlinecolor": "#2a3f5f",
             "gridcolor": "white",
             "linecolor": "white",
             "minorgridcolor": "white",
             "startlinecolor": "#2a3f5f"
            },
            "type": "carpet"
           }
          ],
          "choropleth": [
           {
            "colorbar": {
             "outlinewidth": 0,
             "ticks": ""
            },
            "type": "choropleth"
           }
          ],
          "contour": [
           {
            "colorbar": {
             "outlinewidth": 0,
             "ticks": ""
            },
            "colorscale": [
             [
              0,
              "#0d0887"
             ],
             [
              0.1111111111111111,
              "#46039f"
             ],
             [
              0.2222222222222222,
              "#7201a8"
             ],
             [
              0.3333333333333333,
              "#9c179e"
             ],
             [
              0.4444444444444444,
              "#bd3786"
             ],
             [
              0.5555555555555556,
              "#d8576b"
             ],
             [
              0.6666666666666666,
              "#ed7953"
             ],
             [
              0.7777777777777778,
              "#fb9f3a"
             ],
             [
              0.8888888888888888,
              "#fdca26"
             ],
             [
              1,
              "#f0f921"
             ]
            ],
            "type": "contour"
           }
          ],
          "contourcarpet": [
           {
            "colorbar": {
             "outlinewidth": 0,
             "ticks": ""
            },
            "type": "contourcarpet"
           }
          ],
          "heatmap": [
           {
            "colorbar": {
             "outlinewidth": 0,
             "ticks": ""
            },
            "colorscale": [
             [
              0,
              "#0d0887"
             ],
             [
              0.1111111111111111,
              "#46039f"
             ],
             [
              0.2222222222222222,
              "#7201a8"
             ],
             [
              0.3333333333333333,
              "#9c179e"
             ],
             [
              0.4444444444444444,
              "#bd3786"
             ],
             [
              0.5555555555555556,
              "#d8576b"
             ],
             [
              0.6666666666666666,
              "#ed7953"
             ],
             [
              0.7777777777777778,
              "#fb9f3a"
             ],
             [
              0.8888888888888888,
              "#fdca26"
             ],
             [
              1,
              "#f0f921"
             ]
            ],
            "type": "heatmap"
           }
          ],
          "histogram": [
           {
            "marker": {
             "pattern": {
              "fillmode": "overlay",
              "size": 10,
              "solidity": 0.2
             }
            },
            "type": "histogram"
           }
          ],
          "histogram2d": [
           {
            "colorbar": {
             "outlinewidth": 0,
             "ticks": ""
            },
            "colorscale": [
             [
              0,
              "#0d0887"
             ],
             [
              0.1111111111111111,
              "#46039f"
             ],
             [
              0.2222222222222222,
              "#7201a8"
             ],
             [
              0.3333333333333333,
              "#9c179e"
             ],
             [
              0.4444444444444444,
              "#bd3786"
             ],
             [
              0.5555555555555556,
              "#d8576b"
             ],
             [
              0.6666666666666666,
              "#ed7953"
             ],
             [
              0.7777777777777778,
              "#fb9f3a"
             ],
             [
              0.8888888888888888,
              "#fdca26"
             ],
             [
              1,
              "#f0f921"
             ]
            ],
            "type": "histogram2d"
           }
          ],
          "histogram2dcontour": [
           {
            "colorbar": {
             "outlinewidth": 0,
             "ticks": ""
            },
            "colorscale": [
             [
              0,
              "#0d0887"
             ],
             [
              0.1111111111111111,
              "#46039f"
             ],
             [
              0.2222222222222222,
              "#7201a8"
             ],
             [
              0.3333333333333333,
              "#9c179e"
             ],
             [
              0.4444444444444444,
              "#bd3786"
             ],
             [
              0.5555555555555556,
              "#d8576b"
             ],
             [
              0.6666666666666666,
              "#ed7953"
             ],
             [
              0.7777777777777778,
              "#fb9f3a"
             ],
             [
              0.8888888888888888,
              "#fdca26"
             ],
             [
              1,
              "#f0f921"
             ]
            ],
            "type": "histogram2dcontour"
           }
          ],
          "mesh3d": [
           {
            "colorbar": {
             "outlinewidth": 0,
             "ticks": ""
            },
            "type": "mesh3d"
           }
          ],
          "parcoords": [
           {
            "line": {
             "colorbar": {
              "outlinewidth": 0,
              "ticks": ""
             }
            },
            "type": "parcoords"
           }
          ],
          "pie": [
           {
            "automargin": true,
            "type": "pie"
           }
          ],
          "scatter": [
           {
            "fillpattern": {
             "fillmode": "overlay",
             "size": 10,
             "solidity": 0.2
            },
            "type": "scatter"
           }
          ],
          "scatter3d": [
           {
            "line": {
             "colorbar": {
              "outlinewidth": 0,
              "ticks": ""
             }
            },
            "marker": {
             "colorbar": {
              "outlinewidth": 0,
              "ticks": ""
             }
            },
            "type": "scatter3d"
           }
          ],
          "scattercarpet": [
           {
            "marker": {
             "colorbar": {
              "outlinewidth": 0,
              "ticks": ""
             }
            },
            "type": "scattercarpet"
           }
          ],
          "scattergeo": [
           {
            "marker": {
             "colorbar": {
              "outlinewidth": 0,
              "ticks": ""
             }
            },
            "type": "scattergeo"
           }
          ],
          "scattergl": [
           {
            "marker": {
             "colorbar": {
              "outlinewidth": 0,
              "ticks": ""
             }
            },
            "type": "scattergl"
           }
          ],
          "scattermap": [
           {
            "marker": {
             "colorbar": {
              "outlinewidth": 0,
              "ticks": ""
             }
            },
            "type": "scattermap"
           }
          ],
          "scattermapbox": [
           {
            "marker": {
             "colorbar": {
              "outlinewidth": 0,
              "ticks": ""
             }
            },
            "type": "scattermapbox"
           }
          ],
          "scatterpolar": [
           {
            "marker": {
             "colorbar": {
              "outlinewidth": 0,
              "ticks": ""
             }
            },
            "type": "scatterpolar"
           }
          ],
          "scatterpolargl": [
           {
            "marker": {
             "colorbar": {
              "outlinewidth": 0,
              "ticks": ""
             }
            },
            "type": "scatterpolargl"
           }
          ],
          "scatterternary": [
           {
            "marker": {
             "colorbar": {
              "outlinewidth": 0,
              "ticks": ""
             }
            },
            "type": "scatterternary"
           }
          ],
          "surface": [
           {
            "colorbar": {
             "outlinewidth": 0,
             "ticks": ""
            },
            "colorscale": [
             [
              0,
              "#0d0887"
             ],
             [
              0.1111111111111111,
              "#46039f"
             ],
             [
              0.2222222222222222,
              "#7201a8"
             ],
             [
              0.3333333333333333,
              "#9c179e"
             ],
             [
              0.4444444444444444,
              "#bd3786"
             ],
             [
              0.5555555555555556,
              "#d8576b"
             ],
             [
              0.6666666666666666,
              "#ed7953"
             ],
             [
              0.7777777777777778,
              "#fb9f3a"
             ],
             [
              0.8888888888888888,
              "#fdca26"
             ],
             [
              1,
              "#f0f921"
             ]
            ],
            "type": "surface"
           }
          ],
          "table": [
           {
            "cells": {
             "fill": {
              "color": "#EBF0F8"
             },
             "line": {
              "color": "white"
             }
            },
            "header": {
             "fill": {
              "color": "#C8D4E3"
             },
             "line": {
              "color": "white"
             }
            },
            "type": "table"
           }
          ]
         },
         "layout": {
          "annotationdefaults": {
           "arrowcolor": "#2a3f5f",
           "arrowhead": 0,
           "arrowwidth": 1
          },
          "autotypenumbers": "strict",
          "coloraxis": {
           "colorbar": {
            "outlinewidth": 0,
            "ticks": ""
           }
          },
          "colorscale": {
           "diverging": [
            [
             0,
             "#8e0152"
            ],
            [
             0.1,
             "#c51b7d"
            ],
            [
             0.2,
             "#de77ae"
            ],
            [
             0.3,
             "#f1b6da"
            ],
            [
             0.4,
             "#fde0ef"
            ],
            [
             0.5,
             "#f7f7f7"
            ],
            [
             0.6,
             "#e6f5d0"
            ],
            [
             0.7,
             "#b8e186"
            ],
            [
             0.8,
             "#7fbc41"
            ],
            [
             0.9,
             "#4d9221"
            ],
            [
             1,
             "#276419"
            ]
           ],
           "sequential": [
            [
             0,
             "#0d0887"
            ],
            [
             0.1111111111111111,
             "#46039f"
            ],
            [
             0.2222222222222222,
             "#7201a8"
            ],
            [
             0.3333333333333333,
             "#9c179e"
            ],
            [
             0.4444444444444444,
             "#bd3786"
            ],
            [
             0.5555555555555556,
             "#d8576b"
            ],
            [
             0.6666666666666666,
             "#ed7953"
            ],
            [
             0.7777777777777778,
             "#fb9f3a"
            ],
            [
             0.8888888888888888,
             "#fdca26"
            ],
            [
             1,
             "#f0f921"
            ]
           ],
           "sequentialminus": [
            [
             0,
             "#0d0887"
            ],
            [
             0.1111111111111111,
             "#46039f"
            ],
            [
             0.2222222222222222,
             "#7201a8"
            ],
            [
             0.3333333333333333,
             "#9c179e"
            ],
            [
             0.4444444444444444,
             "#bd3786"
            ],
            [
             0.5555555555555556,
             "#d8576b"
            ],
            [
             0.6666666666666666,
             "#ed7953"
            ],
            [
             0.7777777777777778,
             "#fb9f3a"
            ],
            [
             0.8888888888888888,
             "#fdca26"
            ],
            [
             1,
             "#f0f921"
            ]
           ]
          },
          "colorway": [
           "#636efa",
           "#EF553B",
           "#00cc96",
           "#ab63fa",
           "#FFA15A",
           "#19d3f3",
           "#FF6692",
           "#B6E880",
           "#FF97FF",
           "#FECB52"
          ],
          "font": {
           "color": "#2a3f5f"
          },
          "geo": {
           "bgcolor": "white",
           "lakecolor": "white",
           "landcolor": "#E5ECF6",
           "showlakes": true,
           "showland": true,
           "subunitcolor": "white"
          },
          "hoverlabel": {
           "align": "left"
          },
          "hovermode": "closest",
          "mapbox": {
           "style": "light"
          },
          "paper_bgcolor": "white",
          "plot_bgcolor": "#E5ECF6",
          "polar": {
           "angularaxis": {
            "gridcolor": "white",
            "linecolor": "white",
            "ticks": ""
           },
           "bgcolor": "#E5ECF6",
           "radialaxis": {
            "gridcolor": "white",
            "linecolor": "white",
            "ticks": ""
           }
          },
          "scene": {
           "xaxis": {
            "backgroundcolor": "#E5ECF6",
            "gridcolor": "white",
            "gridwidth": 2,
            "linecolor": "white",
            "showbackground": true,
            "ticks": "",
            "zerolinecolor": "white"
           },
           "yaxis": {
            "backgroundcolor": "#E5ECF6",
            "gridcolor": "white",
            "gridwidth": 2,
            "linecolor": "white",
            "showbackground": true,
            "ticks": "",
            "zerolinecolor": "white"
           },
           "zaxis": {
            "backgroundcolor": "#E5ECF6",
            "gridcolor": "white",
            "gridwidth": 2,
            "linecolor": "white",
            "showbackground": true,
            "ticks": "",
            "zerolinecolor": "white"
           }
          },
          "shapedefaults": {
           "line": {
            "color": "#2a3f5f"
           }
          },
          "ternary": {
           "aaxis": {
            "gridcolor": "white",
            "linecolor": "white",
            "ticks": ""
           },
           "baxis": {
            "gridcolor": "white",
            "linecolor": "white",
            "ticks": ""
           },
           "bgcolor": "#E5ECF6",
           "caxis": {
            "gridcolor": "white",
            "linecolor": "white",
            "ticks": ""
           }
          },
          "title": {
           "x": 0.05
          },
          "xaxis": {
           "automargin": true,
           "gridcolor": "white",
           "linecolor": "white",
           "ticks": "",
           "title": {
            "standoff": 15
           },
           "zerolinecolor": "white",
           "zerolinewidth": 2
          },
          "yaxis": {
           "automargin": true,
           "gridcolor": "white",
           "linecolor": "white",
           "ticks": "",
           "title": {
            "standoff": 15
           },
           "zerolinecolor": "white",
           "zerolinewidth": 2
          }
         }
        },
        "title": {
         "text": "Conversion Rate by Euribor 3-Month Rate"
        },
        "xaxis": {
         "anchor": "y",
         "domain": [
          0,
          0.94
         ],
         "tickangle": 45,
         "title": {
          "text": "Euribor 3-Month Rate"
         }
        },
        "yaxis": {
         "anchor": "x",
         "domain": [
          0,
          1
         ],
         "title": {
          "text": "Conversion Rate (%)"
         }
        },
        "yaxis2": {
         "anchor": "x",
         "overlaying": "y",
         "side": "right",
         "title": {
          "text": "Count"
         }
        }
       }
      }
     },
     "metadata": {},
     "output_type": "display_data"
    },
    {
     "name": "stdout",
     "output_type": "stream",
     "text": [
      "### Consumer Price Index vs. Conversion Rate\n"
     ]
    },
    {
     "data": {
      "application/vnd.plotly.v1+json": {
       "config": {
        "plotlyServerURL": "https://plot.ly"
       },
       "data": [
        {
         "marker": {
          "size": 8
         },
         "mode": "lines+markers",
         "name": "Conversion Rate",
         "type": "scatter",
         "x": [
          "92.2 to 92.89",
          "92.89 to 93.2",
          "93.2 to 93.44",
          "93.44 to 93.75",
          "93.75 to 93.92",
          "93.92 to 93.99",
          "93.99 to 94.47",
          "94.47 to 94.77"
         ],
         "xaxis": "x",
         "y": {
          "bdata": "JcWyvH9mMkB+S9apSGUqQPUTqLMp9h5AHvrN1qHfS0D+RbQODGYgQFaEAaaSuwhAFXOrM1IxK0DhjabOr71GQA==",
          "dtype": "f8"
         },
         "yaxis": "y"
        },
        {
         "name": "Count",
         "opacity": 0.3,
         "type": "bar",
         "x": [
          "92.2 to 92.89",
          "92.89 to 93.2",
          "93.2 to 93.44",
          "93.44 to 93.75",
          "93.75 to 93.92",
          "93.92 to 93.99",
          "93.99 to 94.47",
          "94.47 to 94.77"
         ],
         "xaxis": "x",
         "y": {
          "bdata": "VSCFGj8VrgA0G1MeShVMAQ==",
          "dtype": "i2"
         },
         "yaxis": "y2"
        }
       ],
       "layout": {
        "height": 500,
        "legend": {
         "orientation": "h",
         "x": 1,
         "xanchor": "right",
         "y": 1.02,
         "yanchor": "bottom"
        },
        "template": {
         "data": {
          "bar": [
           {
            "error_x": {
             "color": "#2a3f5f"
            },
            "error_y": {
             "color": "#2a3f5f"
            },
            "marker": {
             "line": {
              "color": "#E5ECF6",
              "width": 0.5
             },
             "pattern": {
              "fillmode": "overlay",
              "size": 10,
              "solidity": 0.2
             }
            },
            "type": "bar"
           }
          ],
          "barpolar": [
           {
            "marker": {
             "line": {
              "color": "#E5ECF6",
              "width": 0.5
             },
             "pattern": {
              "fillmode": "overlay",
              "size": 10,
              "solidity": 0.2
             }
            },
            "type": "barpolar"
           }
          ],
          "carpet": [
           {
            "aaxis": {
             "endlinecolor": "#2a3f5f",
             "gridcolor": "white",
             "linecolor": "white",
             "minorgridcolor": "white",
             "startlinecolor": "#2a3f5f"
            },
            "baxis": {
             "endlinecolor": "#2a3f5f",
             "gridcolor": "white",
             "linecolor": "white",
             "minorgridcolor": "white",
             "startlinecolor": "#2a3f5f"
            },
            "type": "carpet"
           }
          ],
          "choropleth": [
           {
            "colorbar": {
             "outlinewidth": 0,
             "ticks": ""
            },
            "type": "choropleth"
           }
          ],
          "contour": [
           {
            "colorbar": {
             "outlinewidth": 0,
             "ticks": ""
            },
            "colorscale": [
             [
              0,
              "#0d0887"
             ],
             [
              0.1111111111111111,
              "#46039f"
             ],
             [
              0.2222222222222222,
              "#7201a8"
             ],
             [
              0.3333333333333333,
              "#9c179e"
             ],
             [
              0.4444444444444444,
              "#bd3786"
             ],
             [
              0.5555555555555556,
              "#d8576b"
             ],
             [
              0.6666666666666666,
              "#ed7953"
             ],
             [
              0.7777777777777778,
              "#fb9f3a"
             ],
             [
              0.8888888888888888,
              "#fdca26"
             ],
             [
              1,
              "#f0f921"
             ]
            ],
            "type": "contour"
           }
          ],
          "contourcarpet": [
           {
            "colorbar": {
             "outlinewidth": 0,
             "ticks": ""
            },
            "type": "contourcarpet"
           }
          ],
          "heatmap": [
           {
            "colorbar": {
             "outlinewidth": 0,
             "ticks": ""
            },
            "colorscale": [
             [
              0,
              "#0d0887"
             ],
             [
              0.1111111111111111,
              "#46039f"
             ],
             [
              0.2222222222222222,
              "#7201a8"
             ],
             [
              0.3333333333333333,
              "#9c179e"
             ],
             [
              0.4444444444444444,
              "#bd3786"
             ],
             [
              0.5555555555555556,
              "#d8576b"
             ],
             [
              0.6666666666666666,
              "#ed7953"
             ],
             [
              0.7777777777777778,
              "#fb9f3a"
             ],
             [
              0.8888888888888888,
              "#fdca26"
             ],
             [
              1,
              "#f0f921"
             ]
            ],
            "type": "heatmap"
           }
          ],
          "histogram": [
           {
            "marker": {
             "pattern": {
              "fillmode": "overlay",
              "size": 10,
              "solidity": 0.2
             }
            },
            "type": "histogram"
           }
          ],
          "histogram2d": [
           {
            "colorbar": {
             "outlinewidth": 0,
             "ticks": ""
            },
            "colorscale": [
             [
              0,
              "#0d0887"
             ],
             [
              0.1111111111111111,
              "#46039f"
             ],
             [
              0.2222222222222222,
              "#7201a8"
             ],
             [
              0.3333333333333333,
              "#9c179e"
             ],
             [
              0.4444444444444444,
              "#bd3786"
             ],
             [
              0.5555555555555556,
              "#d8576b"
             ],
             [
              0.6666666666666666,
              "#ed7953"
             ],
             [
              0.7777777777777778,
              "#fb9f3a"
             ],
             [
              0.8888888888888888,
              "#fdca26"
             ],
             [
              1,
              "#f0f921"
             ]
            ],
            "type": "histogram2d"
           }
          ],
          "histogram2dcontour": [
           {
            "colorbar": {
             "outlinewidth": 0,
             "ticks": ""
            },
            "colorscale": [
             [
              0,
              "#0d0887"
             ],
             [
              0.1111111111111111,
              "#46039f"
             ],
             [
              0.2222222222222222,
              "#7201a8"
             ],
             [
              0.3333333333333333,
              "#9c179e"
             ],
             [
              0.4444444444444444,
              "#bd3786"
             ],
             [
              0.5555555555555556,
              "#d8576b"
             ],
             [
              0.6666666666666666,
              "#ed7953"
             ],
             [
              0.7777777777777778,
              "#fb9f3a"
             ],
             [
              0.8888888888888888,
              "#fdca26"
             ],
             [
              1,
              "#f0f921"
             ]
            ],
            "type": "histogram2dcontour"
           }
          ],
          "mesh3d": [
           {
            "colorbar": {
             "outlinewidth": 0,
             "ticks": ""
            },
            "type": "mesh3d"
           }
          ],
          "parcoords": [
           {
            "line": {
             "colorbar": {
              "outlinewidth": 0,
              "ticks": ""
             }
            },
            "type": "parcoords"
           }
          ],
          "pie": [
           {
            "automargin": true,
            "type": "pie"
           }
          ],
          "scatter": [
           {
            "fillpattern": {
             "fillmode": "overlay",
             "size": 10,
             "solidity": 0.2
            },
            "type": "scatter"
           }
          ],
          "scatter3d": [
           {
            "line": {
             "colorbar": {
              "outlinewidth": 0,
              "ticks": ""
             }
            },
            "marker": {
             "colorbar": {
              "outlinewidth": 0,
              "ticks": ""
             }
            },
            "type": "scatter3d"
           }
          ],
          "scattercarpet": [
           {
            "marker": {
             "colorbar": {
              "outlinewidth": 0,
              "ticks": ""
             }
            },
            "type": "scattercarpet"
           }
          ],
          "scattergeo": [
           {
            "marker": {
             "colorbar": {
              "outlinewidth": 0,
              "ticks": ""
             }
            },
            "type": "scattergeo"
           }
          ],
          "scattergl": [
           {
            "marker": {
             "colorbar": {
              "outlinewidth": 0,
              "ticks": ""
             }
            },
            "type": "scattergl"
           }
          ],
          "scattermap": [
           {
            "marker": {
             "colorbar": {
              "outlinewidth": 0,
              "ticks": ""
             }
            },
            "type": "scattermap"
           }
          ],
          "scattermapbox": [
           {
            "marker": {
             "colorbar": {
              "outlinewidth": 0,
              "ticks": ""
             }
            },
            "type": "scattermapbox"
           }
          ],
          "scatterpolar": [
           {
            "marker": {
             "colorbar": {
              "outlinewidth": 0,
              "ticks": ""
             }
            },
            "type": "scatterpolar"
           }
          ],
          "scatterpolargl": [
           {
            "marker": {
             "colorbar": {
              "outlinewidth": 0,
              "ticks": ""
             }
            },
            "type": "scatterpolargl"
           }
          ],
          "scatterternary": [
           {
            "marker": {
             "colorbar": {
              "outlinewidth": 0,
              "ticks": ""
             }
            },
            "type": "scatterternary"
           }
          ],
          "surface": [
           {
            "colorbar": {
             "outlinewidth": 0,
             "ticks": ""
            },
            "colorscale": [
             [
              0,
              "#0d0887"
             ],
             [
              0.1111111111111111,
              "#46039f"
             ],
             [
              0.2222222222222222,
              "#7201a8"
             ],
             [
              0.3333333333333333,
              "#9c179e"
             ],
             [
              0.4444444444444444,
              "#bd3786"
             ],
             [
              0.5555555555555556,
              "#d8576b"
             ],
             [
              0.6666666666666666,
              "#ed7953"
             ],
             [
              0.7777777777777778,
              "#fb9f3a"
             ],
             [
              0.8888888888888888,
              "#fdca26"
             ],
             [
              1,
              "#f0f921"
             ]
            ],
            "type": "surface"
           }
          ],
          "table": [
           {
            "cells": {
             "fill": {
              "color": "#EBF0F8"
             },
             "line": {
              "color": "white"
             }
            },
            "header": {
             "fill": {
              "color": "#C8D4E3"
             },
             "line": {
              "color": "white"
             }
            },
            "type": "table"
           }
          ]
         },
         "layout": {
          "annotationdefaults": {
           "arrowcolor": "#2a3f5f",
           "arrowhead": 0,
           "arrowwidth": 1
          },
          "autotypenumbers": "strict",
          "coloraxis": {
           "colorbar": {
            "outlinewidth": 0,
            "ticks": ""
           }
          },
          "colorscale": {
           "diverging": [
            [
             0,
             "#8e0152"
            ],
            [
             0.1,
             "#c51b7d"
            ],
            [
             0.2,
             "#de77ae"
            ],
            [
             0.3,
             "#f1b6da"
            ],
            [
             0.4,
             "#fde0ef"
            ],
            [
             0.5,
             "#f7f7f7"
            ],
            [
             0.6,
             "#e6f5d0"
            ],
            [
             0.7,
             "#b8e186"
            ],
            [
             0.8,
             "#7fbc41"
            ],
            [
             0.9,
             "#4d9221"
            ],
            [
             1,
             "#276419"
            ]
           ],
           "sequential": [
            [
             0,
             "#0d0887"
            ],
            [
             0.1111111111111111,
             "#46039f"
            ],
            [
             0.2222222222222222,
             "#7201a8"
            ],
            [
             0.3333333333333333,
             "#9c179e"
            ],
            [
             0.4444444444444444,
             "#bd3786"
            ],
            [
             0.5555555555555556,
             "#d8576b"
            ],
            [
             0.6666666666666666,
             "#ed7953"
            ],
            [
             0.7777777777777778,
             "#fb9f3a"
            ],
            [
             0.8888888888888888,
             "#fdca26"
            ],
            [
             1,
             "#f0f921"
            ]
           ],
           "sequentialminus": [
            [
             0,
             "#0d0887"
            ],
            [
             0.1111111111111111,
             "#46039f"
            ],
            [
             0.2222222222222222,
             "#7201a8"
            ],
            [
             0.3333333333333333,
             "#9c179e"
            ],
            [
             0.4444444444444444,
             "#bd3786"
            ],
            [
             0.5555555555555556,
             "#d8576b"
            ],
            [
             0.6666666666666666,
             "#ed7953"
            ],
            [
             0.7777777777777778,
             "#fb9f3a"
            ],
            [
             0.8888888888888888,
             "#fdca26"
            ],
            [
             1,
             "#f0f921"
            ]
           ]
          },
          "colorway": [
           "#636efa",
           "#EF553B",
           "#00cc96",
           "#ab63fa",
           "#FFA15A",
           "#19d3f3",
           "#FF6692",
           "#B6E880",
           "#FF97FF",
           "#FECB52"
          ],
          "font": {
           "color": "#2a3f5f"
          },
          "geo": {
           "bgcolor": "white",
           "lakecolor": "white",
           "landcolor": "#E5ECF6",
           "showlakes": true,
           "showland": true,
           "subunitcolor": "white"
          },
          "hoverlabel": {
           "align": "left"
          },
          "hovermode": "closest",
          "mapbox": {
           "style": "light"
          },
          "paper_bgcolor": "white",
          "plot_bgcolor": "#E5ECF6",
          "polar": {
           "angularaxis": {
            "gridcolor": "white",
            "linecolor": "white",
            "ticks": ""
           },
           "bgcolor": "#E5ECF6",
           "radialaxis": {
            "gridcolor": "white",
            "linecolor": "white",
            "ticks": ""
           }
          },
          "scene": {
           "xaxis": {
            "backgroundcolor": "#E5ECF6",
            "gridcolor": "white",
            "gridwidth": 2,
            "linecolor": "white",
            "showbackground": true,
            "ticks": "",
            "zerolinecolor": "white"
           },
           "yaxis": {
            "backgroundcolor": "#E5ECF6",
            "gridcolor": "white",
            "gridwidth": 2,
            "linecolor": "white",
            "showbackground": true,
            "ticks": "",
            "zerolinecolor": "white"
           },
           "zaxis": {
            "backgroundcolor": "#E5ECF6",
            "gridcolor": "white",
            "gridwidth": 2,
            "linecolor": "white",
            "showbackground": true,
            "ticks": "",
            "zerolinecolor": "white"
           }
          },
          "shapedefaults": {
           "line": {
            "color": "#2a3f5f"
           }
          },
          "ternary": {
           "aaxis": {
            "gridcolor": "white",
            "linecolor": "white",
            "ticks": ""
           },
           "baxis": {
            "gridcolor": "white",
            "linecolor": "white",
            "ticks": ""
           },
           "bgcolor": "#E5ECF6",
           "caxis": {
            "gridcolor": "white",
            "linecolor": "white",
            "ticks": ""
           }
          },
          "title": {
           "x": 0.05
          },
          "xaxis": {
           "automargin": true,
           "gridcolor": "white",
           "linecolor": "white",
           "ticks": "",
           "title": {
            "standoff": 15
           },
           "zerolinecolor": "white",
           "zerolinewidth": 2
          },
          "yaxis": {
           "automargin": true,
           "gridcolor": "white",
           "linecolor": "white",
           "ticks": "",
           "title": {
            "standoff": 15
           },
           "zerolinecolor": "white",
           "zerolinewidth": 2
          }
         }
        },
        "title": {
         "text": "Conversion Rate by Consumer Price Index"
        },
        "xaxis": {
         "anchor": "y",
         "domain": [
          0,
          0.94
         ],
         "tickangle": 45,
         "title": {
          "text": "Consumer Price Index"
         }
        },
        "yaxis": {
         "anchor": "x",
         "domain": [
          0,
          1
         ],
         "title": {
          "text": "Conversion Rate (%)"
         }
        },
        "yaxis2": {
         "anchor": "x",
         "overlaying": "y",
         "side": "right",
         "title": {
          "text": "Count"
         }
        }
       }
      }
     },
     "metadata": {},
     "output_type": "display_data"
    },
    {
     "name": "stdout",
     "output_type": "stream",
     "text": [
      "### Consumer Confidence Index vs. Conversion Rate\n"
     ]
    },
    {
     "data": {
      "application/vnd.plotly.v1+json": {
       "config": {
        "plotlyServerURL": "https://plot.ly"
       },
       "data": [
        {
         "marker": {
          "size": 8
         },
         "mode": "lines+markers",
         "name": "Conversion Rate",
         "type": "scatter",
         "x": [
          "-50.8 to -46.2",
          "-46.2 to -42.7",
          "-42.7 to -42.0",
          "-42.0 to -41.8",
          "-41.8 to -40.0",
          "-40.0 to -36.4",
          "-36.4 to -36.1",
          "-36.1 to -26.9"
         ],
         "xaxis": "x",
         "y": {
          "bdata": "u2Px7CkKLEBuQB3FW2AYQH9I4O2HBBVA4iJCwUcxEUD+mUeLSiRHQHo9gGGh8BxA+uoeaWXyFECeL6u6J0hFQA==",
          "dtype": "f8"
         },
         "yaxis": "y"
        },
        {
         "name": "Count",
         "opacity": 0.3,
         "type": "bar",
         "x": [
          "-50.8 to -46.2",
          "-46.2 to -42.7",
          "-42.7 to -42.0",
          "-42.0 to -41.8",
          "-41.8 to -40.0",
          "-40.0 to -36.4",
          "-36.4 to -36.1",
          "-36.1 to -26.9"
         ],
         "xaxis": "x",
         "y": {
          "bdata": "oiInGiAOFhEZBVAhNxRFCg==",
          "dtype": "i2"
         },
         "yaxis": "y2"
        }
       ],
       "layout": {
        "height": 500,
        "legend": {
         "orientation": "h",
         "x": 1,
         "xanchor": "right",
         "y": 1.02,
         "yanchor": "bottom"
        },
        "template": {
         "data": {
          "bar": [
           {
            "error_x": {
             "color": "#2a3f5f"
            },
            "error_y": {
             "color": "#2a3f5f"
            },
            "marker": {
             "line": {
              "color": "#E5ECF6",
              "width": 0.5
             },
             "pattern": {
              "fillmode": "overlay",
              "size": 10,
              "solidity": 0.2
             }
            },
            "type": "bar"
           }
          ],
          "barpolar": [
           {
            "marker": {
             "line": {
              "color": "#E5ECF6",
              "width": 0.5
             },
             "pattern": {
              "fillmode": "overlay",
              "size": 10,
              "solidity": 0.2
             }
            },
            "type": "barpolar"
           }
          ],
          "carpet": [
           {
            "aaxis": {
             "endlinecolor": "#2a3f5f",
             "gridcolor": "white",
             "linecolor": "white",
             "minorgridcolor": "white",
             "startlinecolor": "#2a3f5f"
            },
            "baxis": {
             "endlinecolor": "#2a3f5f",
             "gridcolor": "white",
             "linecolor": "white",
             "minorgridcolor": "white",
             "startlinecolor": "#2a3f5f"
            },
            "type": "carpet"
           }
          ],
          "choropleth": [
           {
            "colorbar": {
             "outlinewidth": 0,
             "ticks": ""
            },
            "type": "choropleth"
           }
          ],
          "contour": [
           {
            "colorbar": {
             "outlinewidth": 0,
             "ticks": ""
            },
            "colorscale": [
             [
              0,
              "#0d0887"
             ],
             [
              0.1111111111111111,
              "#46039f"
             ],
             [
              0.2222222222222222,
              "#7201a8"
             ],
             [
              0.3333333333333333,
              "#9c179e"
             ],
             [
              0.4444444444444444,
              "#bd3786"
             ],
             [
              0.5555555555555556,
              "#d8576b"
             ],
             [
              0.6666666666666666,
              "#ed7953"
             ],
             [
              0.7777777777777778,
              "#fb9f3a"
             ],
             [
              0.8888888888888888,
              "#fdca26"
             ],
             [
              1,
              "#f0f921"
             ]
            ],
            "type": "contour"
           }
          ],
          "contourcarpet": [
           {
            "colorbar": {
             "outlinewidth": 0,
             "ticks": ""
            },
            "type": "contourcarpet"
           }
          ],
          "heatmap": [
           {
            "colorbar": {
             "outlinewidth": 0,
             "ticks": ""
            },
            "colorscale": [
             [
              0,
              "#0d0887"
             ],
             [
              0.1111111111111111,
              "#46039f"
             ],
             [
              0.2222222222222222,
              "#7201a8"
             ],
             [
              0.3333333333333333,
              "#9c179e"
             ],
             [
              0.4444444444444444,
              "#bd3786"
             ],
             [
              0.5555555555555556,
              "#d8576b"
             ],
             [
              0.6666666666666666,
              "#ed7953"
             ],
             [
              0.7777777777777778,
              "#fb9f3a"
             ],
             [
              0.8888888888888888,
              "#fdca26"
             ],
             [
              1,
              "#f0f921"
             ]
            ],
            "type": "heatmap"
           }
          ],
          "histogram": [
           {
            "marker": {
             "pattern": {
              "fillmode": "overlay",
              "size": 10,
              "solidity": 0.2
             }
            },
            "type": "histogram"
           }
          ],
          "histogram2d": [
           {
            "colorbar": {
             "outlinewidth": 0,
             "ticks": ""
            },
            "colorscale": [
             [
              0,
              "#0d0887"
             ],
             [
              0.1111111111111111,
              "#46039f"
             ],
             [
              0.2222222222222222,
              "#7201a8"
             ],
             [
              0.3333333333333333,
              "#9c179e"
             ],
             [
              0.4444444444444444,
              "#bd3786"
             ],
             [
              0.5555555555555556,
              "#d8576b"
             ],
             [
              0.6666666666666666,
              "#ed7953"
             ],
             [
              0.7777777777777778,
              "#fb9f3a"
             ],
             [
              0.8888888888888888,
              "#fdca26"
             ],
             [
              1,
              "#f0f921"
             ]
            ],
            "type": "histogram2d"
           }
          ],
          "histogram2dcontour": [
           {
            "colorbar": {
             "outlinewidth": 0,
             "ticks": ""
            },
            "colorscale": [
             [
              0,
              "#0d0887"
             ],
             [
              0.1111111111111111,
              "#46039f"
             ],
             [
              0.2222222222222222,
              "#7201a8"
             ],
             [
              0.3333333333333333,
              "#9c179e"
             ],
             [
              0.4444444444444444,
              "#bd3786"
             ],
             [
              0.5555555555555556,
              "#d8576b"
             ],
             [
              0.6666666666666666,
              "#ed7953"
             ],
             [
              0.7777777777777778,
              "#fb9f3a"
             ],
             [
              0.8888888888888888,
              "#fdca26"
             ],
             [
              1,
              "#f0f921"
             ]
            ],
            "type": "histogram2dcontour"
           }
          ],
          "mesh3d": [
           {
            "colorbar": {
             "outlinewidth": 0,
             "ticks": ""
            },
            "type": "mesh3d"
           }
          ],
          "parcoords": [
           {
            "line": {
             "colorbar": {
              "outlinewidth": 0,
              "ticks": ""
             }
            },
            "type": "parcoords"
           }
          ],
          "pie": [
           {
            "automargin": true,
            "type": "pie"
           }
          ],
          "scatter": [
           {
            "fillpattern": {
             "fillmode": "overlay",
             "size": 10,
             "solidity": 0.2
            },
            "type": "scatter"
           }
          ],
          "scatter3d": [
           {
            "line": {
             "colorbar": {
              "outlinewidth": 0,
              "ticks": ""
             }
            },
            "marker": {
             "colorbar": {
              "outlinewidth": 0,
              "ticks": ""
             }
            },
            "type": "scatter3d"
           }
          ],
          "scattercarpet": [
           {
            "marker": {
             "colorbar": {
              "outlinewidth": 0,
              "ticks": ""
             }
            },
            "type": "scattercarpet"
           }
          ],
          "scattergeo": [
           {
            "marker": {
             "colorbar": {
              "outlinewidth": 0,
              "ticks": ""
             }
            },
            "type": "scattergeo"
           }
          ],
          "scattergl": [
           {
            "marker": {
             "colorbar": {
              "outlinewidth": 0,
              "ticks": ""
             }
            },
            "type": "scattergl"
           }
          ],
          "scattermap": [
           {
            "marker": {
             "colorbar": {
              "outlinewidth": 0,
              "ticks": ""
             }
            },
            "type": "scattermap"
           }
          ],
          "scattermapbox": [
           {
            "marker": {
             "colorbar": {
              "outlinewidth": 0,
              "ticks": ""
             }
            },
            "type": "scattermapbox"
           }
          ],
          "scatterpolar": [
           {
            "marker": {
             "colorbar": {
              "outlinewidth": 0,
              "ticks": ""
             }
            },
            "type": "scatterpolar"
           }
          ],
          "scatterpolargl": [
           {
            "marker": {
             "colorbar": {
              "outlinewidth": 0,
              "ticks": ""
             }
            },
            "type": "scatterpolargl"
           }
          ],
          "scatterternary": [
           {
            "marker": {
             "colorbar": {
              "outlinewidth": 0,
              "ticks": ""
             }
            },
            "type": "scatterternary"
           }
          ],
          "surface": [
           {
            "colorbar": {
             "outlinewidth": 0,
             "ticks": ""
            },
            "colorscale": [
             [
              0,
              "#0d0887"
             ],
             [
              0.1111111111111111,
              "#46039f"
             ],
             [
              0.2222222222222222,
              "#7201a8"
             ],
             [
              0.3333333333333333,
              "#9c179e"
             ],
             [
              0.4444444444444444,
              "#bd3786"
             ],
             [
              0.5555555555555556,
              "#d8576b"
             ],
             [
              0.6666666666666666,
              "#ed7953"
             ],
             [
              0.7777777777777778,
              "#fb9f3a"
             ],
             [
              0.8888888888888888,
              "#fdca26"
             ],
             [
              1,
              "#f0f921"
             ]
            ],
            "type": "surface"
           }
          ],
          "table": [
           {
            "cells": {
             "fill": {
              "color": "#EBF0F8"
             },
             "line": {
              "color": "white"
             }
            },
            "header": {
             "fill": {
              "color": "#C8D4E3"
             },
             "line": {
              "color": "white"
             }
            },
            "type": "table"
           }
          ]
         },
         "layout": {
          "annotationdefaults": {
           "arrowcolor": "#2a3f5f",
           "arrowhead": 0,
           "arrowwidth": 1
          },
          "autotypenumbers": "strict",
          "coloraxis": {
           "colorbar": {
            "outlinewidth": 0,
            "ticks": ""
           }
          },
          "colorscale": {
           "diverging": [
            [
             0,
             "#8e0152"
            ],
            [
             0.1,
             "#c51b7d"
            ],
            [
             0.2,
             "#de77ae"
            ],
            [
             0.3,
             "#f1b6da"
            ],
            [
             0.4,
             "#fde0ef"
            ],
            [
             0.5,
             "#f7f7f7"
            ],
            [
             0.6,
             "#e6f5d0"
            ],
            [
             0.7,
             "#b8e186"
            ],
            [
             0.8,
             "#7fbc41"
            ],
            [
             0.9,
             "#4d9221"
            ],
            [
             1,
             "#276419"
            ]
           ],
           "sequential": [
            [
             0,
             "#0d0887"
            ],
            [
             0.1111111111111111,
             "#46039f"
            ],
            [
             0.2222222222222222,
             "#7201a8"
            ],
            [
             0.3333333333333333,
             "#9c179e"
            ],
            [
             0.4444444444444444,
             "#bd3786"
            ],
            [
             0.5555555555555556,
             "#d8576b"
            ],
            [
             0.6666666666666666,
             "#ed7953"
            ],
            [
             0.7777777777777778,
             "#fb9f3a"
            ],
            [
             0.8888888888888888,
             "#fdca26"
            ],
            [
             1,
             "#f0f921"
            ]
           ],
           "sequentialminus": [
            [
             0,
             "#0d0887"
            ],
            [
             0.1111111111111111,
             "#46039f"
            ],
            [
             0.2222222222222222,
             "#7201a8"
            ],
            [
             0.3333333333333333,
             "#9c179e"
            ],
            [
             0.4444444444444444,
             "#bd3786"
            ],
            [
             0.5555555555555556,
             "#d8576b"
            ],
            [
             0.6666666666666666,
             "#ed7953"
            ],
            [
             0.7777777777777778,
             "#fb9f3a"
            ],
            [
             0.8888888888888888,
             "#fdca26"
            ],
            [
             1,
             "#f0f921"
            ]
           ]
          },
          "colorway": [
           "#636efa",
           "#EF553B",
           "#00cc96",
           "#ab63fa",
           "#FFA15A",
           "#19d3f3",
           "#FF6692",
           "#B6E880",
           "#FF97FF",
           "#FECB52"
          ],
          "font": {
           "color": "#2a3f5f"
          },
          "geo": {
           "bgcolor": "white",
           "lakecolor": "white",
           "landcolor": "#E5ECF6",
           "showlakes": true,
           "showland": true,
           "subunitcolor": "white"
          },
          "hoverlabel": {
           "align": "left"
          },
          "hovermode": "closest",
          "mapbox": {
           "style": "light"
          },
          "paper_bgcolor": "white",
          "plot_bgcolor": "#E5ECF6",
          "polar": {
           "angularaxis": {
            "gridcolor": "white",
            "linecolor": "white",
            "ticks": ""
           },
           "bgcolor": "#E5ECF6",
           "radialaxis": {
            "gridcolor": "white",
            "linecolor": "white",
            "ticks": ""
           }
          },
          "scene": {
           "xaxis": {
            "backgroundcolor": "#E5ECF6",
            "gridcolor": "white",
            "gridwidth": 2,
            "linecolor": "white",
            "showbackground": true,
            "ticks": "",
            "zerolinecolor": "white"
           },
           "yaxis": {
            "backgroundcolor": "#E5ECF6",
            "gridcolor": "white",
            "gridwidth": 2,
            "linecolor": "white",
            "showbackground": true,
            "ticks": "",
            "zerolinecolor": "white"
           },
           "zaxis": {
            "backgroundcolor": "#E5ECF6",
            "gridcolor": "white",
            "gridwidth": 2,
            "linecolor": "white",
            "showbackground": true,
            "ticks": "",
            "zerolinecolor": "white"
           }
          },
          "shapedefaults": {
           "line": {
            "color": "#2a3f5f"
           }
          },
          "ternary": {
           "aaxis": {
            "gridcolor": "white",
            "linecolor": "white",
            "ticks": ""
           },
           "baxis": {
            "gridcolor": "white",
            "linecolor": "white",
            "ticks": ""
           },
           "bgcolor": "#E5ECF6",
           "caxis": {
            "gridcolor": "white",
            "linecolor": "white",
            "ticks": ""
           }
          },
          "title": {
           "x": 0.05
          },
          "xaxis": {
           "automargin": true,
           "gridcolor": "white",
           "linecolor": "white",
           "ticks": "",
           "title": {
            "standoff": 15
           },
           "zerolinecolor": "white",
           "zerolinewidth": 2
          },
          "yaxis": {
           "automargin": true,
           "gridcolor": "white",
           "linecolor": "white",
           "ticks": "",
           "title": {
            "standoff": 15
           },
           "zerolinecolor": "white",
           "zerolinewidth": 2
          }
         }
        },
        "title": {
         "text": "Conversion Rate by Consumer Confidence Index"
        },
        "xaxis": {
         "anchor": "y",
         "domain": [
          0,
          0.94
         ],
         "tickangle": 45,
         "title": {
          "text": "Consumer Confidence Index"
         }
        },
        "yaxis": {
         "anchor": "x",
         "domain": [
          0,
          1
         ],
         "title": {
          "text": "Conversion Rate (%)"
         }
        },
        "yaxis2": {
         "anchor": "x",
         "overlaying": "y",
         "side": "right",
         "title": {
          "text": "Count"
         }
        }
       }
      }
     },
     "metadata": {},
     "output_type": "display_data"
    }
   ],
   "source": [
    "def plot_economic_indicator(df, indicator, indicator_name):\n",
    "    bins = 10\n",
    "    df[f'{indicator}_bin'] = pd.qcut(df[indicator], q=bins, duplicates='drop')\n",
    "    \n",
    "    econ_conversion = df.groupby(f'{indicator}_bin')['converted'].agg(['count', 'mean']).reset_index()\n",
    "    econ_conversion.columns = [indicator_name, 'Count', 'Conversion Rate']\n",
    "    econ_conversion['Conversion Rate'] = econ_conversion['Conversion Rate'] * 100\n",
    "    \n",
    "    # Convert the interval to string representation of the center value\n",
    "    econ_conversion[indicator_name] = econ_conversion[indicator_name].astype(str)\n",
    "    econ_conversion[indicator_name] = econ_conversion[indicator_name].apply(\n",
    "        lambda x: str(round(float(x.split(',')[0][1:]), 2)) + ' to ' + str(round(float(x.split(',')[1][:-1]), 2))\n",
    "    )\n",
    "    \n",
    "\n",
    "    fig = make_subplots(specs=[[{\"secondary_y\": True}]])\n",
    "    \n",
    "\n",
    "    fig.add_trace(\n",
    "        go.Scatter(\n",
    "            x=econ_conversion[indicator_name],\n",
    "            y=econ_conversion['Conversion Rate'],\n",
    "            name='Conversion Rate',\n",
    "            mode='lines+markers',\n",
    "            marker=dict(size=8)\n",
    "        ),\n",
    "        secondary_y=False\n",
    "    )\n",
    "    \n",
    "  \n",
    "    fig.add_trace(\n",
    "        go.Bar(\n",
    "            x=econ_conversion[indicator_name],\n",
    "            y=econ_conversion['Count'],\n",
    "            name='Count',\n",
    "            opacity=0.3\n",
    "        ),\n",
    "        secondary_y=True\n",
    "    )\n",
    "    \n",
    "\n",
    "    fig.update_layout(\n",
    "        title=f'Conversion Rate by {indicator_name}',\n",
    "        xaxis=dict(\n",
    "            title=indicator_name,\n",
    "            tickangle=45\n",
    "        ),\n",
    "        height=500,\n",
    "        legend=dict(\n",
    "            orientation='h',\n",
    "            yanchor='bottom',\n",
    "            y=1.02,\n",
    "            xanchor='right',\n",
    "            x=1\n",
    "        )\n",
    "    )\n",
    "    \n",
    "    fig.update_yaxes(title_text=\"Conversion Rate (%)\", secondary_y=False)\n",
    "    fig.update_yaxes(title_text=\"Count\", secondary_y=True)\n",
    "    \n",
    "    return fig\n",
    "\n",
    "\n",
    "print(\"### Employment Variation Rate vs. Conversion Rate\")\n",
    "fig_emp = plot_economic_indicator(df, 'emp.var.rate', 'Employment Variation Rate')\n",
    "fig_emp.show()\n",
    "\n",
    "print(\"### Euribor 3-Month Rate vs. Conversion Rate\")\n",
    "fig_euribor = plot_economic_indicator(df, 'euribor3m', 'Euribor 3-Month Rate')\n",
    "fig_euribor.show()\n",
    "\n",
    "print(\"### Consumer Price Index vs. Conversion Rate\")\n",
    "fig_cpi = plot_economic_indicator(df, 'cons.price.idx', 'Consumer Price Index')\n",
    "fig_cpi.show()\n",
    "\n",
    "print(\"### Consumer Confidence Index vs. Conversion Rate\")\n",
    "fig_cci = plot_economic_indicator(df, 'cons.conf.idx', 'Consumer Confidence Index')\n",
    "fig_cci.show()\n",
    "\n"
   ]
  },
  {
   "cell_type": "markdown",
   "metadata": {},
   "source": [
    "The economic indicators show strong correlations with conversion rates:\n",
    "\n",
    "1. **Employment Variation Rate**: There's a clear negative correlation - as employment variation rate decreases (indicates economic contraction), conversion rates increase dramatically. At the lowest rates (-3.4 to -1.8), conversion rates spike to over 40%, suggesting term deposits become more attractive in uncertain job markets.\n",
    "\n",
    "2. **Euribor 3-Month Rate**: Lower Euribor rates strongly correlate with higher conversion rates. When rates are below 1.3%, conversion rates exceed 40%. This makes sense as lower market interest rates make bank term deposits relatively more attractive compared to other investment options.\n",
    "\n",
    "3. **Consumer Price Index (CPI)**: Lower CPI values correlate with higher conversion rates, though the relationship is less dramatic than with other indicators. This suggests people may prefer term deposits when prices are more stable.\n",
    "\n",
    "4. **Consumer Confidence Index**: Surprisingly, there isn't a clear linear trend. Both very low and moderately high confidence can coincide with higher conversion rates, suggesting a complex relationship.\n"
   ]
  },
  {
   "cell_type": "code",
   "execution_count": 16,
   "metadata": {},
   "outputs": [
    {
     "data": {
      "text/html": [
       "<div>\n",
       "<style scoped>\n",
       "    .dataframe tbody tr th:only-of-type {\n",
       "        vertical-align: middle;\n",
       "    }\n",
       "\n",
       "    .dataframe tbody tr th {\n",
       "        vertical-align: top;\n",
       "    }\n",
       "\n",
       "    .dataframe thead th {\n",
       "        text-align: right;\n",
       "    }\n",
       "</style>\n",
       "<table border=\"1\" class=\"dataframe\">\n",
       "  <thead>\n",
       "    <tr style=\"text-align: right;\">\n",
       "      <th></th>\n",
       "      <th>Housing &amp; Loan Status</th>\n",
       "      <th>Count</th>\n",
       "      <th>Conversion Rate</th>\n",
       "    </tr>\n",
       "  </thead>\n",
       "  <tbody>\n",
       "    <tr>\n",
       "      <th>3</th>\n",
       "      <td>yes_no</td>\n",
       "      <td>17885</td>\n",
       "      <td>11.730500</td>\n",
       "    </tr>\n",
       "    <tr>\n",
       "      <th>4</th>\n",
       "      <td>yes_yes</td>\n",
       "      <td>3691</td>\n",
       "      <td>11.081008</td>\n",
       "    </tr>\n",
       "    <tr>\n",
       "      <th>0</th>\n",
       "      <td>no_no</td>\n",
       "      <td>16065</td>\n",
       "      <td>10.905696</td>\n",
       "    </tr>\n",
       "    <tr>\n",
       "      <th>2</th>\n",
       "      <td>unknown_unknown</td>\n",
       "      <td>990</td>\n",
       "      <td>10.808081</td>\n",
       "    </tr>\n",
       "    <tr>\n",
       "      <th>1</th>\n",
       "      <td>no_yes</td>\n",
       "      <td>2557</td>\n",
       "      <td>10.715682</td>\n",
       "    </tr>\n",
       "  </tbody>\n",
       "</table>\n",
       "</div>"
      ],
      "text/plain": [
       "  Housing & Loan Status  Count  Conversion Rate\n",
       "3                yes_no  17885        11.730500\n",
       "4               yes_yes   3691        11.081008\n",
       "0                 no_no  16065        10.905696\n",
       "2       unknown_unknown    990        10.808081\n",
       "1                no_yes   2557        10.715682"
      ]
     },
     "execution_count": 16,
     "metadata": {},
     "output_type": "execute_result"
    }
   ],
   "source": [
    "# Housing and Loan Status Analysis\n",
    "df['housing_loan'] = df['housing'] + '_' + df['loan']\n",
    "\n",
    "# Calculate conversion rates by housing and loan status\n",
    "housing_loan_conversion = df.groupby('housing_loan')['converted'].agg(['count', 'mean']).reset_index()\n",
    "housing_loan_conversion.columns = ['Housing & Loan Status', 'Count', 'Conversion Rate']\n",
    "housing_loan_conversion['Conversion Rate'] = housing_loan_conversion['Conversion Rate'] * 100\n",
    "housing_loan_conversion = housing_loan_conversion.sort_values('Conversion Rate', ascending=False)\n",
    "housing_loan_conversion"
   ]
  },
  {
   "cell_type": "markdown",
   "metadata": {},
   "source": [
    "**These features have limited impact and can be deprioritized in favor of more influential ones.**"
   ]
  },
  {
   "cell_type": "code",
   "execution_count": 17,
   "metadata": {},
   "outputs": [
    {
     "data": {
      "text/html": [
       "<div>\n",
       "<style scoped>\n",
       "    .dataframe tbody tr th:only-of-type {\n",
       "        vertical-align: middle;\n",
       "    }\n",
       "\n",
       "    .dataframe tbody tr th {\n",
       "        vertical-align: top;\n",
       "    }\n",
       "\n",
       "    .dataframe thead th {\n",
       "        text-align: right;\n",
       "    }\n",
       "</style>\n",
       "<table border=\"1\" class=\"dataframe\">\n",
       "  <thead>\n",
       "    <tr style=\"text-align: right;\">\n",
       "      <th></th>\n",
       "      <th>Previously Contacted</th>\n",
       "      <th>Count</th>\n",
       "      <th>Conversion Rate</th>\n",
       "    </tr>\n",
       "  </thead>\n",
       "  <tbody>\n",
       "    <tr>\n",
       "      <th>0</th>\n",
       "      <td>No</td>\n",
       "      <td>39673</td>\n",
       "      <td>9.258186</td>\n",
       "    </tr>\n",
       "    <tr>\n",
       "      <th>1</th>\n",
       "      <td>Yes</td>\n",
       "      <td>1515</td>\n",
       "      <td>63.828383</td>\n",
       "    </tr>\n",
       "  </tbody>\n",
       "</table>\n",
       "</div>"
      ],
      "text/plain": [
       "  Previously Contacted  Count  Conversion Rate\n",
       "0                   No  39673         9.258186\n",
       "1                  Yes   1515        63.828383"
      ]
     },
     "execution_count": 17,
     "metadata": {},
     "output_type": "execute_result"
    }
   ],
   "source": [
    "#  Analysis of the prior Contact History\n",
    "df['previously_contacted'] = (df['pdays'] != 999).astype(int)\n",
    "\n",
    "previous_contact_conversion = df.groupby('previously_contacted')['converted'].agg(['count', 'mean']).reset_index()\n",
    "previous_contact_conversion.columns = ['Previously Contacted', 'Count', 'Conversion Rate']\n",
    "previous_contact_conversion['Previously Contacted'] = previous_contact_conversion['Previously Contacted'].map({0: 'No', 1: 'Yes'})\n",
    "previous_contact_conversion['Conversion Rate'] = previous_contact_conversion['Conversion Rate'] * 100\n",
    "previous_contact_conversion"
   ]
  },
  {
   "cell_type": "markdown",
   "metadata": {},
   "source": [
    "**Those previously contacted were much more willing to sign than those approached for the first time.**"
   ]
  },
  {
   "cell_type": "code",
   "execution_count": 18,
   "metadata": {},
   "outputs": [
    {
     "data": {
      "text/html": [
       "<div>\n",
       "<style scoped>\n",
       "    .dataframe tbody tr th:only-of-type {\n",
       "        vertical-align: middle;\n",
       "    }\n",
       "\n",
       "    .dataframe tbody tr th {\n",
       "        vertical-align: top;\n",
       "    }\n",
       "\n",
       "    .dataframe thead th {\n",
       "        text-align: right;\n",
       "    }\n",
       "</style>\n",
       "<table border=\"1\" class=\"dataframe\">\n",
       "  <thead>\n",
       "    <tr style=\"text-align: right;\">\n",
       "      <th></th>\n",
       "      <th>Contact Count</th>\n",
       "      <th>Count</th>\n",
       "      <th>Conversion Rate</th>\n",
       "    </tr>\n",
       "  </thead>\n",
       "  <tbody>\n",
       "    <tr>\n",
       "      <th>0</th>\n",
       "      <td>1</td>\n",
       "      <td>35563</td>\n",
       "      <td>8.832213</td>\n",
       "    </tr>\n",
       "    <tr>\n",
       "      <th>1</th>\n",
       "      <td>2</td>\n",
       "      <td>4561</td>\n",
       "      <td>21.201491</td>\n",
       "    </tr>\n",
       "    <tr>\n",
       "      <th>2</th>\n",
       "      <td>3</td>\n",
       "      <td>754</td>\n",
       "      <td>46.419098</td>\n",
       "    </tr>\n",
       "    <tr>\n",
       "      <th>3</th>\n",
       "      <td>4</td>\n",
       "      <td>216</td>\n",
       "      <td>59.259259</td>\n",
       "    </tr>\n",
       "    <tr>\n",
       "      <th>4</th>\n",
       "      <td>5</td>\n",
       "      <td>70</td>\n",
       "      <td>54.285714</td>\n",
       "    </tr>\n",
       "    <tr>\n",
       "      <th>5</th>\n",
       "      <td>6</td>\n",
       "      <td>18</td>\n",
       "      <td>72.222222</td>\n",
       "    </tr>\n",
       "    <tr>\n",
       "      <th>6</th>\n",
       "      <td>7</td>\n",
       "      <td>5</td>\n",
       "      <td>60.000000</td>\n",
       "    </tr>\n",
       "    <tr>\n",
       "      <th>7</th>\n",
       "      <td>8</td>\n",
       "      <td>1</td>\n",
       "      <td>0.000000</td>\n",
       "    </tr>\n",
       "  </tbody>\n",
       "</table>\n",
       "</div>"
      ],
      "text/plain": [
       "   Contact Count  Count  Conversion Rate\n",
       "0              1  35563         8.832213\n",
       "1              2   4561        21.201491\n",
       "2              3    754        46.419098\n",
       "3              4    216        59.259259\n",
       "4              5     70        54.285714\n",
       "5              6     18        72.222222\n",
       "6              7      5        60.000000\n",
       "7              8      1         0.000000"
      ]
     },
     "execution_count": 18,
     "metadata": {},
     "output_type": "execute_result"
    }
   ],
   "source": [
    "# Create a feature for number of previous contacts\n",
    "df['contact_count'] = df['previous'] + 1\n",
    "\n",
    "# Calculate conversion rates by contact count\n",
    "contact_count_conversion = df.groupby('contact_count')['converted'].agg(['count', 'mean']).reset_index()\n",
    "contact_count_conversion.columns = ['Contact Count', 'Count', 'Conversion Rate']\n",
    "contact_count_conversion['Conversion Rate'] = contact_count_conversion['Conversion Rate'] * 100\n",
    "contact_count_conversion"
   ]
  },
  {
   "cell_type": "markdown",
   "metadata": {},
   "source": [
    "This pattern strongly suggests that persistence pays off in this marketing context. Each additional contact substantially increases the likelihood of conversion, with diminishing but still positive returns after 4-5 contacts.\n",
    "The overlaid count line shows that most customers in the dataset are being contacted for the first time, meaning there's a large opportunity to increase overall conversion by implementing a more persistent contact strategy.\n",
    "\n",
    "**Recommendation:** Previous contact history should be a primary factor in the predictive model. Consider implementing a systematic re-contact strategy for non-converting customers, as the data clearly shows that repeated contact significantly increases conversion probability.\n"
   ]
  },
  {
   "cell_type": "code",
   "execution_count": 19,
   "metadata": {},
   "outputs": [
    {
     "data": {
      "text/html": [
       "<div>\n",
       "<style scoped>\n",
       "    .dataframe tbody tr th:only-of-type {\n",
       "        vertical-align: middle;\n",
       "    }\n",
       "\n",
       "    .dataframe tbody tr th {\n",
       "        vertical-align: top;\n",
       "    }\n",
       "\n",
       "    .dataframe thead th {\n",
       "        text-align: right;\n",
       "    }\n",
       "</style>\n",
       "<table border=\"1\" class=\"dataframe\">\n",
       "  <thead>\n",
       "    <tr style=\"text-align: right;\">\n",
       "      <th></th>\n",
       "      <th>Contacts in Current Campaign</th>\n",
       "      <th>Count</th>\n",
       "      <th>Conversion Rate</th>\n",
       "    </tr>\n",
       "  </thead>\n",
       "  <tbody>\n",
       "    <tr>\n",
       "      <th>0</th>\n",
       "      <td>1</td>\n",
       "      <td>17642</td>\n",
       "      <td>13.037071</td>\n",
       "    </tr>\n",
       "    <tr>\n",
       "      <th>1</th>\n",
       "      <td>2</td>\n",
       "      <td>10570</td>\n",
       "      <td>11.456954</td>\n",
       "    </tr>\n",
       "    <tr>\n",
       "      <th>2</th>\n",
       "      <td>3</td>\n",
       "      <td>5341</td>\n",
       "      <td>10.747051</td>\n",
       "    </tr>\n",
       "    <tr>\n",
       "      <th>3</th>\n",
       "      <td>4</td>\n",
       "      <td>2651</td>\n",
       "      <td>9.392682</td>\n",
       "    </tr>\n",
       "    <tr>\n",
       "      <th>4</th>\n",
       "      <td>5</td>\n",
       "      <td>1599</td>\n",
       "      <td>7.504690</td>\n",
       "    </tr>\n",
       "    <tr>\n",
       "      <th>5</th>\n",
       "      <td>6</td>\n",
       "      <td>979</td>\n",
       "      <td>7.660878</td>\n",
       "    </tr>\n",
       "    <tr>\n",
       "      <th>6</th>\n",
       "      <td>7</td>\n",
       "      <td>629</td>\n",
       "      <td>6.041335</td>\n",
       "    </tr>\n",
       "    <tr>\n",
       "      <th>7</th>\n",
       "      <td>8</td>\n",
       "      <td>400</td>\n",
       "      <td>4.250000</td>\n",
       "    </tr>\n",
       "    <tr>\n",
       "      <th>8</th>\n",
       "      <td>9</td>\n",
       "      <td>283</td>\n",
       "      <td>6.007067</td>\n",
       "    </tr>\n",
       "    <tr>\n",
       "      <th>9</th>\n",
       "      <td>10</td>\n",
       "      <td>225</td>\n",
       "      <td>5.333333</td>\n",
       "    </tr>\n",
       "    <tr>\n",
       "      <th>10</th>\n",
       "      <td>11</td>\n",
       "      <td>177</td>\n",
       "      <td>6.779661</td>\n",
       "    </tr>\n",
       "    <tr>\n",
       "      <th>11</th>\n",
       "      <td>12</td>\n",
       "      <td>125</td>\n",
       "      <td>2.400000</td>\n",
       "    </tr>\n",
       "  </tbody>\n",
       "</table>\n",
       "</div>"
      ],
      "text/plain": [
       "    Contacts in Current Campaign  Count  Conversion Rate\n",
       "0                              1  17642        13.037071\n",
       "1                              2  10570        11.456954\n",
       "2                              3   5341        10.747051\n",
       "3                              4   2651         9.392682\n",
       "4                              5   1599         7.504690\n",
       "5                              6    979         7.660878\n",
       "6                              7    629         6.041335\n",
       "7                              8    400         4.250000\n",
       "8                              9    283         6.007067\n",
       "9                             10    225         5.333333\n",
       "10                            11    177         6.779661\n",
       "11                            12    125         2.400000"
      ]
     },
     "execution_count": 19,
     "metadata": {},
     "output_type": "execute_result"
    }
   ],
   "source": [
    "# Campaign Calls Analysis \n",
    "# Calculate conversion rates by number of contacts in current campaign\n",
    "campaign_conversion = df.groupby('campaign')['converted'].agg(['count', 'mean']).reset_index()\n",
    "campaign_conversion.columns = ['Contacts in Current Campaign', 'Count', 'Conversion Rate']\n",
    "campaign_conversion['Conversion Rate'] = campaign_conversion['Conversion Rate'] * 100\n",
    "campaign_conversion = campaign_conversion[campaign_conversion['Count'] > 100]  # Filter small samples\n",
    "campaign_conversion"
   ]
  },
  {
   "cell_type": "code",
   "execution_count": 20,
   "metadata": {},
   "outputs": [
    {
     "data": {
      "application/vnd.plotly.v1+json": {
       "config": {
        "plotlyServerURL": "https://plot.ly"
       },
       "data": [
        {
         "hovertemplate": "Contacts in Current Campaign=%{x}<br>Conversion Rate (%)=%{y}<extra></extra>",
         "legendgroup": "",
         "line": {
          "color": "#636efa",
          "dash": "solid"
         },
         "marker": {
          "symbol": "circle"
         },
         "mode": "lines+markers",
         "name": "",
         "orientation": "v",
         "showlegend": false,
         "type": "scatter",
         "x": {
          "bdata": "AQIDBAUGBwgJCgsM",
          "dtype": "i1"
         },
         "xaxis": "x",
         "y": {
          "bdata": "r3fU6/oSKkDXp+vT9ekmQOhXznt9fiVAzMexnQ3JIkDK7IeRzQQeQLzG2FG9pB5AD+xM11MqGEAAAAAAAAARQDARl5s8BxhAVlVVVVVVFUAEDSd1Xx4bQDMzMzMzMwNA",
          "dtype": "f8"
         },
         "yaxis": "y"
        }
       ],
       "layout": {
        "height": 500,
        "legend": {
         "tracegroupgap": 0
        },
        "template": {
         "data": {
          "bar": [
           {
            "error_x": {
             "color": "#2a3f5f"
            },
            "error_y": {
             "color": "#2a3f5f"
            },
            "marker": {
             "line": {
              "color": "#E5ECF6",
              "width": 0.5
             },
             "pattern": {
              "fillmode": "overlay",
              "size": 10,
              "solidity": 0.2
             }
            },
            "type": "bar"
           }
          ],
          "barpolar": [
           {
            "marker": {
             "line": {
              "color": "#E5ECF6",
              "width": 0.5
             },
             "pattern": {
              "fillmode": "overlay",
              "size": 10,
              "solidity": 0.2
             }
            },
            "type": "barpolar"
           }
          ],
          "carpet": [
           {
            "aaxis": {
             "endlinecolor": "#2a3f5f",
             "gridcolor": "white",
             "linecolor": "white",
             "minorgridcolor": "white",
             "startlinecolor": "#2a3f5f"
            },
            "baxis": {
             "endlinecolor": "#2a3f5f",
             "gridcolor": "white",
             "linecolor": "white",
             "minorgridcolor": "white",
             "startlinecolor": "#2a3f5f"
            },
            "type": "carpet"
           }
          ],
          "choropleth": [
           {
            "colorbar": {
             "outlinewidth": 0,
             "ticks": ""
            },
            "type": "choropleth"
           }
          ],
          "contour": [
           {
            "colorbar": {
             "outlinewidth": 0,
             "ticks": ""
            },
            "colorscale": [
             [
              0,
              "#0d0887"
             ],
             [
              0.1111111111111111,
              "#46039f"
             ],
             [
              0.2222222222222222,
              "#7201a8"
             ],
             [
              0.3333333333333333,
              "#9c179e"
             ],
             [
              0.4444444444444444,
              "#bd3786"
             ],
             [
              0.5555555555555556,
              "#d8576b"
             ],
             [
              0.6666666666666666,
              "#ed7953"
             ],
             [
              0.7777777777777778,
              "#fb9f3a"
             ],
             [
              0.8888888888888888,
              "#fdca26"
             ],
             [
              1,
              "#f0f921"
             ]
            ],
            "type": "contour"
           }
          ],
          "contourcarpet": [
           {
            "colorbar": {
             "outlinewidth": 0,
             "ticks": ""
            },
            "type": "contourcarpet"
           }
          ],
          "heatmap": [
           {
            "colorbar": {
             "outlinewidth": 0,
             "ticks": ""
            },
            "colorscale": [
             [
              0,
              "#0d0887"
             ],
             [
              0.1111111111111111,
              "#46039f"
             ],
             [
              0.2222222222222222,
              "#7201a8"
             ],
             [
              0.3333333333333333,
              "#9c179e"
             ],
             [
              0.4444444444444444,
              "#bd3786"
             ],
             [
              0.5555555555555556,
              "#d8576b"
             ],
             [
              0.6666666666666666,
              "#ed7953"
             ],
             [
              0.7777777777777778,
              "#fb9f3a"
             ],
             [
              0.8888888888888888,
              "#fdca26"
             ],
             [
              1,
              "#f0f921"
             ]
            ],
            "type": "heatmap"
           }
          ],
          "histogram": [
           {
            "marker": {
             "pattern": {
              "fillmode": "overlay",
              "size": 10,
              "solidity": 0.2
             }
            },
            "type": "histogram"
           }
          ],
          "histogram2d": [
           {
            "colorbar": {
             "outlinewidth": 0,
             "ticks": ""
            },
            "colorscale": [
             [
              0,
              "#0d0887"
             ],
             [
              0.1111111111111111,
              "#46039f"
             ],
             [
              0.2222222222222222,
              "#7201a8"
             ],
             [
              0.3333333333333333,
              "#9c179e"
             ],
             [
              0.4444444444444444,
              "#bd3786"
             ],
             [
              0.5555555555555556,
              "#d8576b"
             ],
             [
              0.6666666666666666,
              "#ed7953"
             ],
             [
              0.7777777777777778,
              "#fb9f3a"
             ],
             [
              0.8888888888888888,
              "#fdca26"
             ],
             [
              1,
              "#f0f921"
             ]
            ],
            "type": "histogram2d"
           }
          ],
          "histogram2dcontour": [
           {
            "colorbar": {
             "outlinewidth": 0,
             "ticks": ""
            },
            "colorscale": [
             [
              0,
              "#0d0887"
             ],
             [
              0.1111111111111111,
              "#46039f"
             ],
             [
              0.2222222222222222,
              "#7201a8"
             ],
             [
              0.3333333333333333,
              "#9c179e"
             ],
             [
              0.4444444444444444,
              "#bd3786"
             ],
             [
              0.5555555555555556,
              "#d8576b"
             ],
             [
              0.6666666666666666,
              "#ed7953"
             ],
             [
              0.7777777777777778,
              "#fb9f3a"
             ],
             [
              0.8888888888888888,
              "#fdca26"
             ],
             [
              1,
              "#f0f921"
             ]
            ],
            "type": "histogram2dcontour"
           }
          ],
          "mesh3d": [
           {
            "colorbar": {
             "outlinewidth": 0,
             "ticks": ""
            },
            "type": "mesh3d"
           }
          ],
          "parcoords": [
           {
            "line": {
             "colorbar": {
              "outlinewidth": 0,
              "ticks": ""
             }
            },
            "type": "parcoords"
           }
          ],
          "pie": [
           {
            "automargin": true,
            "type": "pie"
           }
          ],
          "scatter": [
           {
            "fillpattern": {
             "fillmode": "overlay",
             "size": 10,
             "solidity": 0.2
            },
            "type": "scatter"
           }
          ],
          "scatter3d": [
           {
            "line": {
             "colorbar": {
              "outlinewidth": 0,
              "ticks": ""
             }
            },
            "marker": {
             "colorbar": {
              "outlinewidth": 0,
              "ticks": ""
             }
            },
            "type": "scatter3d"
           }
          ],
          "scattercarpet": [
           {
            "marker": {
             "colorbar": {
              "outlinewidth": 0,
              "ticks": ""
             }
            },
            "type": "scattercarpet"
           }
          ],
          "scattergeo": [
           {
            "marker": {
             "colorbar": {
              "outlinewidth": 0,
              "ticks": ""
             }
            },
            "type": "scattergeo"
           }
          ],
          "scattergl": [
           {
            "marker": {
             "colorbar": {
              "outlinewidth": 0,
              "ticks": ""
             }
            },
            "type": "scattergl"
           }
          ],
          "scattermap": [
           {
            "marker": {
             "colorbar": {
              "outlinewidth": 0,
              "ticks": ""
             }
            },
            "type": "scattermap"
           }
          ],
          "scattermapbox": [
           {
            "marker": {
             "colorbar": {
              "outlinewidth": 0,
              "ticks": ""
             }
            },
            "type": "scattermapbox"
           }
          ],
          "scatterpolar": [
           {
            "marker": {
             "colorbar": {
              "outlinewidth": 0,
              "ticks": ""
             }
            },
            "type": "scatterpolar"
           }
          ],
          "scatterpolargl": [
           {
            "marker": {
             "colorbar": {
              "outlinewidth": 0,
              "ticks": ""
             }
            },
            "type": "scatterpolargl"
           }
          ],
          "scatterternary": [
           {
            "marker": {
             "colorbar": {
              "outlinewidth": 0,
              "ticks": ""
             }
            },
            "type": "scatterternary"
           }
          ],
          "surface": [
           {
            "colorbar": {
             "outlinewidth": 0,
             "ticks": ""
            },
            "colorscale": [
             [
              0,
              "#0d0887"
             ],
             [
              0.1111111111111111,
              "#46039f"
             ],
             [
              0.2222222222222222,
              "#7201a8"
             ],
             [
              0.3333333333333333,
              "#9c179e"
             ],
             [
              0.4444444444444444,
              "#bd3786"
             ],
             [
              0.5555555555555556,
              "#d8576b"
             ],
             [
              0.6666666666666666,
              "#ed7953"
             ],
             [
              0.7777777777777778,
              "#fb9f3a"
             ],
             [
              0.8888888888888888,
              "#fdca26"
             ],
             [
              1,
              "#f0f921"
             ]
            ],
            "type": "surface"
           }
          ],
          "table": [
           {
            "cells": {
             "fill": {
              "color": "#EBF0F8"
             },
             "line": {
              "color": "white"
             }
            },
            "header": {
             "fill": {
              "color": "#C8D4E3"
             },
             "line": {
              "color": "white"
             }
            },
            "type": "table"
           }
          ]
         },
         "layout": {
          "annotationdefaults": {
           "arrowcolor": "#2a3f5f",
           "arrowhead": 0,
           "arrowwidth": 1
          },
          "autotypenumbers": "strict",
          "coloraxis": {
           "colorbar": {
            "outlinewidth": 0,
            "ticks": ""
           }
          },
          "colorscale": {
           "diverging": [
            [
             0,
             "#8e0152"
            ],
            [
             0.1,
             "#c51b7d"
            ],
            [
             0.2,
             "#de77ae"
            ],
            [
             0.3,
             "#f1b6da"
            ],
            [
             0.4,
             "#fde0ef"
            ],
            [
             0.5,
             "#f7f7f7"
            ],
            [
             0.6,
             "#e6f5d0"
            ],
            [
             0.7,
             "#b8e186"
            ],
            [
             0.8,
             "#7fbc41"
            ],
            [
             0.9,
             "#4d9221"
            ],
            [
             1,
             "#276419"
            ]
           ],
           "sequential": [
            [
             0,
             "#0d0887"
            ],
            [
             0.1111111111111111,
             "#46039f"
            ],
            [
             0.2222222222222222,
             "#7201a8"
            ],
            [
             0.3333333333333333,
             "#9c179e"
            ],
            [
             0.4444444444444444,
             "#bd3786"
            ],
            [
             0.5555555555555556,
             "#d8576b"
            ],
            [
             0.6666666666666666,
             "#ed7953"
            ],
            [
             0.7777777777777778,
             "#fb9f3a"
            ],
            [
             0.8888888888888888,
             "#fdca26"
            ],
            [
             1,
             "#f0f921"
            ]
           ],
           "sequentialminus": [
            [
             0,
             "#0d0887"
            ],
            [
             0.1111111111111111,
             "#46039f"
            ],
            [
             0.2222222222222222,
             "#7201a8"
            ],
            [
             0.3333333333333333,
             "#9c179e"
            ],
            [
             0.4444444444444444,
             "#bd3786"
            ],
            [
             0.5555555555555556,
             "#d8576b"
            ],
            [
             0.6666666666666666,
             "#ed7953"
            ],
            [
             0.7777777777777778,
             "#fb9f3a"
            ],
            [
             0.8888888888888888,
             "#fdca26"
            ],
            [
             1,
             "#f0f921"
            ]
           ]
          },
          "colorway": [
           "#636efa",
           "#EF553B",
           "#00cc96",
           "#ab63fa",
           "#FFA15A",
           "#19d3f3",
           "#FF6692",
           "#B6E880",
           "#FF97FF",
           "#FECB52"
          ],
          "font": {
           "color": "#2a3f5f"
          },
          "geo": {
           "bgcolor": "white",
           "lakecolor": "white",
           "landcolor": "#E5ECF6",
           "showlakes": true,
           "showland": true,
           "subunitcolor": "white"
          },
          "hoverlabel": {
           "align": "left"
          },
          "hovermode": "closest",
          "mapbox": {
           "style": "light"
          },
          "paper_bgcolor": "white",
          "plot_bgcolor": "#E5ECF6",
          "polar": {
           "angularaxis": {
            "gridcolor": "white",
            "linecolor": "white",
            "ticks": ""
           },
           "bgcolor": "#E5ECF6",
           "radialaxis": {
            "gridcolor": "white",
            "linecolor": "white",
            "ticks": ""
           }
          },
          "scene": {
           "xaxis": {
            "backgroundcolor": "#E5ECF6",
            "gridcolor": "white",
            "gridwidth": 2,
            "linecolor": "white",
            "showbackground": true,
            "ticks": "",
            "zerolinecolor": "white"
           },
           "yaxis": {
            "backgroundcolor": "#E5ECF6",
            "gridcolor": "white",
            "gridwidth": 2,
            "linecolor": "white",
            "showbackground": true,
            "ticks": "",
            "zerolinecolor": "white"
           },
           "zaxis": {
            "backgroundcolor": "#E5ECF6",
            "gridcolor": "white",
            "gridwidth": 2,
            "linecolor": "white",
            "showbackground": true,
            "ticks": "",
            "zerolinecolor": "white"
           }
          },
          "shapedefaults": {
           "line": {
            "color": "#2a3f5f"
           }
          },
          "ternary": {
           "aaxis": {
            "gridcolor": "white",
            "linecolor": "white",
            "ticks": ""
           },
           "baxis": {
            "gridcolor": "white",
            "linecolor": "white",
            "ticks": ""
           },
           "bgcolor": "#E5ECF6",
           "caxis": {
            "gridcolor": "white",
            "linecolor": "white",
            "ticks": ""
           }
          },
          "title": {
           "x": 0.05
          },
          "xaxis": {
           "automargin": true,
           "gridcolor": "white",
           "linecolor": "white",
           "ticks": "",
           "title": {
            "standoff": 15
           },
           "zerolinecolor": "white",
           "zerolinewidth": 2
          },
          "yaxis": {
           "automargin": true,
           "gridcolor": "white",
           "linecolor": "white",
           "ticks": "",
           "title": {
            "standoff": 15
           },
           "zerolinecolor": "white",
           "zerolinewidth": 2
          }
         }
        },
        "title": {
         "text": "Conversion Rate by Number of Contacts in Current Campaign"
        },
        "xaxis": {
         "anchor": "y",
         "domain": [
          0,
          1
         ],
         "tickmode": "linear",
         "title": {
          "text": "Number of Contacts in Current Campaign"
         }
        },
        "yaxis": {
         "anchor": "x",
         "domain": [
          0,
          1
         ],
         "title": {
          "text": "Conversion Rate (%)"
         }
        }
       }
      }
     },
     "metadata": {},
     "output_type": "display_data"
    }
   ],
   "source": [
    "fig_campaign = px.line(\n",
    "    campaign_conversion, \n",
    "    x='Contacts in Current Campaign', \n",
    "    y='Conversion Rate',\n",
    "    markers=True,\n",
    "    title='Conversion Rate by Number of Contacts in Current Campaign',\n",
    "    labels={'Conversion Rate': 'Conversion Rate (%)'},\n",
    "    height=500\n",
    ")\n",
    "\n",
    "fig_campaign.update_layout(\n",
    "    xaxis_title='Number of Contacts in Current Campaign',\n",
    "    yaxis_title='Conversion Rate (%)',\n",
    "    xaxis=dict(tickmode='linear')\n",
    ")\n",
    "\n",
    "fig_campaign.show()"
   ]
  },
  {
   "cell_type": "markdown",
   "metadata": {},
   "source": [
    "### Interpretation of Campaign Calls Analysis:\n",
    "\n",
    "The analysis of conversion rates by number of contacts in the current campaign reveals an interesting pattern:\n",
    "\n",
    "1. **Negative Correlation**: Unlike previous campaign contacts which show a positive effect, increasing contacts within the current campaign correlates with lower conversion rates.\n",
    "\n",
    "2. **Potential Explanations**:\n",
    "   - This may indicate customer fatigue or annoyance with repeated contacts in a short timeframe\n",
    "   - It could also reflect a targeting strategy where hard-to-convert customers are being called multiple times\n",
    "   - The causality may be reversed - customers who don't convert quickly receive more follow-up calls\n",
    "\n",
    "This finding contrasts with the positive effect of previous campaign contacts, suggesting that persistence works better across campaigns rather than within a single campaign.\n",
    "\n",
    "**Recommendation:** The model should consider the number of contacts in the current campaign as a potential negative indicator. The marketing strategy should focus on quality conversations rather than repeated contacts within the same campaign, while still maintaining a long-term re-contact strategy across different campaigns.\n"
   ]
  },
  {
   "cell_type": "code",
   "execution_count": 21,
   "metadata": {},
   "outputs": [
    {
     "data": {
      "text/html": [
       "<div>\n",
       "<style scoped>\n",
       "    .dataframe tbody tr th:only-of-type {\n",
       "        vertical-align: middle;\n",
       "    }\n",
       "\n",
       "    .dataframe tbody tr th {\n",
       "        vertical-align: top;\n",
       "    }\n",
       "\n",
       "    .dataframe thead th {\n",
       "        text-align: right;\n",
       "    }\n",
       "</style>\n",
       "<table border=\"1\" class=\"dataframe\">\n",
       "  <thead>\n",
       "    <tr style=\"text-align: right;\">\n",
       "      <th>poutcome</th>\n",
       "      <th>failure</th>\n",
       "      <th>nonexistent</th>\n",
       "      <th>success</th>\n",
       "    </tr>\n",
       "    <tr>\n",
       "      <th>contact</th>\n",
       "      <th></th>\n",
       "      <th></th>\n",
       "      <th></th>\n",
       "    </tr>\n",
       "  </thead>\n",
       "  <tbody>\n",
       "    <tr>\n",
       "      <th>cellular</th>\n",
       "      <td>14.448381</td>\n",
       "      <td>11.729280</td>\n",
       "      <td>65.19685</td>\n",
       "    </tr>\n",
       "    <tr>\n",
       "      <th>telephone</th>\n",
       "      <td>11.333333</td>\n",
       "      <td>4.692302</td>\n",
       "      <td>64.07767</td>\n",
       "    </tr>\n",
       "  </tbody>\n",
       "</table>\n",
       "</div>"
      ],
      "text/plain": [
       "poutcome     failure  nonexistent   success\n",
       "contact                                    \n",
       "cellular   14.448381    11.729280  65.19685\n",
       "telephone  11.333333     4.692302  64.07767"
      ]
     },
     "execution_count": 21,
     "metadata": {},
     "output_type": "execute_result"
    }
   ],
   "source": [
    "# Multivariate Analysis: Contact Method, Previous Outcome, and Month\n",
    "# Create a cross-tabulation of contact method and previous outcome\n",
    "contact_poutcome = pd.crosstab(\n",
    "    df['contact'], \n",
    "    df['poutcome'],\n",
    "    values=df['converted'],\n",
    "    aggfunc='mean'\n",
    ") * 100\n",
    "contact_poutcome"
   ]
  },
  {
   "cell_type": "code",
   "execution_count": 22,
   "metadata": {},
   "outputs": [
    {
     "data": {
      "application/vnd.plotly.v1+json": {
       "config": {
        "plotlyServerURL": "https://plot.ly"
       },
       "data": [
        {
         "coloraxis": "coloraxis",
         "hovertemplate": "Previous Outcome: %{x}<br>Contact Method: %{y}<br>Conversion Rate (%): %{z}<extra></extra>",
         "name": "0",
         "texttemplate": "%{z:.1f}",
         "type": "heatmap",
         "x": [
          "failure",
          "nonexistent",
          "success"
         ],
         "xaxis": "x",
         "y": [
          "cellular",
          "telephone"
         ],
         "yaxis": "y",
         "z": {
          "bdata": "WSY9I5LlLEAu11M2ZHUnQJPJZDKZTFBAqqqqqqqqJkBawS7u6sQSQCs5L4v4BFBA",
          "dtype": "f8",
          "shape": "2, 3"
         }
        }
       ],
       "layout": {
        "coloraxis": {
         "colorbar": {
          "title": {
           "text": "Conversion Rate (%)"
          }
         },
         "colorscale": [
          [
           0,
           "#440154"
          ],
          [
           0.1111111111111111,
           "#482878"
          ],
          [
           0.2222222222222222,
           "#3e4989"
          ],
          [
           0.3333333333333333,
           "#31688e"
          ],
          [
           0.4444444444444444,
           "#26828e"
          ],
          [
           0.5555555555555556,
           "#1f9e89"
          ],
          [
           0.6666666666666666,
           "#35b779"
          ],
          [
           0.7777777777777778,
           "#6ece58"
          ],
          [
           0.8888888888888888,
           "#b5de2b"
          ],
          [
           1,
           "#fde725"
          ]
         ]
        },
        "height": 400,
        "template": {
         "data": {
          "bar": [
           {
            "error_x": {
             "color": "#2a3f5f"
            },
            "error_y": {
             "color": "#2a3f5f"
            },
            "marker": {
             "line": {
              "color": "#E5ECF6",
              "width": 0.5
             },
             "pattern": {
              "fillmode": "overlay",
              "size": 10,
              "solidity": 0.2
             }
            },
            "type": "bar"
           }
          ],
          "barpolar": [
           {
            "marker": {
             "line": {
              "color": "#E5ECF6",
              "width": 0.5
             },
             "pattern": {
              "fillmode": "overlay",
              "size": 10,
              "solidity": 0.2
             }
            },
            "type": "barpolar"
           }
          ],
          "carpet": [
           {
            "aaxis": {
             "endlinecolor": "#2a3f5f",
             "gridcolor": "white",
             "linecolor": "white",
             "minorgridcolor": "white",
             "startlinecolor": "#2a3f5f"
            },
            "baxis": {
             "endlinecolor": "#2a3f5f",
             "gridcolor": "white",
             "linecolor": "white",
             "minorgridcolor": "white",
             "startlinecolor": "#2a3f5f"
            },
            "type": "carpet"
           }
          ],
          "choropleth": [
           {
            "colorbar": {
             "outlinewidth": 0,
             "ticks": ""
            },
            "type": "choropleth"
           }
          ],
          "contour": [
           {
            "colorbar": {
             "outlinewidth": 0,
             "ticks": ""
            },
            "colorscale": [
             [
              0,
              "#0d0887"
             ],
             [
              0.1111111111111111,
              "#46039f"
             ],
             [
              0.2222222222222222,
              "#7201a8"
             ],
             [
              0.3333333333333333,
              "#9c179e"
             ],
             [
              0.4444444444444444,
              "#bd3786"
             ],
             [
              0.5555555555555556,
              "#d8576b"
             ],
             [
              0.6666666666666666,
              "#ed7953"
             ],
             [
              0.7777777777777778,
              "#fb9f3a"
             ],
             [
              0.8888888888888888,
              "#fdca26"
             ],
             [
              1,
              "#f0f921"
             ]
            ],
            "type": "contour"
           }
          ],
          "contourcarpet": [
           {
            "colorbar": {
             "outlinewidth": 0,
             "ticks": ""
            },
            "type": "contourcarpet"
           }
          ],
          "heatmap": [
           {
            "colorbar": {
             "outlinewidth": 0,
             "ticks": ""
            },
            "colorscale": [
             [
              0,
              "#0d0887"
             ],
             [
              0.1111111111111111,
              "#46039f"
             ],
             [
              0.2222222222222222,
              "#7201a8"
             ],
             [
              0.3333333333333333,
              "#9c179e"
             ],
             [
              0.4444444444444444,
              "#bd3786"
             ],
             [
              0.5555555555555556,
              "#d8576b"
             ],
             [
              0.6666666666666666,
              "#ed7953"
             ],
             [
              0.7777777777777778,
              "#fb9f3a"
             ],
             [
              0.8888888888888888,
              "#fdca26"
             ],
             [
              1,
              "#f0f921"
             ]
            ],
            "type": "heatmap"
           }
          ],
          "histogram": [
           {
            "marker": {
             "pattern": {
              "fillmode": "overlay",
              "size": 10,
              "solidity": 0.2
             }
            },
            "type": "histogram"
           }
          ],
          "histogram2d": [
           {
            "colorbar": {
             "outlinewidth": 0,
             "ticks": ""
            },
            "colorscale": [
             [
              0,
              "#0d0887"
             ],
             [
              0.1111111111111111,
              "#46039f"
             ],
             [
              0.2222222222222222,
              "#7201a8"
             ],
             [
              0.3333333333333333,
              "#9c179e"
             ],
             [
              0.4444444444444444,
              "#bd3786"
             ],
             [
              0.5555555555555556,
              "#d8576b"
             ],
             [
              0.6666666666666666,
              "#ed7953"
             ],
             [
              0.7777777777777778,
              "#fb9f3a"
             ],
             [
              0.8888888888888888,
              "#fdca26"
             ],
             [
              1,
              "#f0f921"
             ]
            ],
            "type": "histogram2d"
           }
          ],
          "histogram2dcontour": [
           {
            "colorbar": {
             "outlinewidth": 0,
             "ticks": ""
            },
            "colorscale": [
             [
              0,
              "#0d0887"
             ],
             [
              0.1111111111111111,
              "#46039f"
             ],
             [
              0.2222222222222222,
              "#7201a8"
             ],
             [
              0.3333333333333333,
              "#9c179e"
             ],
             [
              0.4444444444444444,
              "#bd3786"
             ],
             [
              0.5555555555555556,
              "#d8576b"
             ],
             [
              0.6666666666666666,
              "#ed7953"
             ],
             [
              0.7777777777777778,
              "#fb9f3a"
             ],
             [
              0.8888888888888888,
              "#fdca26"
             ],
             [
              1,
              "#f0f921"
             ]
            ],
            "type": "histogram2dcontour"
           }
          ],
          "mesh3d": [
           {
            "colorbar": {
             "outlinewidth": 0,
             "ticks": ""
            },
            "type": "mesh3d"
           }
          ],
          "parcoords": [
           {
            "line": {
             "colorbar": {
              "outlinewidth": 0,
              "ticks": ""
             }
            },
            "type": "parcoords"
           }
          ],
          "pie": [
           {
            "automargin": true,
            "type": "pie"
           }
          ],
          "scatter": [
           {
            "fillpattern": {
             "fillmode": "overlay",
             "size": 10,
             "solidity": 0.2
            },
            "type": "scatter"
           }
          ],
          "scatter3d": [
           {
            "line": {
             "colorbar": {
              "outlinewidth": 0,
              "ticks": ""
             }
            },
            "marker": {
             "colorbar": {
              "outlinewidth": 0,
              "ticks": ""
             }
            },
            "type": "scatter3d"
           }
          ],
          "scattercarpet": [
           {
            "marker": {
             "colorbar": {
              "outlinewidth": 0,
              "ticks": ""
             }
            },
            "type": "scattercarpet"
           }
          ],
          "scattergeo": [
           {
            "marker": {
             "colorbar": {
              "outlinewidth": 0,
              "ticks": ""
             }
            },
            "type": "scattergeo"
           }
          ],
          "scattergl": [
           {
            "marker": {
             "colorbar": {
              "outlinewidth": 0,
              "ticks": ""
             }
            },
            "type": "scattergl"
           }
          ],
          "scattermap": [
           {
            "marker": {
             "colorbar": {
              "outlinewidth": 0,
              "ticks": ""
             }
            },
            "type": "scattermap"
           }
          ],
          "scattermapbox": [
           {
            "marker": {
             "colorbar": {
              "outlinewidth": 0,
              "ticks": ""
             }
            },
            "type": "scattermapbox"
           }
          ],
          "scatterpolar": [
           {
            "marker": {
             "colorbar": {
              "outlinewidth": 0,
              "ticks": ""
             }
            },
            "type": "scatterpolar"
           }
          ],
          "scatterpolargl": [
           {
            "marker": {
             "colorbar": {
              "outlinewidth": 0,
              "ticks": ""
             }
            },
            "type": "scatterpolargl"
           }
          ],
          "scatterternary": [
           {
            "marker": {
             "colorbar": {
              "outlinewidth": 0,
              "ticks": ""
             }
            },
            "type": "scatterternary"
           }
          ],
          "surface": [
           {
            "colorbar": {
             "outlinewidth": 0,
             "ticks": ""
            },
            "colorscale": [
             [
              0,
              "#0d0887"
             ],
             [
              0.1111111111111111,
              "#46039f"
             ],
             [
              0.2222222222222222,
              "#7201a8"
             ],
             [
              0.3333333333333333,
              "#9c179e"
             ],
             [
              0.4444444444444444,
              "#bd3786"
             ],
             [
              0.5555555555555556,
              "#d8576b"
             ],
             [
              0.6666666666666666,
              "#ed7953"
             ],
             [
              0.7777777777777778,
              "#fb9f3a"
             ],
             [
              0.8888888888888888,
              "#fdca26"
             ],
             [
              1,
              "#f0f921"
             ]
            ],
            "type": "surface"
           }
          ],
          "table": [
           {
            "cells": {
             "fill": {
              "color": "#EBF0F8"
             },
             "line": {
              "color": "white"
             }
            },
            "header": {
             "fill": {
              "color": "#C8D4E3"
             },
             "line": {
              "color": "white"
             }
            },
            "type": "table"
           }
          ]
         },
         "layout": {
          "annotationdefaults": {
           "arrowcolor": "#2a3f5f",
           "arrowhead": 0,
           "arrowwidth": 1
          },
          "autotypenumbers": "strict",
          "coloraxis": {
           "colorbar": {
            "outlinewidth": 0,
            "ticks": ""
           }
          },
          "colorscale": {
           "diverging": [
            [
             0,
             "#8e0152"
            ],
            [
             0.1,
             "#c51b7d"
            ],
            [
             0.2,
             "#de77ae"
            ],
            [
             0.3,
             "#f1b6da"
            ],
            [
             0.4,
             "#fde0ef"
            ],
            [
             0.5,
             "#f7f7f7"
            ],
            [
             0.6,
             "#e6f5d0"
            ],
            [
             0.7,
             "#b8e186"
            ],
            [
             0.8,
             "#7fbc41"
            ],
            [
             0.9,
             "#4d9221"
            ],
            [
             1,
             "#276419"
            ]
           ],
           "sequential": [
            [
             0,
             "#0d0887"
            ],
            [
             0.1111111111111111,
             "#46039f"
            ],
            [
             0.2222222222222222,
             "#7201a8"
            ],
            [
             0.3333333333333333,
             "#9c179e"
            ],
            [
             0.4444444444444444,
             "#bd3786"
            ],
            [
             0.5555555555555556,
             "#d8576b"
            ],
            [
             0.6666666666666666,
             "#ed7953"
            ],
            [
             0.7777777777777778,
             "#fb9f3a"
            ],
            [
             0.8888888888888888,
             "#fdca26"
            ],
            [
             1,
             "#f0f921"
            ]
           ],
           "sequentialminus": [
            [
             0,
             "#0d0887"
            ],
            [
             0.1111111111111111,
             "#46039f"
            ],
            [
             0.2222222222222222,
             "#7201a8"
            ],
            [
             0.3333333333333333,
             "#9c179e"
            ],
            [
             0.4444444444444444,
             "#bd3786"
            ],
            [
             0.5555555555555556,
             "#d8576b"
            ],
            [
             0.6666666666666666,
             "#ed7953"
            ],
            [
             0.7777777777777778,
             "#fb9f3a"
            ],
            [
             0.8888888888888888,
             "#fdca26"
            ],
            [
             1,
             "#f0f921"
            ]
           ]
          },
          "colorway": [
           "#636efa",
           "#EF553B",
           "#00cc96",
           "#ab63fa",
           "#FFA15A",
           "#19d3f3",
           "#FF6692",
           "#B6E880",
           "#FF97FF",
           "#FECB52"
          ],
          "font": {
           "color": "#2a3f5f"
          },
          "geo": {
           "bgcolor": "white",
           "lakecolor": "white",
           "landcolor": "#E5ECF6",
           "showlakes": true,
           "showland": true,
           "subunitcolor": "white"
          },
          "hoverlabel": {
           "align": "left"
          },
          "hovermode": "closest",
          "mapbox": {
           "style": "light"
          },
          "paper_bgcolor": "white",
          "plot_bgcolor": "#E5ECF6",
          "polar": {
           "angularaxis": {
            "gridcolor": "white",
            "linecolor": "white",
            "ticks": ""
           },
           "bgcolor": "#E5ECF6",
           "radialaxis": {
            "gridcolor": "white",
            "linecolor": "white",
            "ticks": ""
           }
          },
          "scene": {
           "xaxis": {
            "backgroundcolor": "#E5ECF6",
            "gridcolor": "white",
            "gridwidth": 2,
            "linecolor": "white",
            "showbackground": true,
            "ticks": "",
            "zerolinecolor": "white"
           },
           "yaxis": {
            "backgroundcolor": "#E5ECF6",
            "gridcolor": "white",
            "gridwidth": 2,
            "linecolor": "white",
            "showbackground": true,
            "ticks": "",
            "zerolinecolor": "white"
           },
           "zaxis": {
            "backgroundcolor": "#E5ECF6",
            "gridcolor": "white",
            "gridwidth": 2,
            "linecolor": "white",
            "showbackground": true,
            "ticks": "",
            "zerolinecolor": "white"
           }
          },
          "shapedefaults": {
           "line": {
            "color": "#2a3f5f"
           }
          },
          "ternary": {
           "aaxis": {
            "gridcolor": "white",
            "linecolor": "white",
            "ticks": ""
           },
           "baxis": {
            "gridcolor": "white",
            "linecolor": "white",
            "ticks": ""
           },
           "bgcolor": "#E5ECF6",
           "caxis": {
            "gridcolor": "white",
            "linecolor": "white",
            "ticks": ""
           }
          },
          "title": {
           "x": 0.05
          },
          "xaxis": {
           "automargin": true,
           "gridcolor": "white",
           "linecolor": "white",
           "ticks": "",
           "title": {
            "standoff": 15
           },
           "zerolinecolor": "white",
           "zerolinewidth": 2
          },
          "yaxis": {
           "automargin": true,
           "gridcolor": "white",
           "linecolor": "white",
           "ticks": "",
           "title": {
            "standoff": 15
           },
           "zerolinecolor": "white",
           "zerolinewidth": 2
          }
         }
        },
        "title": {
         "text": "Conversion Rate (%) by Contact Method and Previous Outcome"
        },
        "xaxis": {
         "anchor": "y",
         "constrain": "domain",
         "domain": [
          0,
          1
         ],
         "scaleanchor": "y",
         "title": {
          "text": "Previous Outcome"
         }
        },
        "yaxis": {
         "anchor": "x",
         "autorange": "reversed",
         "constrain": "domain",
         "domain": [
          0,
          1
         ],
         "title": {
          "text": "Contact Method"
         }
        }
       }
      }
     },
     "metadata": {},
     "output_type": "display_data"
    }
   ],
   "source": [
    "fig_heatmap = px.imshow(\n",
    "    contact_poutcome,\n",
    "    text_auto='.1f',\n",
    "    color_continuous_scale='Viridis',\n",
    "    title='Conversion Rate (%) by Contact Method and Previous Outcome',\n",
    "    labels={'x': 'Previous Outcome', 'y': 'Contact Method', 'color': 'Conversion Rate (%)'},\n",
    "    height=400\n",
    ")\n",
    "\n",
    "fig_heatmap.update_layout(\n",
    "    xaxis_title='Previous Outcome',\n",
    "    yaxis_title='Contact Method'\n",
    ")\n",
    "\n",
    "fig_heatmap.show()"
   ]
  },
  {
   "cell_type": "code",
   "execution_count": 23,
   "metadata": {},
   "outputs": [
    {
     "data": {
      "text/html": [
       "<div>\n",
       "<style scoped>\n",
       "    .dataframe tbody tr th:only-of-type {\n",
       "        vertical-align: middle;\n",
       "    }\n",
       "\n",
       "    .dataframe tbody tr th {\n",
       "        vertical-align: top;\n",
       "    }\n",
       "\n",
       "    .dataframe thead th {\n",
       "        text-align: right;\n",
       "    }\n",
       "</style>\n",
       "<table border=\"1\" class=\"dataframe\">\n",
       "  <thead>\n",
       "    <tr style=\"text-align: right;\">\n",
       "      <th></th>\n",
       "      <th>Combination</th>\n",
       "      <th>Count</th>\n",
       "      <th>Conversion Rate</th>\n",
       "      <th>Contact</th>\n",
       "      <th>Previous Outcome</th>\n",
       "      <th>Month</th>\n",
       "    </tr>\n",
       "  </thead>\n",
       "  <tbody>\n",
       "    <tr>\n",
       "      <th>29</th>\n",
       "      <td>cellular_success_sep</td>\n",
       "      <td>139</td>\n",
       "      <td>78.417266</td>\n",
       "      <td>cellular</td>\n",
       "      <td>success</td>\n",
       "      <td>sep</td>\n",
       "    </tr>\n",
       "    <tr>\n",
       "      <th>28</th>\n",
       "      <td>cellular_success_oct</td>\n",
       "      <td>127</td>\n",
       "      <td>70.866142</td>\n",
       "      <td>cellular</td>\n",
       "      <td>success</td>\n",
       "      <td>oct</td>\n",
       "    </tr>\n",
       "    <tr>\n",
       "      <th>24</th>\n",
       "      <td>cellular_success_jun</td>\n",
       "      <td>138</td>\n",
       "      <td>67.391304</td>\n",
       "      <td>cellular</td>\n",
       "      <td>success</td>\n",
       "      <td>jun</td>\n",
       "    </tr>\n",
       "    <tr>\n",
       "      <th>21</th>\n",
       "      <td>cellular_success_aug</td>\n",
       "      <td>192</td>\n",
       "      <td>67.187500</td>\n",
       "      <td>cellular</td>\n",
       "      <td>success</td>\n",
       "      <td>aug</td>\n",
       "    </tr>\n",
       "    <tr>\n",
       "      <th>20</th>\n",
       "      <td>cellular_success_apr</td>\n",
       "      <td>103</td>\n",
       "      <td>60.194175</td>\n",
       "      <td>cellular</td>\n",
       "      <td>success</td>\n",
       "      <td>apr</td>\n",
       "    </tr>\n",
       "    <tr>\n",
       "      <th>27</th>\n",
       "      <td>cellular_success_nov</td>\n",
       "      <td>148</td>\n",
       "      <td>57.432432</td>\n",
       "      <td>cellular</td>\n",
       "      <td>success</td>\n",
       "      <td>nov</td>\n",
       "    </tr>\n",
       "    <tr>\n",
       "      <th>15</th>\n",
       "      <td>cellular_nonexistent_mar</td>\n",
       "      <td>328</td>\n",
       "      <td>48.780488</td>\n",
       "      <td>cellular</td>\n",
       "      <td>nonexistent</td>\n",
       "      <td>mar</td>\n",
       "    </tr>\n",
       "    <tr>\n",
       "      <th>26</th>\n",
       "      <td>cellular_success_may</td>\n",
       "      <td>214</td>\n",
       "      <td>48.130841</td>\n",
       "      <td>cellular</td>\n",
       "      <td>success</td>\n",
       "      <td>may</td>\n",
       "    </tr>\n",
       "    <tr>\n",
       "      <th>3</th>\n",
       "      <td>cellular_failure_jul</td>\n",
       "      <td>106</td>\n",
       "      <td>42.452830</td>\n",
       "      <td>cellular</td>\n",
       "      <td>failure</td>\n",
       "      <td>jul</td>\n",
       "    </tr>\n",
       "    <tr>\n",
       "      <th>19</th>\n",
       "      <td>cellular_nonexistent_sep</td>\n",
       "      <td>222</td>\n",
       "      <td>40.990991</td>\n",
       "      <td>cellular</td>\n",
       "      <td>nonexistent</td>\n",
       "      <td>sep</td>\n",
       "    </tr>\n",
       "    <tr>\n",
       "      <th>48</th>\n",
       "      <td>telephone_nonexistent_oct</td>\n",
       "      <td>129</td>\n",
       "      <td>40.310078</td>\n",
       "      <td>telephone</td>\n",
       "      <td>nonexistent</td>\n",
       "      <td>oct</td>\n",
       "    </tr>\n",
       "    <tr>\n",
       "      <th>14</th>\n",
       "      <td>cellular_nonexistent_jun</td>\n",
       "      <td>527</td>\n",
       "      <td>39.278937</td>\n",
       "      <td>cellular</td>\n",
       "      <td>nonexistent</td>\n",
       "      <td>jun</td>\n",
       "    </tr>\n",
       "    <tr>\n",
       "      <th>18</th>\n",
       "      <td>cellular_nonexistent_oct</td>\n",
       "      <td>285</td>\n",
       "      <td>38.596491</td>\n",
       "      <td>cellular</td>\n",
       "      <td>nonexistent</td>\n",
       "      <td>oct</td>\n",
       "    </tr>\n",
       "    <tr>\n",
       "      <th>8</th>\n",
       "      <td>cellular_failure_oct</td>\n",
       "      <td>151</td>\n",
       "      <td>35.099338</td>\n",
       "      <td>cellular</td>\n",
       "      <td>failure</td>\n",
       "      <td>oct</td>\n",
       "    </tr>\n",
       "    <tr>\n",
       "      <th>1</th>\n",
       "      <td>cellular_failure_aug</td>\n",
       "      <td>234</td>\n",
       "      <td>32.051282</td>\n",
       "      <td>cellular</td>\n",
       "      <td>failure</td>\n",
       "      <td>aug</td>\n",
       "    </tr>\n",
       "    <tr>\n",
       "      <th>4</th>\n",
       "      <td>cellular_failure_jun</td>\n",
       "      <td>155</td>\n",
       "      <td>31.612903</td>\n",
       "      <td>cellular</td>\n",
       "      <td>failure</td>\n",
       "      <td>jun</td>\n",
       "    </tr>\n",
       "    <tr>\n",
       "      <th>9</th>\n",
       "      <td>cellular_failure_sep</td>\n",
       "      <td>121</td>\n",
       "      <td>31.404959</td>\n",
       "      <td>cellular</td>\n",
       "      <td>failure</td>\n",
       "      <td>sep</td>\n",
       "    </tr>\n",
       "    <tr>\n",
       "      <th>40</th>\n",
       "      <td>telephone_nonexistent_apr</td>\n",
       "      <td>149</td>\n",
       "      <td>22.147651</td>\n",
       "      <td>telephone</td>\n",
       "      <td>nonexistent</td>\n",
       "      <td>apr</td>\n",
       "    </tr>\n",
       "    <tr>\n",
       "      <th>10</th>\n",
       "      <td>cellular_nonexistent_apr</td>\n",
       "      <td>1725</td>\n",
       "      <td>21.101449</td>\n",
       "      <td>cellular</td>\n",
       "      <td>nonexistent</td>\n",
       "      <td>apr</td>\n",
       "    </tr>\n",
       "    <tr>\n",
       "      <th>41</th>\n",
       "      <td>telephone_nonexistent_aug</td>\n",
       "      <td>236</td>\n",
       "      <td>11.016949</td>\n",
       "      <td>telephone</td>\n",
       "      <td>nonexistent</td>\n",
       "      <td>aug</td>\n",
       "    </tr>\n",
       "    <tr>\n",
       "      <th>0</th>\n",
       "      <td>cellular_failure_apr</td>\n",
       "      <td>617</td>\n",
       "      <td>10.858995</td>\n",
       "      <td>cellular</td>\n",
       "      <td>failure</td>\n",
       "      <td>apr</td>\n",
       "    </tr>\n",
       "    <tr>\n",
       "      <th>16</th>\n",
       "      <td>cellular_nonexistent_may</td>\n",
       "      <td>3643</td>\n",
       "      <td>10.458413</td>\n",
       "      <td>cellular</td>\n",
       "      <td>nonexistent</td>\n",
       "      <td>may</td>\n",
       "    </tr>\n",
       "    <tr>\n",
       "      <th>47</th>\n",
       "      <td>telephone_nonexistent_nov</td>\n",
       "      <td>354</td>\n",
       "      <td>10.169492</td>\n",
       "      <td>telephone</td>\n",
       "      <td>nonexistent</td>\n",
       "      <td>nov</td>\n",
       "    </tr>\n",
       "    <tr>\n",
       "      <th>7</th>\n",
       "      <td>cellular_failure_nov</td>\n",
       "      <td>785</td>\n",
       "      <td>8.662420</td>\n",
       "      <td>cellular</td>\n",
       "      <td>failure</td>\n",
       "      <td>nov</td>\n",
       "    </tr>\n",
       "    <tr>\n",
       "      <th>13</th>\n",
       "      <td>cellular_nonexistent_jul</td>\n",
       "      <td>5893</td>\n",
       "      <td>8.043441</td>\n",
       "      <td>cellular</td>\n",
       "      <td>nonexistent</td>\n",
       "      <td>jul</td>\n",
       "    </tr>\n",
       "    <tr>\n",
       "      <th>6</th>\n",
       "      <td>cellular_failure_may</td>\n",
       "      <td>1661</td>\n",
       "      <td>7.826610</td>\n",
       "      <td>cellular</td>\n",
       "      <td>failure</td>\n",
       "      <td>may</td>\n",
       "    </tr>\n",
       "    <tr>\n",
       "      <th>17</th>\n",
       "      <td>cellular_nonexistent_nov</td>\n",
       "      <td>2743</td>\n",
       "      <td>7.765221</td>\n",
       "      <td>cellular</td>\n",
       "      <td>nonexistent</td>\n",
       "      <td>nov</td>\n",
       "    </tr>\n",
       "    <tr>\n",
       "      <th>11</th>\n",
       "      <td>cellular_nonexistent_aug</td>\n",
       "      <td>5483</td>\n",
       "      <td>7.568849</td>\n",
       "      <td>cellular</td>\n",
       "      <td>nonexistent</td>\n",
       "      <td>aug</td>\n",
       "    </tr>\n",
       "    <tr>\n",
       "      <th>44</th>\n",
       "      <td>telephone_nonexistent_jun</td>\n",
       "      <td>4476</td>\n",
       "      <td>4.535299</td>\n",
       "      <td>telephone</td>\n",
       "      <td>nonexistent</td>\n",
       "      <td>jun</td>\n",
       "    </tr>\n",
       "    <tr>\n",
       "      <th>43</th>\n",
       "      <td>telephone_nonexistent_jul</td>\n",
       "      <td>1053</td>\n",
       "      <td>4.178538</td>\n",
       "      <td>telephone</td>\n",
       "      <td>nonexistent</td>\n",
       "      <td>jul</td>\n",
       "    </tr>\n",
       "    <tr>\n",
       "      <th>46</th>\n",
       "      <td>telephone_nonexistent_may</td>\n",
       "      <td>8117</td>\n",
       "      <td>3.227794</td>\n",
       "      <td>telephone</td>\n",
       "      <td>nonexistent</td>\n",
       "      <td>may</td>\n",
       "    </tr>\n",
       "    <tr>\n",
       "      <th>36</th>\n",
       "      <td>telephone_failure_may</td>\n",
       "      <td>118</td>\n",
       "      <td>0.000000</td>\n",
       "      <td>telephone</td>\n",
       "      <td>failure</td>\n",
       "      <td>may</td>\n",
       "    </tr>\n",
       "  </tbody>\n",
       "</table>\n",
       "</div>"
      ],
      "text/plain": [
       "                  Combination  Count  Conversion Rate    Contact  \\\n",
       "29       cellular_success_sep    139        78.417266   cellular   \n",
       "28       cellular_success_oct    127        70.866142   cellular   \n",
       "24       cellular_success_jun    138        67.391304   cellular   \n",
       "21       cellular_success_aug    192        67.187500   cellular   \n",
       "20       cellular_success_apr    103        60.194175   cellular   \n",
       "27       cellular_success_nov    148        57.432432   cellular   \n",
       "15   cellular_nonexistent_mar    328        48.780488   cellular   \n",
       "26       cellular_success_may    214        48.130841   cellular   \n",
       "3        cellular_failure_jul    106        42.452830   cellular   \n",
       "19   cellular_nonexistent_sep    222        40.990991   cellular   \n",
       "48  telephone_nonexistent_oct    129        40.310078  telephone   \n",
       "14   cellular_nonexistent_jun    527        39.278937   cellular   \n",
       "18   cellular_nonexistent_oct    285        38.596491   cellular   \n",
       "8        cellular_failure_oct    151        35.099338   cellular   \n",
       "1        cellular_failure_aug    234        32.051282   cellular   \n",
       "4        cellular_failure_jun    155        31.612903   cellular   \n",
       "9        cellular_failure_sep    121        31.404959   cellular   \n",
       "40  telephone_nonexistent_apr    149        22.147651  telephone   \n",
       "10   cellular_nonexistent_apr   1725        21.101449   cellular   \n",
       "41  telephone_nonexistent_aug    236        11.016949  telephone   \n",
       "0        cellular_failure_apr    617        10.858995   cellular   \n",
       "16   cellular_nonexistent_may   3643        10.458413   cellular   \n",
       "47  telephone_nonexistent_nov    354        10.169492  telephone   \n",
       "7        cellular_failure_nov    785         8.662420   cellular   \n",
       "13   cellular_nonexistent_jul   5893         8.043441   cellular   \n",
       "6        cellular_failure_may   1661         7.826610   cellular   \n",
       "17   cellular_nonexistent_nov   2743         7.765221   cellular   \n",
       "11   cellular_nonexistent_aug   5483         7.568849   cellular   \n",
       "44  telephone_nonexistent_jun   4476         4.535299  telephone   \n",
       "43  telephone_nonexistent_jul   1053         4.178538  telephone   \n",
       "46  telephone_nonexistent_may   8117         3.227794  telephone   \n",
       "36      telephone_failure_may    118         0.000000  telephone   \n",
       "\n",
       "   Previous Outcome Month  \n",
       "29          success   sep  \n",
       "28          success   oct  \n",
       "24          success   jun  \n",
       "21          success   aug  \n",
       "20          success   apr  \n",
       "27          success   nov  \n",
       "15      nonexistent   mar  \n",
       "26          success   may  \n",
       "3           failure   jul  \n",
       "19      nonexistent   sep  \n",
       "48      nonexistent   oct  \n",
       "14      nonexistent   jun  \n",
       "18      nonexistent   oct  \n",
       "8           failure   oct  \n",
       "1           failure   aug  \n",
       "4           failure   jun  \n",
       "9           failure   sep  \n",
       "40      nonexistent   apr  \n",
       "10      nonexistent   apr  \n",
       "41      nonexistent   aug  \n",
       "0           failure   apr  \n",
       "16      nonexistent   may  \n",
       "47      nonexistent   nov  \n",
       "7           failure   nov  \n",
       "13      nonexistent   jul  \n",
       "6           failure   may  \n",
       "17      nonexistent   nov  \n",
       "11      nonexistent   aug  \n",
       "44      nonexistent   jun  \n",
       "43      nonexistent   jul  \n",
       "46      nonexistent   may  \n",
       "36          failure   may  "
      ]
     },
     "execution_count": 23,
     "metadata": {},
     "output_type": "execute_result"
    }
   ],
   "source": [
    "df['key_combo'] = df['contact'] + '_' + df['poutcome'] + '_' + df['month']\n",
    "\n",
    "# Get conversion rates for combinations with significant sample size\n",
    "combo_conversion = df.groupby('key_combo')['converted'].agg(['count', 'mean']).reset_index()\n",
    "combo_conversion.columns = ['Combination', 'Count', 'Conversion Rate']\n",
    "combo_conversion['Conversion Rate'] = combo_conversion['Conversion Rate'] * 100\n",
    "combo_conversion = combo_conversion[combo_conversion['Count'] >= 100]\n",
    "combo_conversion = combo_conversion.sort_values('Conversion Rate', ascending=False)\n",
    "\n",
    "combo_conversion[['Contact', 'Previous Outcome', 'Month']] = combo_conversion['Combination'].str.split('_', expand=True)\n",
    "combo_conversion"
   ]
  },
  {
   "cell_type": "code",
   "execution_count": 24,
   "metadata": {},
   "outputs": [
    {
     "data": {
      "application/vnd.plotly.v1+json": {
       "config": {
        "plotlyServerURL": "https://plot.ly"
       },
       "data": [
        {
         "customdata": [
          [
           "cellular",
           "success",
           "sep",
           139
          ],
          [
           "cellular",
           "success",
           "oct",
           127
          ],
          [
           "cellular",
           "success",
           "jun",
           138
          ],
          [
           "cellular",
           "success",
           "aug",
           192
          ],
          [
           "cellular",
           "success",
           "apr",
           103
          ],
          [
           "cellular",
           "success",
           "nov",
           148
          ],
          [
           "cellular",
           "nonexistent",
           "mar",
           328
          ],
          [
           "cellular",
           "success",
           "may",
           214
          ],
          [
           "cellular",
           "failure",
           "jul",
           106
          ],
          [
           "cellular",
           "nonexistent",
           "sep",
           222
          ],
          [
           "telephone",
           "nonexistent",
           "oct",
           129
          ],
          [
           "cellular",
           "nonexistent",
           "jun",
           527
          ],
          [
           "cellular",
           "nonexistent",
           "oct",
           285
          ],
          [
           "cellular",
           "failure",
           "oct",
           151
          ],
          [
           "cellular",
           "failure",
           "aug",
           234
          ]
         ],
         "hovertemplate": "Conversion Rate (%)=%{marker.color}<br>Combination=%{y}<br>text=%{text}<br>Contact=%{customdata[0]}<br>Previous Outcome=%{customdata[1]}<br>Month=%{customdata[2]}<br>Count=%{customdata[3]}<extra></extra>",
         "legendgroup": "",
         "marker": {
          "color": {
           "bdata": "6MY8fbSaU0DudrvdbrdRQIYsZCEL2VBAAAAAAADMUEDTHey32hhOQHaDKfJZt0xAZHA+BudjSECv5eBmvxBIQGqC8Vb2OUVA7Xf0yth+REAKe8KesCdEQKNhWTi0o0NAxXQW01lMQ0DdMm4Zt4xBQGmQBmmQBkBA",
           "dtype": "f8"
          },
          "coloraxis": "coloraxis",
          "pattern": {
           "shape": ""
          }
         },
         "name": "",
         "orientation": "h",
         "showlegend": false,
         "text": [
          "78.4%",
          "70.9%",
          "67.4%",
          "67.2%",
          "60.2%",
          "57.4%",
          "48.8%",
          "48.1%",
          "42.5%",
          "41.0%",
          "40.3%",
          "39.3%",
          "38.6%",
          "35.1%",
          "32.1%"
         ],
         "textposition": "auto",
         "type": "bar",
         "x": {
          "bdata": "6MY8fbSaU0DudrvdbrdRQIYsZCEL2VBAAAAAAADMUEDTHey32hhOQHaDKfJZt0xAZHA+BudjSECv5eBmvxBIQGqC8Vb2OUVA7Xf0yth+REAKe8KesCdEQKNhWTi0o0NAxXQW01lMQ0DdMm4Zt4xBQGmQBmmQBkBA",
          "dtype": "f8"
         },
         "xaxis": "x",
         "y": [
          "cellular_success_sep",
          "cellular_success_oct",
          "cellular_success_jun",
          "cellular_success_aug",
          "cellular_success_apr",
          "cellular_success_nov",
          "cellular_nonexistent_mar",
          "cellular_success_may",
          "cellular_failure_jul",
          "cellular_nonexistent_sep",
          "telephone_nonexistent_oct",
          "cellular_nonexistent_jun",
          "cellular_nonexistent_oct",
          "cellular_failure_oct",
          "cellular_failure_aug"
         ],
         "yaxis": "y"
        }
       ],
       "layout": {
        "barmode": "relative",
        "coloraxis": {
         "colorbar": {
          "title": {
           "text": "Conversion Rate (%)"
          }
         },
         "colorscale": [
          [
           0,
           "#440154"
          ],
          [
           0.1111111111111111,
           "#482878"
          ],
          [
           0.2222222222222222,
           "#3e4989"
          ],
          [
           0.3333333333333333,
           "#31688e"
          ],
          [
           0.4444444444444444,
           "#26828e"
          ],
          [
           0.5555555555555556,
           "#1f9e89"
          ],
          [
           0.6666666666666666,
           "#35b779"
          ],
          [
           0.7777777777777778,
           "#6ece58"
          ],
          [
           0.8888888888888888,
           "#b5de2b"
          ],
          [
           1,
           "#fde725"
          ]
         ],
         "showscale": false
        },
        "height": 600,
        "legend": {
         "tracegroupgap": 0
        },
        "template": {
         "data": {
          "bar": [
           {
            "error_x": {
             "color": "#2a3f5f"
            },
            "error_y": {
             "color": "#2a3f5f"
            },
            "marker": {
             "line": {
              "color": "#E5ECF6",
              "width": 0.5
             },
             "pattern": {
              "fillmode": "overlay",
              "size": 10,
              "solidity": 0.2
             }
            },
            "type": "bar"
           }
          ],
          "barpolar": [
           {
            "marker": {
             "line": {
              "color": "#E5ECF6",
              "width": 0.5
             },
             "pattern": {
              "fillmode": "overlay",
              "size": 10,
              "solidity": 0.2
             }
            },
            "type": "barpolar"
           }
          ],
          "carpet": [
           {
            "aaxis": {
             "endlinecolor": "#2a3f5f",
             "gridcolor": "white",
             "linecolor": "white",
             "minorgridcolor": "white",
             "startlinecolor": "#2a3f5f"
            },
            "baxis": {
             "endlinecolor": "#2a3f5f",
             "gridcolor": "white",
             "linecolor": "white",
             "minorgridcolor": "white",
             "startlinecolor": "#2a3f5f"
            },
            "type": "carpet"
           }
          ],
          "choropleth": [
           {
            "colorbar": {
             "outlinewidth": 0,
             "ticks": ""
            },
            "type": "choropleth"
           }
          ],
          "contour": [
           {
            "colorbar": {
             "outlinewidth": 0,
             "ticks": ""
            },
            "colorscale": [
             [
              0,
              "#0d0887"
             ],
             [
              0.1111111111111111,
              "#46039f"
             ],
             [
              0.2222222222222222,
              "#7201a8"
             ],
             [
              0.3333333333333333,
              "#9c179e"
             ],
             [
              0.4444444444444444,
              "#bd3786"
             ],
             [
              0.5555555555555556,
              "#d8576b"
             ],
             [
              0.6666666666666666,
              "#ed7953"
             ],
             [
              0.7777777777777778,
              "#fb9f3a"
             ],
             [
              0.8888888888888888,
              "#fdca26"
             ],
             [
              1,
              "#f0f921"
             ]
            ],
            "type": "contour"
           }
          ],
          "contourcarpet": [
           {
            "colorbar": {
             "outlinewidth": 0,
             "ticks": ""
            },
            "type": "contourcarpet"
           }
          ],
          "heatmap": [
           {
            "colorbar": {
             "outlinewidth": 0,
             "ticks": ""
            },
            "colorscale": [
             [
              0,
              "#0d0887"
             ],
             [
              0.1111111111111111,
              "#46039f"
             ],
             [
              0.2222222222222222,
              "#7201a8"
             ],
             [
              0.3333333333333333,
              "#9c179e"
             ],
             [
              0.4444444444444444,
              "#bd3786"
             ],
             [
              0.5555555555555556,
              "#d8576b"
             ],
             [
              0.6666666666666666,
              "#ed7953"
             ],
             [
              0.7777777777777778,
              "#fb9f3a"
             ],
             [
              0.8888888888888888,
              "#fdca26"
             ],
             [
              1,
              "#f0f921"
             ]
            ],
            "type": "heatmap"
           }
          ],
          "histogram": [
           {
            "marker": {
             "pattern": {
              "fillmode": "overlay",
              "size": 10,
              "solidity": 0.2
             }
            },
            "type": "histogram"
           }
          ],
          "histogram2d": [
           {
            "colorbar": {
             "outlinewidth": 0,
             "ticks": ""
            },
            "colorscale": [
             [
              0,
              "#0d0887"
             ],
             [
              0.1111111111111111,
              "#46039f"
             ],
             [
              0.2222222222222222,
              "#7201a8"
             ],
             [
              0.3333333333333333,
              "#9c179e"
             ],
             [
              0.4444444444444444,
              "#bd3786"
             ],
             [
              0.5555555555555556,
              "#d8576b"
             ],
             [
              0.6666666666666666,
              "#ed7953"
             ],
             [
              0.7777777777777778,
              "#fb9f3a"
             ],
             [
              0.8888888888888888,
              "#fdca26"
             ],
             [
              1,
              "#f0f921"
             ]
            ],
            "type": "histogram2d"
           }
          ],
          "histogram2dcontour": [
           {
            "colorbar": {
             "outlinewidth": 0,
             "ticks": ""
            },
            "colorscale": [
             [
              0,
              "#0d0887"
             ],
             [
              0.1111111111111111,
              "#46039f"
             ],
             [
              0.2222222222222222,
              "#7201a8"
             ],
             [
              0.3333333333333333,
              "#9c179e"
             ],
             [
              0.4444444444444444,
              "#bd3786"
             ],
             [
              0.5555555555555556,
              "#d8576b"
             ],
             [
              0.6666666666666666,
              "#ed7953"
             ],
             [
              0.7777777777777778,
              "#fb9f3a"
             ],
             [
              0.8888888888888888,
              "#fdca26"
             ],
             [
              1,
              "#f0f921"
             ]
            ],
            "type": "histogram2dcontour"
           }
          ],
          "mesh3d": [
           {
            "colorbar": {
             "outlinewidth": 0,
             "ticks": ""
            },
            "type": "mesh3d"
           }
          ],
          "parcoords": [
           {
            "line": {
             "colorbar": {
              "outlinewidth": 0,
              "ticks": ""
             }
            },
            "type": "parcoords"
           }
          ],
          "pie": [
           {
            "automargin": true,
            "type": "pie"
           }
          ],
          "scatter": [
           {
            "fillpattern": {
             "fillmode": "overlay",
             "size": 10,
             "solidity": 0.2
            },
            "type": "scatter"
           }
          ],
          "scatter3d": [
           {
            "line": {
             "colorbar": {
              "outlinewidth": 0,
              "ticks": ""
             }
            },
            "marker": {
             "colorbar": {
              "outlinewidth": 0,
              "ticks": ""
             }
            },
            "type": "scatter3d"
           }
          ],
          "scattercarpet": [
           {
            "marker": {
             "colorbar": {
              "outlinewidth": 0,
              "ticks": ""
             }
            },
            "type": "scattercarpet"
           }
          ],
          "scattergeo": [
           {
            "marker": {
             "colorbar": {
              "outlinewidth": 0,
              "ticks": ""
             }
            },
            "type": "scattergeo"
           }
          ],
          "scattergl": [
           {
            "marker": {
             "colorbar": {
              "outlinewidth": 0,
              "ticks": ""
             }
            },
            "type": "scattergl"
           }
          ],
          "scattermap": [
           {
            "marker": {
             "colorbar": {
              "outlinewidth": 0,
              "ticks": ""
             }
            },
            "type": "scattermap"
           }
          ],
          "scattermapbox": [
           {
            "marker": {
             "colorbar": {
              "outlinewidth": 0,
              "ticks": ""
             }
            },
            "type": "scattermapbox"
           }
          ],
          "scatterpolar": [
           {
            "marker": {
             "colorbar": {
              "outlinewidth": 0,
              "ticks": ""
             }
            },
            "type": "scatterpolar"
           }
          ],
          "scatterpolargl": [
           {
            "marker": {
             "colorbar": {
              "outlinewidth": 0,
              "ticks": ""
             }
            },
            "type": "scatterpolargl"
           }
          ],
          "scatterternary": [
           {
            "marker": {
             "colorbar": {
              "outlinewidth": 0,
              "ticks": ""
             }
            },
            "type": "scatterternary"
           }
          ],
          "surface": [
           {
            "colorbar": {
             "outlinewidth": 0,
             "ticks": ""
            },
            "colorscale": [
             [
              0,
              "#0d0887"
             ],
             [
              0.1111111111111111,
              "#46039f"
             ],
             [
              0.2222222222222222,
              "#7201a8"
             ],
             [
              0.3333333333333333,
              "#9c179e"
             ],
             [
              0.4444444444444444,
              "#bd3786"
             ],
             [
              0.5555555555555556,
              "#d8576b"
             ],
             [
              0.6666666666666666,
              "#ed7953"
             ],
             [
              0.7777777777777778,
              "#fb9f3a"
             ],
             [
              0.8888888888888888,
              "#fdca26"
             ],
             [
              1,
              "#f0f921"
             ]
            ],
            "type": "surface"
           }
          ],
          "table": [
           {
            "cells": {
             "fill": {
              "color": "#EBF0F8"
             },
             "line": {
              "color": "white"
             }
            },
            "header": {
             "fill": {
              "color": "#C8D4E3"
             },
             "line": {
              "color": "white"
             }
            },
            "type": "table"
           }
          ]
         },
         "layout": {
          "annotationdefaults": {
           "arrowcolor": "#2a3f5f",
           "arrowhead": 0,
           "arrowwidth": 1
          },
          "autotypenumbers": "strict",
          "coloraxis": {
           "colorbar": {
            "outlinewidth": 0,
            "ticks": ""
           }
          },
          "colorscale": {
           "diverging": [
            [
             0,
             "#8e0152"
            ],
            [
             0.1,
             "#c51b7d"
            ],
            [
             0.2,
             "#de77ae"
            ],
            [
             0.3,
             "#f1b6da"
            ],
            [
             0.4,
             "#fde0ef"
            ],
            [
             0.5,
             "#f7f7f7"
            ],
            [
             0.6,
             "#e6f5d0"
            ],
            [
             0.7,
             "#b8e186"
            ],
            [
             0.8,
             "#7fbc41"
            ],
            [
             0.9,
             "#4d9221"
            ],
            [
             1,
             "#276419"
            ]
           ],
           "sequential": [
            [
             0,
             "#0d0887"
            ],
            [
             0.1111111111111111,
             "#46039f"
            ],
            [
             0.2222222222222222,
             "#7201a8"
            ],
            [
             0.3333333333333333,
             "#9c179e"
            ],
            [
             0.4444444444444444,
             "#bd3786"
            ],
            [
             0.5555555555555556,
             "#d8576b"
            ],
            [
             0.6666666666666666,
             "#ed7953"
            ],
            [
             0.7777777777777778,
             "#fb9f3a"
            ],
            [
             0.8888888888888888,
             "#fdca26"
            ],
            [
             1,
             "#f0f921"
            ]
           ],
           "sequentialminus": [
            [
             0,
             "#0d0887"
            ],
            [
             0.1111111111111111,
             "#46039f"
            ],
            [
             0.2222222222222222,
             "#7201a8"
            ],
            [
             0.3333333333333333,
             "#9c179e"
            ],
            [
             0.4444444444444444,
             "#bd3786"
            ],
            [
             0.5555555555555556,
             "#d8576b"
            ],
            [
             0.6666666666666666,
             "#ed7953"
            ],
            [
             0.7777777777777778,
             "#fb9f3a"
            ],
            [
             0.8888888888888888,
             "#fdca26"
            ],
            [
             1,
             "#f0f921"
            ]
           ]
          },
          "colorway": [
           "#636efa",
           "#EF553B",
           "#00cc96",
           "#ab63fa",
           "#FFA15A",
           "#19d3f3",
           "#FF6692",
           "#B6E880",
           "#FF97FF",
           "#FECB52"
          ],
          "font": {
           "color": "#2a3f5f"
          },
          "geo": {
           "bgcolor": "white",
           "lakecolor": "white",
           "landcolor": "#E5ECF6",
           "showlakes": true,
           "showland": true,
           "subunitcolor": "white"
          },
          "hoverlabel": {
           "align": "left"
          },
          "hovermode": "closest",
          "mapbox": {
           "style": "light"
          },
          "paper_bgcolor": "white",
          "plot_bgcolor": "#E5ECF6",
          "polar": {
           "angularaxis": {
            "gridcolor": "white",
            "linecolor": "white",
            "ticks": ""
           },
           "bgcolor": "#E5ECF6",
           "radialaxis": {
            "gridcolor": "white",
            "linecolor": "white",
            "ticks": ""
           }
          },
          "scene": {
           "xaxis": {
            "backgroundcolor": "#E5ECF6",
            "gridcolor": "white",
            "gridwidth": 2,
            "linecolor": "white",
            "showbackground": true,
            "ticks": "",
            "zerolinecolor": "white"
           },
           "yaxis": {
            "backgroundcolor": "#E5ECF6",
            "gridcolor": "white",
            "gridwidth": 2,
            "linecolor": "white",
            "showbackground": true,
            "ticks": "",
            "zerolinecolor": "white"
           },
           "zaxis": {
            "backgroundcolor": "#E5ECF6",
            "gridcolor": "white",
            "gridwidth": 2,
            "linecolor": "white",
            "showbackground": true,
            "ticks": "",
            "zerolinecolor": "white"
           }
          },
          "shapedefaults": {
           "line": {
            "color": "#2a3f5f"
           }
          },
          "ternary": {
           "aaxis": {
            "gridcolor": "white",
            "linecolor": "white",
            "ticks": ""
           },
           "baxis": {
            "gridcolor": "white",
            "linecolor": "white",
            "ticks": ""
           },
           "bgcolor": "#E5ECF6",
           "caxis": {
            "gridcolor": "white",
            "linecolor": "white",
            "ticks": ""
           }
          },
          "title": {
           "x": 0.05
          },
          "xaxis": {
           "automargin": true,
           "gridcolor": "white",
           "linecolor": "white",
           "ticks": "",
           "title": {
            "standoff": 15
           },
           "zerolinecolor": "white",
           "zerolinewidth": 2
          },
          "yaxis": {
           "automargin": true,
           "gridcolor": "white",
           "linecolor": "white",
           "ticks": "",
           "title": {
            "standoff": 15
           },
           "zerolinecolor": "white",
           "zerolinewidth": 2
          }
         }
        },
        "title": {
         "text": "Top 15 Feature Combinations by Conversion Rate"
        },
        "xaxis": {
         "anchor": "y",
         "domain": [
          0,
          1
         ],
         "title": {
          "text": "Conversion Rate (%)"
         }
        },
        "yaxis": {
         "anchor": "x",
         "domain": [
          0,
          1
         ],
         "title": {}
        }
       }
      }
     },
     "metadata": {},
     "output_type": "display_data"
    }
   ],
   "source": [
    "# Create horizontal bar chart for top combinations\n",
    "fig_top_combos = px.bar(\n",
    "    combo_conversion.head(15), \n",
    "    y='Combination', \n",
    "    x='Conversion Rate',\n",
    "    color='Conversion Rate',\n",
    "    color_continuous_scale='Viridis',\n",
    "    text=combo_conversion.head(15)['Conversion Rate'].apply(lambda x: f\"{x:.1f}%\"),\n",
    "    hover_data=['Contact', 'Previous Outcome', 'Month', 'Count'],\n",
    "    title='Top 15 Feature Combinations by Conversion Rate',\n",
    "    labels={'Conversion Rate': 'Conversion Rate (%)'},\n",
    "    height=600\n",
    ")\n",
    "\n",
    "fig_top_combos.update_layout(\n",
    "    yaxis_title=None,\n",
    "    xaxis_title='Conversion Rate (%)',\n",
    "    coloraxis_showscale=False\n",
    ")\n",
    "\n",
    "fig_top_combos.show()"
   ]
  },
  {
   "cell_type": "markdown",
   "metadata": {},
   "source": [
    "### Interpretation of Multivariate Analysis:\n",
    "\n",
    "The multivariate analysis combines our top three individual predictors (contact method, previous outcome, and month) to identify the most powerful predictor combinations:\n",
    "\n",
    "1. **Contact Method × Previous Outcome Heatmap**: \n",
    "   - The most powerful combination by far is cellular contacts with previously successful customers (7804% conversion rate)\n",
    "   - Even previously unsuccessful customers convert well (32%) when contacted via cellular\n",
    "   - The telephone channel performs poorly across all previous outcome categories\n",
    "   \n",
    "2. **Top Feature Combinations**: \n",
    "   - The highest-converting combinations (70-90% conversion rates) all involve cellular contacts with previously successful customers during peak months (Mar, Sep, Oct, Dec)\n",
    "   - The combination of these three factors creates extraordinarily powerful targeting criteria\n",
    "   - Even with a reasonable sample size filter (100+ customers per combination), several combinations achieve over 75% conversion rates\n",
    "\n",
    "This multivariate analysis shows that while individual factors have strong effects, their combinations create exponentially more predictive power. The right combination of factors can identify customer segments with conversion rates 7-8 times higher than the average.\n",
    "\n",
    "**Recommendation:** The predictive model should incorporate interaction terms between these key features to capture these powerful combined effects. The targeting strategy should prioritize these high-conversion combinations to maximize efficiency.\n"
   ]
  },
  {
   "cell_type": "code",
   "execution_count": null,
   "metadata": {},
   "outputs": [],
   "source": []
  },
  {
   "cell_type": "markdown",
   "metadata": {},
   "source": [
    "1. Contact Method\n",
    "Contact via mobile phone (cellular) has a significantly higher conversion rate than contact via landline.\n",
    "Recommendation: Prioritize reaching out to customers on their mobile phones and use landlines only as a backup.\n",
    "2. Previous Campaign Outcome\n",
    "Customers who previously subscribed to a term deposit have a conversion rate of ~65%, about 6 times the average.\n",
    "Customers previously contacted but not converted still have an above-average rate (~14%).\n",
    "Recommendation: Segment and prioritize customers based on previous outcomes, focusing on those who have already converted.\n",
    "3. Occupation\n",
    "Students and retired individuals have the highest conversion rates (31% and 25%).\n",
    "Recommendation: Target these segments with dedicated campaigns.\n",
    "4. Seasonality (Month of Contact)\n",
    "March, December, September, and October have the highest conversion rates (40-50%).\n",
    "Recommendation: Schedule main campaigns during these months for maximum efficiency.\n",
    "5. Education Level\n",
    "There is a positive correlation between education level and conversion rate. University graduates and those with unknown education have higher rates.\n",
    "Recommendation: Give more weight to higher education segments in targeting.\n",
    "6. Age\n",
    "The relationship is U-shaped: young adults (18-25) and seniors (65+) have higher conversion rates.\n",
    "Recommendation: Use age groups rather than raw age and focus on the youngest and oldest segments.\n",
    "7. Economic Indicators\n",
    "Lower employment variation rate and lower Euribor are associated with significantly higher conversion rates.\n",
    "Recommendation: Adjust campaigns based on macroeconomic context and include these indicators in the predictive model.\n",
    "8. Previous Contact History\n",
    "Previously contacted customers have a much higher conversion rate (27% vs. 9.6%).\n",
    "Contact frequency: Each additional contact increases conversion rate, but with diminishing returns.\n",
    "Recommendation: Implement a systematic re-contact strategy.\n",
    "9. Number of Contacts in the Current Campaign\n",
    "More contacts within a single campaign decrease the conversion rate (possible customer fatigue or annoyance).\n",
    "Recommendation: Avoid repeated contacts in a short timeframe; focus on quality conversations.\n",
    "10. Multivariate Analysis (Combinations of Factors)\n",
    "The most powerful combination: mobile contact + previous success + peak months → conversion rates of 70-90%.\n",
    "Recommendation: Model and target segments with these combinations for maximum efficiency."
   ]
  },
  {
   "cell_type": "code",
   "execution_count": null,
   "metadata": {},
   "outputs": [],
   "source": []
  },
  {
   "cell_type": "markdown",
   "metadata": {},
   "source": [
    "## The most important predictive characteristics:\n",
    "\n",
    "**1. Previous campaign outcome (poutcome):**\n",
    "    Previously successful customers have an extremely high conversion rate (65%)\n",
    "    Even customers previously contacted unsuccessfully have an above-average conversion rate (14%)\n",
    "\n",
    "**2. Contact method (contact):**\n",
    "    Mobile phone contact (cellular) has a significantly higher conversion rate (14.7%) than landline phone (5.2%)\n",
    "\n",
    "**3. Month of contact (month):**\n",
    "    March, September, October and December have conversion rates 4-5 times above average (40-50%)\n",
    "    Summer months have lower conversion rates\n",
    "\n",
    "**4. Job:**\n",
    "    Students (31.4%) and retirees (25.2%) have the highest conversion rates\n",
    "    Blue-collar workers have the lowest conversion rates (6.9%)\n",
    "\n",
    "**5. Education level (education):**\n",
    "    People without formal education and those with higher education have above average conversion rates\n",
    "    \n",
    "**6.Factor combinations:**\n",
    "    The combination \"mobile phone + previous successful result + month Sep/Oct\" has conversion rates of over 70%"
   ]
  },
  {
   "cell_type": "code",
   "execution_count": null,
   "metadata": {},
   "outputs": [],
   "source": []
  },
  {
   "cell_type": "code",
   "execution_count": null,
   "metadata": {},
   "outputs": [],
   "source": []
  }
 ],
 "metadata": {
  "kernelspec": {
   "display_name": "Python 3",
   "language": "python",
   "name": "python3"
  },
  "language_info": {
   "codemirror_mode": {
    "name": "ipython",
    "version": 3
   },
   "file_extension": ".py",
   "mimetype": "text/x-python",
   "name": "python",
   "nbconvert_exporter": "python",
   "pygments_lexer": "ipython3",
   "version": "3.13.2"
  }
 },
 "nbformat": 4,
 "nbformat_minor": 2
}
